{
 "cells": [
  {
   "cell_type": "code",
   "execution_count": 1,
   "metadata": {
    "_cell_guid": "b1076dfc-b9ad-4769-8c92-a6c4dae69d19",
    "_uuid": "8f2839f25d086af736a60e9eeb907d3b93b6e0e5"
   },
   "outputs": [
    {
     "name": "stderr",
     "output_type": "stream",
     "text": [
      "Using TensorFlow backend.\n"
     ]
    }
   ],
   "source": [
    "import numpy as np\n",
    "import pandas as pd\n",
    "\n",
    "from random import randint\n",
    "import os\n",
    "os.environ[\"CUDA_VISIBLE_DEVICES\"]=\"1\"\n",
    "import matplotlib.pyplot as plt\n",
    "plt.style.use('seaborn-white')\n",
    "import seaborn as sns\n",
    "sns.set_style(\"white\")\n",
    "\n",
    "from sklearn.model_selection import train_test_split\n",
    "\n",
    "from skimage.transform import resize\n",
    "from itertools import chain\n",
    "from skimage.io import imread, imshow, imread_collection, concatenate_images\n",
    "from skimage.color import gray2rgb\n",
    "from skimage.morphology import label\n",
    "\n",
    "from keras.preprocessing.image import load_img\n",
    "from keras.models import model_from_json\n",
    "from keras import Model\n",
    "from keras_tqdm import TQDMNotebookCallback\n",
    "from keras.callbacks import EarlyStopping, ModelCheckpoint, ReduceLROnPlateau\n",
    "from keras.models import load_model\n",
    "from keras.optimizers import Adam, SGD, Nadam\n",
    "from keras.utils.vis_utils import plot_model\n",
    "from keras.preprocessing.image import ImageDataGenerator\n",
    "from keras.layers import Input, Conv2D, Conv2DTranspose, MaxPooling2D, concatenate, Dropout,BatchNormalization,UpSampling2D,Concatenate\n",
    "from tqdm import tqdm_notebook\n",
    "from keras.losses import binary_crossentropy\n",
    "from keras import backend as K\n",
    "import tensorflow as tf\n",
    "import json\n",
    "import gc\n",
    "from keras.preprocessing import image"
   ]
  },
  {
   "cell_type": "markdown",
   "metadata": {
    "_uuid": "962c2c6775b5fcf605df8e7c59cbcabe6ba9ceaa"
   },
   "source": [
    "# Params and helpers"
   ]
  },
  {
   "cell_type": "code",
   "execution_count": 2,
   "metadata": {
    "_uuid": "e54e151245d665e42bb95d9cf2e1a33cb9440e48"
   },
   "outputs": [],
   "source": [
    "use_rotate = False\n",
    "use_zoom = False\n",
    "use_slice = False\n",
    "use_brightness = False\n",
    "use_normalize = False\n",
    "mean = [0.485, 0.456, 0.406] \n",
    "std = [0.229, 0.224, 0.225]\n",
    "img_size_ori = 101\n",
    "img_size_patch = 256\n",
    "img_size_target = 256\n",
    "\n",
    "def sq_up_resize(img):\n",
    "    if len(img.shape)==2 or img.shape[2]==1:\n",
    "        new_img = np.zeros((img.shape[0]*2,img.shape[1]*2))\n",
    "    else:\n",
    "        new_img = np.zeros((img.shape[0]*2,img.shape[1]*2, img.shape[2]))\n",
    "    \n",
    "    for y in range(img.shape[0]):\n",
    "        for x in range(img.shape[1]):\n",
    "            if len(img.shape)==2  or img.shape[2]==1:\n",
    "                new_img[y*2:y*2+2,x*2:x*2+2] = img[y,x]\n",
    "            else:\n",
    "                new_img[y*2:y*2+2,x*2:x*2+2,0] = img[y,x,0]\n",
    "                new_img[y*2:y*2+2,x*2:x*2+2,1] = img[y,x,1]\n",
    "                new_img[y*2:y*2+2,x*2:x*2+2,2] = img[y,x,2]\n",
    "    return new_img\n",
    "\n",
    "def sq_down_resize(img):\n",
    "    if len(img.shape)==2 or img.shape[2]==1:\n",
    "        new_img = np.zeros((img.shape[0]//2,img.shape[1]//2))\n",
    "    else:\n",
    "        new_img = np.zeros((img.shape[0]//2,img.shape[1]//2,img.shape[2]))\n",
    "        \n",
    "    for y in range(new_img.shape[0]):\n",
    "        for x in range(new_img.shape[1]):\n",
    "            if len(img.shape)==2  or img.shape[2]==1:\n",
    "                new_img[y,x] = img[y*2,x*2]\n",
    "            else:\n",
    "                new_img[y,x,0] = img[y*2,x*2,0]\n",
    "                new_img[y,x,1] = img[y*2,x*2,1]\n",
    "                new_img[y,x,2] = img[y*2,x*2,2]\n",
    "    return new_img\n",
    "\n",
    "def upsample_padd_mirror(img):\n",
    "    resize_img = sq_up_resize(img)#, (202, 202))#, interp='nearest')\n",
    "    #resize_img = resize(img,(202, 202), mode='reflect',preserve_range=True,anti_aliasing=False)\n",
    "    padding_img = np.pad(resize_img,27,mode='reflect')\n",
    "    del resize_img\n",
    "    gc.collect()\n",
    "    return padding_img\n",
    "\n",
    "def make_orgsize_padd_mirror(img):\n",
    "    crop  = img[27:202+27,27:202+27]\n",
    "    resize_img = sq_down_resize(crop)\n",
    "    #resize_img = resize(crop,(101,101),mode='reflect',preserve_range=True,anti_aliasing=False)\n",
    "    return resize_img\n",
    "\n",
    "def upsample(img):\n",
    "    if img_size_ori == img_size_target:\n",
    "        return img\n",
    "    return resize(img, (img_size_target, img_size_target), mode='constant', preserve_range=True)\n",
    "    \n",
    "def downsample(img):\n",
    "    if img_size_ori == img_size_target:\n",
    "        return img\n",
    "    return resize(img, (img_size_ori, img_size_ori), mode='constant', preserve_range=True)\n",
    "    #return img[:img_size_ori, :img_size_ori]\n",
    "    \n",
    "def downpatchsize(img):\n",
    "    return resize(img, (img_size_patch, img_size_patch), mode='constant', preserve_range=True)\n",
    "\n",
    "def uporgsize(img):\n",
    "    return resize(img, (img_size_ori, img_size_ori), mode='constant', preserve_range=True)"
   ]
  },
  {
   "cell_type": "markdown",
   "metadata": {},
   "source": [
    "ni = upsample_padd_mirror(train_df[\"images\"][5])\n",
    "nm = upsample_padd_mirror(train_df[\"masks\"][5])\n",
    "plt.imshow(ni,cmap='gray')\n",
    "plt.imshow(nm,cmap='Greens',alpha=0.3)\n",
    "plt.show()\n",
    "\n",
    "rei = make_orgsize_padd_mirror(ni)\n",
    "rem = make_orgsize_padd_mirror(nm)\n",
    "plt.imshow(rei,cmap='gray')\n",
    "plt.imshow(rem,cmap='Greens',alpha=0.3)\n",
    "plt.show()\n",
    "\n",
    "oi = train_df[\"images\"][5]\n",
    "om = train_df[\"masks\"][5]\n",
    "plt.imshow(oi,cmap='gray')\n",
    "plt.imshow(om,cmap='Greens',alpha=0.3)\n",
    "plt.show()\n",
    "print(oi[0:2,0:2])\n",
    "print(rei[0:2,0:2])"
   ]
  },
  {
   "cell_type": "code",
   "execution_count": 3,
   "metadata": {},
   "outputs": [],
   "source": [
    "def dice_coef(y_true, y_pred):\n",
    "    y_true_f = K.flatten(y_true)\n",
    "    y_pred = K.cast(y_pred, 'float32')\n",
    "    y_pred_f = K.cast(K.greater(K.flatten(y_pred), 0.5), 'float32')\n",
    "    intersection = y_true_f * y_pred_f\n",
    "    score = 2. * K.sum(intersection) / (K.sum(y_true_f) + K.sum(y_pred_f))\n",
    "    return score\n",
    "\n",
    "def dice_loss(y_true, y_pred):\n",
    "    smooth = 1.\n",
    "    y_true_f = K.flatten(y_true)\n",
    "    y_pred_f = K.flatten(y_pred)\n",
    "    intersection = y_true_f * y_pred_f\n",
    "    score = (2. * K.sum(intersection) + smooth) / (K.sum(y_true_f) + K.sum(y_pred_f) + smooth)\n",
    "    return 1. - score\n",
    "\n",
    "def bce_dice_loss(y_true, y_pred):\n",
    "    return binary_crossentropy(y_true, y_pred) + dice_loss(y_true, y_pred)\n",
    "\n",
    "def bce_logdice_loss(y_true, y_pred):\n",
    "    return binary_crossentropy(y_true, y_pred) - K.log(1. - dice_loss(y_true, y_pred))\n",
    "\n",
    "def weighted_bce_loss(y_true, y_pred, weight):\n",
    "    epsilon = 1e-7\n",
    "    y_pred = K.clip(y_pred, epsilon, 1. - epsilon)\n",
    "    logit_y_pred = K.log(y_pred / (1. - y_pred))\n",
    "    loss = weight * (logit_y_pred * (1. - y_true) + \n",
    "                     K.log(1. + K.exp(-K.abs(logit_y_pred))) + K.maximum(-logit_y_pred, 0.))\n",
    "    return K.sum(loss) / K.sum(weight)\n",
    "\n",
    "def weighted_dice_loss(y_true, y_pred, weight):\n",
    "    smooth = 1.\n",
    "    w, m1, m2 = weight, y_true, y_pred\n",
    "    intersection = (m1 * m2)\n",
    "    score = (2. * K.sum(w * intersection) + smooth) / (K.sum(w * m1) + K.sum(w * m2) + smooth)\n",
    "    loss = 1. - K.sum(score)\n",
    "    return loss\n",
    "\n",
    "def weighted_bce_dice_loss(y_true, y_pred):\n",
    "    y_true = K.cast(y_true, 'float32')\n",
    "    y_pred = K.cast(y_pred, 'float32')\n",
    "    # if we want to get same size of output, kernel size must be odd\n",
    "    averaged_mask = K.pool2d(\n",
    "            y_true, pool_size=(50, 50), strides=(1, 1), padding='same', pool_mode='avg')\n",
    "    weight = K.ones_like(averaged_mask)\n",
    "    w0 = K.sum(weight)\n",
    "    weight = 5. * K.exp(-5. * K.abs(averaged_mask - 0.5))\n",
    "    w1 = K.sum(weight)\n",
    "    weight *= (w0 / w1)\n",
    "    loss = weighted_bce_loss(y_true, y_pred, weight) + dice_loss(y_true, y_pred)\n",
    "    return loss\n",
    "\n",
    "\"\"\"\n",
    "used for converting the decoded image to rle mask\n",
    "Fast compared to previous one\n",
    "\"\"\"\n",
    "def RLenc(im):\n",
    "    '''\n",
    "    im: numpy array, 1 - mask, 0 - background\n",
    "    Returns run length as string formated\n",
    "    '''\n",
    "    pixels = im.flatten(order = 'F')\n",
    "    pixels = np.concatenate([[0], pixels, [0]])\n",
    "    runs = np.where(pixels[1:] != pixels[:-1])[0] + 1\n",
    "    runs[1::2] -= runs[::2]\n",
    "    return ' '.join(str(x) for x in runs)\n",
    "    \n",
    "#Score the model and do a threshold optimization by the best IoU.\n",
    "\n",
    "# src: https://www.kaggle.com/aglotero/another-iou-metric\n",
    "def iou_metric(y_true_in, y_pred_in, print_table=False):\n",
    "    labels = y_true_in\n",
    "    y_pred = y_pred_in\n",
    "\n",
    "\n",
    "    true_objects = 2\n",
    "    pred_objects = 2\n",
    "\n",
    "    # Jiaxin fin that if all zeros, then, the background is treated as object\n",
    "    temp1 = np.histogram2d(labels.flatten(), y_pred.flatten(), bins=([0,0.5,1], [0,0.5, 1]))\n",
    "#     temp1 = np.histogram2d(labels.flatten(), y_pred.flatten(), bins=(true_objects, pred_objects))\n",
    "    #print(temp1)\n",
    "    intersection = temp1[0]\n",
    "    #print(\"temp2 = \",temp1[1])\n",
    "    #print(intersection.shape)\n",
    "   # print(intersection)\n",
    "    # Compute areas (needed for finding the union between all objects)\n",
    "    #print(np.histogram(labels, bins = true_objects))\n",
    "    area_true = np.histogram(labels,bins=[0,0.5,1])[0]\n",
    "    #print(\"area_true = \",area_true)\n",
    "    area_pred = np.histogram(y_pred, bins=[0,0.5,1])[0]\n",
    "    area_true = np.expand_dims(area_true, -1)\n",
    "    area_pred = np.expand_dims(area_pred, 0)\n",
    "\n",
    "    # Compute union\n",
    "    union = area_true + area_pred - intersection\n",
    "  \n",
    "    # Exclude background from the analysis\n",
    "    intersection = intersection[1:,1:]\n",
    "    intersection[intersection == 0] = 1e-9\n",
    "    \n",
    "    union = union[1:,1:]\n",
    "    union[union == 0] = 1e-9\n",
    "\n",
    "    # Compute the intersection over union\n",
    "    iou = intersection / union\n",
    "\n",
    "    # Precision helper function\n",
    "    def precision_at(threshold, iou):\n",
    "        matches = iou > threshold\n",
    "        true_positives = np.sum(matches, axis=1) == 1   # Correct objects\n",
    "        false_positives = np.sum(matches, axis=0) == 0  # Missed objects\n",
    "        false_negatives = np.sum(matches, axis=1) == 0  # Extra objects\n",
    "        tp, fp, fn = np.sum(true_positives), np.sum(false_positives), np.sum(false_negatives)\n",
    "        return tp, fp, fn\n",
    "\n",
    "    # Loop over IoU thresholds\n",
    "    prec = []\n",
    "    if print_table:\n",
    "        print(\"Thresh\\tTP\\tFP\\tFN\\tPrec.\")\n",
    "    for t in np.arange(0.5, 1.0, 0.05):\n",
    "        tp, fp, fn = precision_at(t, iou)\n",
    "        if (tp + fp + fn) > 0:\n",
    "            p = tp / (tp + fp + fn)\n",
    "        else:\n",
    "            p = 0\n",
    "        if print_table:\n",
    "            print(\"{:1.3f}\\t{}\\t{}\\t{}\\t{:1.3f}\".format(t, tp, fp, fn, p))\n",
    "        prec.append(p)\n",
    "    \n",
    "    if print_table:\n",
    "        print(\"AP\\t-\\t-\\t-\\t{:1.3f}\".format(np.mean(prec)))\n",
    "    return np.mean(prec)\n",
    "\n",
    "def iou_metric_batch(y_true_in, y_pred_in):\n",
    "    y_pred_in = y_pred_in > 0.5 # added by sgx 20180728\n",
    "    batch_size = y_true_in.shape[0]\n",
    "    metric = []\n",
    "    for batch in range(batch_size):\n",
    "        value = iou_metric(y_true_in[batch], y_pred_in[batch])\n",
    "        metric.append(value)\n",
    "    #print(\"metric = \",metric)\n",
    "    return np.mean(metric)\n",
    "\n",
    "def get_iou_vector(A, B):\n",
    "    batch_size = A.shape[0]\n",
    "    metric = []\n",
    "    for batch in range(batch_size):\n",
    "        t, p = A[batch]>0, B[batch]>0\n",
    "#         if np.count_nonzero(t) == 0 and np.count_nonzero(p) > 0:\n",
    "#             metric.append(0)\n",
    "#             continue\n",
    "#         if np.count_nonzero(t) >= 1 and np.count_nonzero(p) == 0:\n",
    "#             metric.append(0)\n",
    "#             continue\n",
    "#         if np.count_nonzero(t) == 0 and np.count_nonzero(p) == 0:\n",
    "#             metric.append(1)\n",
    "#             continue\n",
    "        \n",
    "        intersection = np.logical_and(t, p)\n",
    "        union = np.logical_or(t, p)\n",
    "        iou = (np.sum(intersection > 0) + 1e-10 )/ (np.sum(union > 0) + 1e-10)\n",
    "        thresholds = np.arange(0.5, 1, 0.05)\n",
    "        s = []\n",
    "        for thresh in thresholds:\n",
    "            s.append(iou > thresh)\n",
    "        metric.append(np.mean(s))\n",
    "\n",
    "    return np.mean(metric)\n",
    "\n",
    "\n",
    "def lovasz_grad(gt_sorted):\n",
    "    \"\"\"\n",
    "    Computes gradient of the Lovasz extension w.r.t sorted errors\n",
    "    See Alg. 1 in paper\n",
    "    \"\"\"\n",
    "    gts = tf.reduce_sum(gt_sorted)\n",
    "    intersection = gts - tf.cumsum(gt_sorted)\n",
    "    union = gts + tf.cumsum(1. - gt_sorted)\n",
    "    jaccard = 1. - intersection / union\n",
    "    jaccard = tf.concat((jaccard[0:1], jaccard[1:] - jaccard[:-1]), 0)\n",
    "    return jaccard\n",
    "\n",
    "\n",
    "# --------------------------- BINARY LOSSES ---------------------------\n",
    "\n",
    "\n",
    "def lovasz_hinge(logits, labels, per_image=True, ignore=None):\n",
    "    \"\"\"\n",
    "    Binary Lovasz hinge loss\n",
    "      logits: [B, H, W] Variable, logits at each pixel (between -\\infty and +\\infty)\n",
    "      labels: [B, H, W] Tensor, binary ground truth masks (0 or 1)\n",
    "      per_image: compute the loss per image instead of per batch\n",
    "      ignore: void class id\n",
    "    \"\"\"\n",
    "    if per_image:\n",
    "        def treat_image(log_lab):\n",
    "            log, lab = log_lab\n",
    "            log, lab = tf.expand_dims(log, 0), tf.expand_dims(lab, 0)\n",
    "            log, lab = flatten_binary_scores(log, lab, ignore)\n",
    "            return lovasz_hinge_flat(log, lab)\n",
    "        losses = tf.map_fn(treat_image, (logits, labels), dtype=tf.float32)\n",
    "        loss = tf.reduce_mean(losses)\n",
    "    else:\n",
    "        loss = lovasz_hinge_flat(*flatten_binary_scores(logits, labels, ignore))\n",
    "    return loss\n",
    "\n",
    "\n",
    "def lovasz_hinge_flat(logits, labels):\n",
    "    \"\"\"\n",
    "    Binary Lovasz hinge loss\n",
    "      logits: [P] Variable, logits at each prediction (between -\\infty and +\\infty)\n",
    "      labels: [P] Tensor, binary ground truth labels (0 or 1)\n",
    "      ignore: label to ignore\n",
    "    \"\"\"\n",
    "\n",
    "    def compute_loss():\n",
    "        labelsf = tf.cast(labels, logits.dtype)\n",
    "        signs = 2. * labelsf - 1.\n",
    "        errors = 1. - logits * tf.stop_gradient(signs)\n",
    "        errors_sorted, perm = tf.nn.top_k(errors, k=tf.shape(errors)[0], name=\"descending_sort\")\n",
    "        gt_sorted = tf.gather(labelsf, perm)\n",
    "        grad = lovasz_grad(gt_sorted)\n",
    "        loss = tf.tensordot(tf.nn.relu(errors_sorted), tf.stop_gradient(grad), 1, name=\"loss_non_void\")\n",
    "        return loss\n",
    "\n",
    "    # deal with the void prediction case (only void pixels)\n",
    "    loss = tf.cond(tf.equal(tf.shape(logits)[0], 0),\n",
    "                   lambda: tf.reduce_sum(logits) * 0.,\n",
    "                   compute_loss,\n",
    "                   strict=True,\n",
    "                   name=\"loss\"\n",
    "                   )\n",
    "    return loss\n",
    "\n",
    "\n",
    "def flatten_binary_scores(scores, labels, ignore=None):\n",
    "    \"\"\"\n",
    "    Flattens predictions in the batch (binary case)\n",
    "    Remove labels equal to 'ignore'\n",
    "    \"\"\"\n",
    "    scores = tf.reshape(scores, (-1,))\n",
    "    labels = tf.reshape(labels, (-1,))\n",
    "    if ignore is None:\n",
    "        return scores, labels\n",
    "    valid = tf.not_equal(labels, ignore)\n",
    "    vscores = tf.boolean_mask(scores, valid, name='valid_scores')\n",
    "    vlabels = tf.boolean_mask(labels, valid, name='valid_labels')\n",
    "    return vscores, vlabels\n",
    "\n",
    "def keras_lovasz_hinge(labels,logits):\n",
    "    return lovasz_hinge(logits, labels, per_image=True, ignore=None)\n",
    "\n",
    "def focal_loss(y_true, y_pred):\n",
    "    gamma=0.5\n",
    "    alpha=0.25\n",
    "    pt_1 = tf.where(tf.equal(y_true, 1), y_pred, tf.ones_like(y_pred))\n",
    "    pt_0 = tf.where(tf.equal(y_true, 0), y_pred, tf.zeros_like(y_pred))\n",
    "    return -K.sum(alpha * K.pow(1. - pt_1, gamma) * K.log(pt_1))-K.sum((1-alpha) * K.pow( pt_0, gamma) * K.log(1. - pt_0))\n",
    "\n",
    "def lovasz_loss(y_true, y_pred):\n",
    "    y_true, y_pred = K.cast(K.squeeze(y_true, -1), 'int32'), K.cast(K.squeeze(y_pred, -1), 'float32')\n",
    "    #logits = K.log(y_pred / (1. - y_pred))\n",
    "    logits = y_pred #Jiaxin\n",
    "    loss = lovasz_hinge(logits, y_true, per_image = True, ignore = None)\n",
    "    return loss\n",
    "\n",
    "\n",
    "def bce_dice_lovasz_loss(y_true, y_pred):\n",
    "    return binary_crossentropy(y_true, y_pred) + dice_loss(y_true, y_pred) + lovasz_loss(y_true, y_pred)\n",
    "\n",
    "def bce_dice_loss_non_empty(y_true, y_pred):\n",
    "    return K.max(K.max(y_true,axis=0),axis=1)*(binary_crossentropy(y_true, y_pred)-K.log(1. - dice_loss(y_true, y_pred)))\n",
    "    #is_non_empty = K.max(K.max(y_true,axis=0),axis=1)\n",
    "    #wbdce_loss = weighted_bce_dice_loss(y_true,y_pred)\n",
    "    #return wbdce_loss*is_non_empty\n",
    "    \n",
    "def my_iou_metric(label, pred):\n",
    "    return tf.py_func(get_iou_vector, [label, pred>0.5], tf.float64)\n",
    "\n",
    "def my_iou_metric_2(label, pred):\n",
    "    return tf.py_func(get_iou_vector, [label, pred >0], tf.float64)\n"
   ]
  },
  {
   "cell_type": "markdown",
   "metadata": {
    "_uuid": "530c358f2868a444e8233936996463a66c2cc4f3"
   },
   "source": [
    "# Loading of training/testing ids and depths\n",
    "Reading the training data and the depths, store them in a DataFrame. Also create a test DataFrame with entries from depth not in train."
   ]
  },
  {
   "cell_type": "code",
   "execution_count": 4,
   "metadata": {
    "_cell_guid": "79c7e3d0-c299-4dcb-8224-4455121ee9b0",
    "_uuid": "d629ff2d2480ee46fbb7e2d37f6b5fab8052498a"
   },
   "outputs": [],
   "source": [
    "train_df = pd.read_csv(\"../input/train.csv\", index_col=\"id\", usecols=[0])\n",
    "depths_df = pd.read_csv(\"../input/depths.csv\", index_col=\"id\")\n",
    "train_df = train_df.join(depths_df)\n",
    "test_df = depths_df[~depths_df.index.isin(train_df.index)]"
   ]
  },
  {
   "cell_type": "markdown",
   "metadata": {
    "_uuid": "24d7f3d982bfa582b222f012129acdda55282b6d"
   },
   "source": [
    "# Read images and masks\n",
    "Load the images and masks into the DataFrame and divide the pixel values by 255."
   ]
  },
  {
   "cell_type": "code",
   "execution_count": 5,
   "metadata": {
    "_uuid": "b18c1f50cefd7504eae7e7b9605be3814c7cad6d"
   },
   "outputs": [],
   "source": [
    "reload_train_set = False\n",
    "mean_use = False\n",
    "train_df_upsample_file_name = \"train_df_mirror_padding.pkl\"\n",
    "if reload_train_set == True:\n",
    "    train_df[\"images\"] = [upsample_padd_mirror(np.array(load_img(\"../input/train/images/{}.png\".format(idx), grayscale=True)) / 255) for idx in tqdm_notebook(train_df.index)]\n",
    "    mean_im = np.mean(train_df[\"images\"])\n",
    "    if mean_use == True:\n",
    "        train_df[\"images\"] = train_df[\"images\"] - mean_im\n",
    "    train_df[\"masks\"] = [upsample_padd_mirror(np.array(load_img(\"../input/train/masks/{}.png\".format(idx), grayscale=True)) / 255) for idx in tqdm_notebook(train_df.index)]\n",
    "    train_df[\"bin_class\"] =  [np.max(train_df.masks[idx]) for idx in tqdm_notebook(train_df.index)]\n",
    "    train_df[\"rle_mask\"] = [RLenc(train_df.masks[idx]) for idx in tqdm_notebook(train_df.index)]\n",
    "    train_df.to_pickle(train_df_upsample_file_name)\n",
    "else:\n",
    "    train_df = pd.read_pickle(train_df_upsample_file_name)"
   ]
  },
  {
   "cell_type": "code",
   "execution_count": 6,
   "metadata": {},
   "outputs": [
    {
     "data": {
      "application/vnd.jupyter.widget-view+json": {
       "model_id": "e27bbb346ade4e5d8e271b600161b83f",
       "version_major": 2,
       "version_minor": 0
      },
      "text/plain": [
       "HBox(children=(IntProgress(value=0, max=4000), HTML(value='')))"
      ]
     },
     "metadata": {},
     "output_type": "display_data"
    },
    {
     "name": "stdout",
     "output_type": "stream",
     "text": [
      "\n"
     ]
    }
   ],
   "source": [
    "train_df[\"bin_class\"] =  [np.max(train_df.masks[idx]) for idx in tqdm_notebook(train_df.index)]"
   ]
  },
  {
   "cell_type": "markdown",
   "metadata": {},
   "source": [
    "## Test Set Load"
   ]
  },
  {
   "cell_type": "code",
   "execution_count": 7,
   "metadata": {},
   "outputs": [],
   "source": [
    "reload_test_set = False\n",
    "test_set_npy_file_name = \"test_set.npy\"\n",
    "if reload_test_set == True:\n",
    "    if mean_use == True:\n",
    "        x_test = [upsample_padd_mirror(np.array(load_img(\"../input/test/images/{}.png\".format(idx), grayscale=True))/255 -mean_im) for idx in tqdm_notebook(test_df.index)]\n",
    "    else:\n",
    "        x_test = [upsample_padd_mirror(np.array(load_img(\"../input/test/images/{}.png\".format(idx), grayscale=True))/255) for idx in tqdm_notebook(test_df.index)]\n",
    "    np.save(test_set_npy_file_name,x_test)    \n",
    "else:\n",
    "    x_test = np.load(test_set_npy_file_name)"
   ]
  },
  {
   "cell_type": "code",
   "execution_count": 8,
   "metadata": {},
   "outputs": [
    {
     "data": {
      "application/vnd.jupyter.widget-view+json": {
       "model_id": "7fee47ac329c41e2af1c0403fdd0fbe1",
       "version_major": 2,
       "version_minor": 0
      },
      "text/plain": [
       "HBox(children=(IntProgress(value=0, max=18000), HTML(value='')))"
      ]
     },
     "metadata": {},
     "output_type": "display_data"
    },
    {
     "name": "stdout",
     "output_type": "stream",
     "text": [
      "\n"
     ]
    }
   ],
   "source": [
    "x_test_z = np.array([test_df.z[idx] for idx in tqdm_notebook(test_df.index)])"
   ]
  },
  {
   "cell_type": "markdown",
   "metadata": {
    "_uuid": "1137f0a009f10b5f69e4dade5f689e744e9ce1d6"
   },
   "source": [
    "# Calculating the salt coverage and salt coverage classes\n",
    "Counting the number of salt pixels in the masks and dividing them by the image size. Also create 11 coverage classes, -0.1 having no salt at all to 1.0 being salt only.\n",
    "Plotting the distribution of coverages and coverage classes, and the class against the raw coverage."
   ]
  },
  {
   "cell_type": "code",
   "execution_count": 9,
   "metadata": {
    "_uuid": "18d2aa182a44c65a87c75f41047c653a79bc1c3f"
   },
   "outputs": [],
   "source": [
    "train_df[\"coverage\"] = train_df.masks.map(np.sum) / pow(train_df.masks[0].shape[0], 2)"
   ]
  },
  {
   "cell_type": "code",
   "execution_count": 10,
   "metadata": {
    "_uuid": "2b13d1ecc7004832e8e042d034922796263054b7"
   },
   "outputs": [],
   "source": [
    "def cov_to_class(val):    \n",
    "    for i in range(0, 11):\n",
    "        if val * 10 <= i :\n",
    "            return i\n",
    "        \n",
    "train_df[\"coverage_class\"] = train_df.coverage.map(cov_to_class)"
   ]
  },
  {
   "cell_type": "code",
   "execution_count": 11,
   "metadata": {
    "_uuid": "a5e66ff4809ea2f9a679b7ddbda5028dc324137a"
   },
   "outputs": [
    {
     "data": {
      "text/plain": [
       "Text(0.5,0,'Coverage class')"
      ]
     },
     "execution_count": 11,
     "metadata": {},
     "output_type": "execute_result"
    },
    {
     "data": {
      "image/png": "[encoded data removed]",
      "text/plain": [
       "<Figure size 1080x360 with 2 Axes>"
      ]
     },
     "metadata": {
      "needs_background": "light"
     },
     "output_type": "display_data"
    }
   ],
   "source": [
    "fig, axs = plt.subplots(1, 2, figsize=(15,5))\n",
    "sns.distplot(train_df.coverage, kde=False, ax=axs[0])\n",
    "sns.distplot(train_df.coverage_class, bins=10, kde=False, ax=axs[1])\n",
    "plt.suptitle(\"Salt coverage\")\n",
    "axs[0].set_xlabel(\"Coverage\")\n",
    "axs[1].set_xlabel(\"Coverage class\")"
   ]
  },
  {
   "cell_type": "markdown",
   "metadata": {},
   "source": [
    "## Depth channel add or convert 3channel"
   ]
  },
  {
   "cell_type": "code",
   "execution_count": 12,
   "metadata": {},
   "outputs": [
    {
     "data": {
      "application/vnd.jupyter.widget-view+json": {
       "model_id": "ac58c75601f24b2f9743a41e108197e0",
       "version_major": 2,
       "version_minor": 0
      },
      "text/plain": [
       "HBox(children=(IntProgress(value=0, max=4000), HTML(value='')))"
      ]
     },
     "metadata": {},
     "output_type": "display_data"
    },
    {
     "name": "stdout",
     "output_type": "stream",
     "text": [
      "\n"
     ]
    },
    {
     "data": {
      "application/vnd.jupyter.widget-view+json": {
       "model_id": "0f48f0f29b944765a21bae6e554091cf",
       "version_major": 2,
       "version_minor": 0
      },
      "text/plain": [
       "HBox(children=(IntProgress(value=0, max=18000), HTML(value='')))"
      ]
     },
     "metadata": {},
     "output_type": "display_data"
    },
    {
     "name": "stdout",
     "output_type": "stream",
     "text": [
      "\n"
     ]
    }
   ],
   "source": [
    "depth_use = False\n",
    "\n",
    "z_mean = train_df.z.mean()\n",
    "train_df_add_z_image = train_df\n",
    "\n",
    "if depth_use == True:\n",
    "    train_df_add_z_image.images =  [ np.stack([train_df.images[idx],train_df.images[idx], np.zeros((img_size_target,img_size_target)) + (train_df.z[idx])/1000],axis=2) for idx in tqdm_notebook(train_df.index)]\n",
    "    x_test_add_z_image =  [ np.stack([x_test[idx].squeeze(),x_test[idx].squeeze(), np.zeros((img_size_target,img_size_target)) + (x_test_z[idx])/1000],axis=2) for idx in tqdm_notebook(range(test_df.shape[0]))]\n",
    "else:\n",
    "    train_df_add_z_image.images =  [ np.stack([train_df.images[idx],train_df.images[idx],train_df.images[idx] ],axis=2) for idx in tqdm_notebook(train_df.index)]\n",
    "    x_test_add_z_image =  [ np.stack([x_test[idx].squeeze(),x_test[idx].squeeze(), x_test[idx].squeeze()],axis=2) for idx in tqdm_notebook(range(test_df.shape[0]))]"
   ]
  },
  {
   "cell_type": "markdown",
   "metadata": {},
   "source": [
    "## Generator"
   ]
  },
  {
   "cell_type": "code",
   "execution_count": 13,
   "metadata": {},
   "outputs": [],
   "source": [
    "from segmentation_models import Unet#, FPN\n",
    "from segmentation_models import Linknet,PSPNet\n",
    "from segmentation_models.unet_hyper_bin.model import Unet_hyper_bin\n",
    "from segmentation_models.fpn_hyper_bin.model import FPN_hyper_bin\n",
    "from segmentation_models.linknet_hyper_bin.model import Linknet_hyper_bin\n",
    "from segmentation_models.utils import set_trainable, recompile"
   ]
  },
  {
   "cell_type": "markdown",
   "metadata": {
    "_uuid": "00655e32f93f96ebd90dbe94e35ee052f52217cd"
   },
   "source": [
    "# Create train/validation split stratified by salt coverage\n",
    "Using the salt coverage as a stratification criterion. Also show an image to check for correct upsampling."
   ]
  },
  {
   "cell_type": "code",
   "execution_count": 14,
   "metadata": {},
   "outputs": [],
   "source": [
    "back_bones = []\n",
    "back_bones.append({\"back_bone\":\"resnet50\",\"weight\":\"imagenet11k-places365ch\"})\n",
    "back_bones.append({\"back_bone\":\"resnet152\",\"weight\":\"imagenet11k\"})\n",
    "back_bones.append({\"back_bone\":\"densenet121\",\"weight\":\"imagenet\"})\n",
    "back_bones.append({\"back_bone\":\"densenet169\",\"weight\":\"imagenet\"})\n",
    "back_bones.append({\"back_bone\":\"densenet201\",\"weight\":\"imagenet\"})\n",
    "back_bones.append({\"back_bone\":\"inceptionresnetv2\",\"weight\":\"imagenet\"})\n",
    "back_bones.append({\"back_bone\":\"inceptionv3\",\"weight\":\"imagenet\"})\n",
    "back_bones.append({\"back_bone\":\"resnet101\",\"weight\":\"imagenet\"})\n",
    "back_bones.append({\"back_bone\":\"resnet152\",\"weight\":\"imagenet\"})\n",
    "back_bones.append({\"back_bone\":\"resnet18\",\"weight\":\"imagenet\"})\n",
    "back_bones.append({\"back_bone\":\"resnet34\",\"weight\":\"imagenet\"})\n",
    "back_bones.append({\"back_bone\":\"resnet50\",\"weight\":\"imagenet\"})\n",
    "back_bones.append({\"back_bone\":\"resnext101\",\"weight\":\"imagenet\"})\n",
    "back_bones.append({\"back_bone\":\"resnext50\",\"weight\":\"imagenet\"})\n",
    "back_bones.append({\"back_bone\":\"vgg19\",\"weight\":\"imagenet\"})\n",
    "back_bones.append({\"back_bone\":\"vgg16\",\"weight\":\"imagenet\"})\n",
    "\n",
    "rands_states = [1111,2222,3333,4444,5555,6666,8888,9999,9876]\n",
    "archs = [\"UnetHB_SPDR\",\"Unet\",\"Linknet\",\"PSPNet\",\"FPN\"]"
   ]
  },
  {
   "cell_type": "code",
   "execution_count": 15,
   "metadata": {},
   "outputs": [],
   "source": [
    "backbone_weight = 'imagenet'\n",
    "backbone_name = 'resnet152'\n",
    "arch = \"UnetHB_SPDR_BINMUL_SE_MULTI\"\n",
    "rand_state= 9800\n",
    "BATCH_SIZE = 8\n",
    "batch_size = BATCH_SIZE\n",
    "model_name = arch + '_pad_with_weirdmask_bcedice_'+ 'bb_' + backbone_name + '_bw_'+ backbone_weight +'_ts_' + str(img_size_target) + '_ps_'+str(img_size_patch) + '_bs_' + str(BATCH_SIZE) \n",
    "model_name += '_sprs_' + str(rand_state) + '_du_' + str(depth_use)+ '_mu_' + str(mean_use)\n",
    "\n",
    "input_img_ch = 3\n",
    "ids_train, ids_valid, x_train, x_valid, y_train, y_valid, cov_train, cov_test, depth_train, depth_test, bin_class_train, bin_class_valid = train_test_split(\n",
    "    train_df_add_z_image.index.values,\n",
    "    np.array(train_df_add_z_image.images.tolist()).reshape(-1, img_size_target, img_size_target, input_img_ch), \n",
    "    np.array(train_df_add_z_image.masks.tolist()).reshape(-1, img_size_target, img_size_target, 1), \n",
    "    train_df_add_z_image.coverage.values,\n",
    "    train_df_add_z_image.z.values,\n",
    "    train_df_add_z_image.bin_class.values,\n",
    "    test_size=0.2, stratify=train_df_add_z_image.coverage_class, random_state=rand_state)"
   ]
  },
  {
   "cell_type": "code",
   "execution_count": 16,
   "metadata": {},
   "outputs": [
    {
     "name": "stdout",
     "output_type": "stream",
     "text": [
      "(6400, 256, 256, 3)\n",
      "(800, 256, 256, 1)\n",
      "(6400,)\n"
     ]
    }
   ],
   "source": [
    "#Data augmentation\n",
    "x_train = np.append(x_train, [np.fliplr(x) for x in x_train], axis=0)\n",
    "y_train = np.append(y_train, [np.fliplr(x) for x in y_train], axis=0)\n",
    "bin_class_train = np.append(bin_class_train,bin_class_train)\n",
    "print(x_train.shape)\n",
    "print(y_valid.shape)\n",
    "print(bin_class_train.shape)"
   ]
  },
  {
   "cell_type": "code",
   "execution_count": 17,
   "metadata": {
    "_uuid": "1aa78bd7c607e1f0e0235e4b2f82056c0361dac5"
   },
   "outputs": [],
   "source": [
    "if arch == 'FPN_D4_SE_BIN':\n",
    "    model = FPN_hyper_bin(input_shape=(img_size_patch,img_size_patch,input_img_ch), backbone_name=backbone_name,encoder_weights=backbone_weight)\n",
    "elif arch == \"Unet\":\n",
    "    model = Unet(input_shape=(img_size_patch,img_size_patch,input_img_ch), backbone_name=backbone_name, encoder_weights=backbone_weight)\n",
    "elif arch == \"Linknet_hyper3_bin\":\n",
    "    model = Linknet_hyper_bin(input_shape=(img_size_patch,img_size_patch,input_img_ch), backbone_name=backbone_name, encoder_weights=backbone_weight)\n",
    "elif arch == \"PSPNet\":\n",
    "    model = PSPNet(input_shape=(img_size_patch,img_size_patch,input_img_ch), backbone_name=backbone_name, encoder_weights=backbone_weight,activation='sigmoid', classes=1)\n",
    "elif arch == \"UnetHB_SPDR_BINMUL_SE_MULTI\":\n",
    "    model = Unet_hyper_bin(input_shape=(img_size_patch,img_size_patch,input_img_ch), backbone_name=backbone_name, encoder_weights=backbone_weight)"
   ]
  },
  {
   "cell_type": "code",
   "execution_count": 18,
   "metadata": {},
   "outputs": [
    {
     "name": "stdout",
     "output_type": "stream",
     "text": [
      "__________________________________________________________________________________________________\n",
      "Layer (type)                    Output Shape         Param #     Connected to                     \n",
      "==================================================================================================\n",
      "data (InputLayer)               (None, 256, 256, 3)  0                                            \n",
      "__________________________________________________________________________________________________\n",
      "bn_data (BatchNormalization)    (None, 256, 256, 3)  9           data[0][0]                       \n",
      "__________________________________________________________________________________________________\n",
      "zero_padding2d_1 (ZeroPadding2D (None, 262, 262, 3)  0           bn_data[0][0]                    \n",
      "__________________________________________________________________________________________________\n",
      "conv0 (Conv2D)                  (None, 128, 128, 64) 9408        zero_padding2d_1[0][0]           \n",
      "__________________________________________________________________________________________________\n",
      "bn0 (BatchNormalization)        (None, 128, 128, 64) 256         conv0[0][0]                      \n",
      "__________________________________________________________________________________________________\n",
      "relu0 (Activation)              (None, 128, 128, 64) 0           bn0[0][0]                        \n",
      "__________________________________________________________________________________________________\n",
      "zero_padding2d_2 (ZeroPadding2D (None, 130, 130, 64) 0           relu0[0][0]                      \n",
      "__________________________________________________________________________________________________\n",
      "pooling0 (MaxPooling2D)         (None, 64, 64, 64)   0           zero_padding2d_2[0][0]           \n",
      "__________________________________________________________________________________________________\n",
      "stage1_unit1_bn1 (BatchNormaliz (None, 64, 64, 64)   256         pooling0[0][0]                   \n",
      "__________________________________________________________________________________________________\n",
      "stage1_unit1_relu1 (Activation) (None, 64, 64, 64)   0           stage1_unit1_bn1[0][0]           \n",
      "__________________________________________________________________________________________________\n",
      "stage1_unit1_conv1 (Conv2D)     (None, 64, 64, 64)   4096        stage1_unit1_relu1[0][0]         \n",
      "__________________________________________________________________________________________________\n",
      "stage1_unit1_bn2 (BatchNormaliz (None, 64, 64, 64)   256         stage1_unit1_conv1[0][0]         \n",
      "__________________________________________________________________________________________________\n",
      "stage1_unit1_relu2 (Activation) (None, 64, 64, 64)   0           stage1_unit1_bn2[0][0]           \n",
      "__________________________________________________________________________________________________\n",
      "zero_padding2d_3 (ZeroPadding2D (None, 66, 66, 64)   0           stage1_unit1_relu2[0][0]         \n",
      "__________________________________________________________________________________________________\n",
      "stage1_unit1_conv2 (Conv2D)     (None, 64, 64, 64)   36864       zero_padding2d_3[0][0]           \n",
      "__________________________________________________________________________________________________\n",
      "stage1_unit1_bn3 (BatchNormaliz (None, 64, 64, 64)   256         stage1_unit1_conv2[0][0]         \n",
      "__________________________________________________________________________________________________\n",
      "stage1_unit1_relu3 (Activation) (None, 64, 64, 64)   0           stage1_unit1_bn3[0][0]           \n",
      "__________________________________________________________________________________________________\n",
      "stage1_unit1_conv3 (Conv2D)     (None, 64, 64, 256)  16384       stage1_unit1_relu3[0][0]         \n",
      "__________________________________________________________________________________________________\n",
      "stage1_unit1_sc (Conv2D)        (None, 64, 64, 256)  16384       stage1_unit1_relu1[0][0]         \n",
      "__________________________________________________________________________________________________\n",
      "add_1 (Add)                     (None, 64, 64, 256)  0           stage1_unit1_conv3[0][0]         \n",
      "                                                                 stage1_unit1_sc[0][0]            \n",
      "__________________________________________________________________________________________________\n",
      "stage1_unit2_bn1 (BatchNormaliz (None, 64, 64, 256)  1024        add_1[0][0]                      \n",
      "__________________________________________________________________________________________________\n",
      "stage1_unit2_relu1 (Activation) (None, 64, 64, 256)  0           stage1_unit2_bn1[0][0]           \n",
      "__________________________________________________________________________________________________\n",
      "stage1_unit2_conv1 (Conv2D)     (None, 64, 64, 64)   16384       stage1_unit2_relu1[0][0]         \n",
      "__________________________________________________________________________________________________\n",
      "stage1_unit2_bn2 (BatchNormaliz (None, 64, 64, 64)   256         stage1_unit2_conv1[0][0]         \n",
      "__________________________________________________________________________________________________\n",
      "stage1_unit2_relu2 (Activation) (None, 64, 64, 64)   0           stage1_unit2_bn2[0][0]           \n",
      "__________________________________________________________________________________________________\n",
      "zero_padding2d_4 (ZeroPadding2D (None, 66, 66, 64)   0           stage1_unit2_relu2[0][0]         \n",
      "__________________________________________________________________________________________________\n",
      "stage1_unit2_conv2 (Conv2D)     (None, 64, 64, 64)   36864       zero_padding2d_4[0][0]           \n",
      "__________________________________________________________________________________________________\n",
      "stage1_unit2_bn3 (BatchNormaliz (None, 64, 64, 64)   256         stage1_unit2_conv2[0][0]         \n",
      "__________________________________________________________________________________________________\n",
      "stage1_unit2_relu3 (Activation) (None, 64, 64, 64)   0           stage1_unit2_bn3[0][0]           \n",
      "__________________________________________________________________________________________________\n",
      "stage1_unit2_conv3 (Conv2D)     (None, 64, 64, 256)  16384       stage1_unit2_relu3[0][0]         \n",
      "__________________________________________________________________________________________________\n",
      "add_2 (Add)                     (None, 64, 64, 256)  0           stage1_unit2_conv3[0][0]         \n",
      "                                                                 add_1[0][0]                      \n",
      "__________________________________________________________________________________________________\n",
      "stage1_unit3_bn1 (BatchNormaliz (None, 64, 64, 256)  1024        add_2[0][0]                      \n",
      "__________________________________________________________________________________________________\n",
      "stage1_unit3_relu1 (Activation) (None, 64, 64, 256)  0           stage1_unit3_bn1[0][0]           \n",
      "__________________________________________________________________________________________________\n",
      "stage1_unit3_conv1 (Conv2D)     (None, 64, 64, 64)   16384       stage1_unit3_relu1[0][0]         \n",
      "__________________________________________________________________________________________________\n",
      "stage1_unit3_bn2 (BatchNormaliz (None, 64, 64, 64)   256         stage1_unit3_conv1[0][0]         \n",
      "__________________________________________________________________________________________________\n",
      "stage1_unit3_relu2 (Activation) (None, 64, 64, 64)   0           stage1_unit3_bn2[0][0]           \n",
      "__________________________________________________________________________________________________\n",
      "zero_padding2d_5 (ZeroPadding2D (None, 66, 66, 64)   0           stage1_unit3_relu2[0][0]         \n",
      "__________________________________________________________________________________________________\n",
      "stage1_unit3_conv2 (Conv2D)     (None, 64, 64, 64)   36864       zero_padding2d_5[0][0]           \n",
      "__________________________________________________________________________________________________\n",
      "stage1_unit3_bn3 (BatchNormaliz (None, 64, 64, 64)   256         stage1_unit3_conv2[0][0]         \n",
      "__________________________________________________________________________________________________\n",
      "stage1_unit3_relu3 (Activation) (None, 64, 64, 64)   0           stage1_unit3_bn3[0][0]           \n",
      "__________________________________________________________________________________________________\n",
      "stage1_unit3_conv3 (Conv2D)     (None, 64, 64, 256)  16384       stage1_unit3_relu3[0][0]         \n",
      "__________________________________________________________________________________________________\n",
      "add_3 (Add)                     (None, 64, 64, 256)  0           stage1_unit3_conv3[0][0]         \n",
      "                                                                 add_2[0][0]                      \n",
      "__________________________________________________________________________________________________\n",
      "stage2_unit1_bn1 (BatchNormaliz (None, 64, 64, 256)  1024        add_3[0][0]                      \n",
      "__________________________________________________________________________________________________\n",
      "stage2_unit1_relu1 (Activation) (None, 64, 64, 256)  0           stage2_unit1_bn1[0][0]           \n",
      "__________________________________________________________________________________________________\n",
      "stage2_unit1_conv1 (Conv2D)     (None, 64, 64, 128)  32768       stage2_unit1_relu1[0][0]         \n",
      "__________________________________________________________________________________________________\n",
      "stage2_unit1_bn2 (BatchNormaliz (None, 64, 64, 128)  512         stage2_unit1_conv1[0][0]         \n",
      "__________________________________________________________________________________________________\n",
      "stage2_unit1_relu2 (Activation) (None, 64, 64, 128)  0           stage2_unit1_bn2[0][0]           \n",
      "__________________________________________________________________________________________________\n",
      "zero_padding2d_6 (ZeroPadding2D (None, 66, 66, 128)  0           stage2_unit1_relu2[0][0]         \n",
      "__________________________________________________________________________________________________\n",
      "stage2_unit1_conv2 (Conv2D)     (None, 32, 32, 128)  147456      zero_padding2d_6[0][0]           \n",
      "__________________________________________________________________________________________________\n",
      "stage2_unit1_bn3 (BatchNormaliz (None, 32, 32, 128)  512         stage2_unit1_conv2[0][0]         \n",
      "__________________________________________________________________________________________________\n",
      "stage2_unit1_relu3 (Activation) (None, 32, 32, 128)  0           stage2_unit1_bn3[0][0]           \n",
      "__________________________________________________________________________________________________\n",
      "stage2_unit1_conv3 (Conv2D)     (None, 32, 32, 512)  65536       stage2_unit1_relu3[0][0]         \n",
      "__________________________________________________________________________________________________\n",
      "stage2_unit1_sc (Conv2D)        (None, 32, 32, 512)  131072      stage2_unit1_relu1[0][0]         \n",
      "__________________________________________________________________________________________________\n",
      "add_4 (Add)                     (None, 32, 32, 512)  0           stage2_unit1_conv3[0][0]         \n",
      "                                                                 stage2_unit1_sc[0][0]            \n",
      "__________________________________________________________________________________________________\n",
      "stage2_unit2_bn1 (BatchNormaliz (None, 32, 32, 512)  2048        add_4[0][0]                      \n",
      "__________________________________________________________________________________________________\n",
      "stage2_unit2_relu1 (Activation) (None, 32, 32, 512)  0           stage2_unit2_bn1[0][0]           \n",
      "__________________________________________________________________________________________________\n",
      "stage2_unit2_conv1 (Conv2D)     (None, 32, 32, 128)  65536       stage2_unit2_relu1[0][0]         \n",
      "__________________________________________________________________________________________________\n",
      "stage2_unit2_bn2 (BatchNormaliz (None, 32, 32, 128)  512         stage2_unit2_conv1[0][0]         \n",
      "__________________________________________________________________________________________________\n",
      "stage2_unit2_relu2 (Activation) (None, 32, 32, 128)  0           stage2_unit2_bn2[0][0]           \n",
      "__________________________________________________________________________________________________\n",
      "zero_padding2d_7 (ZeroPadding2D (None, 34, 34, 128)  0           stage2_unit2_relu2[0][0]         \n",
      "__________________________________________________________________________________________________\n",
      "stage2_unit2_conv2 (Conv2D)     (None, 32, 32, 128)  147456      zero_padding2d_7[0][0]           \n",
      "__________________________________________________________________________________________________\n",
      "stage2_unit2_bn3 (BatchNormaliz (None, 32, 32, 128)  512         stage2_unit2_conv2[0][0]         \n",
      "__________________________________________________________________________________________________\n",
      "stage2_unit2_relu3 (Activation) (None, 32, 32, 128)  0           stage2_unit2_bn3[0][0]           \n",
      "__________________________________________________________________________________________________\n",
      "stage2_unit2_conv3 (Conv2D)     (None, 32, 32, 512)  65536       stage2_unit2_relu3[0][0]         \n",
      "__________________________________________________________________________________________________\n",
      "add_5 (Add)                     (None, 32, 32, 512)  0           stage2_unit2_conv3[0][0]         \n",
      "                                                                 add_4[0][0]                      \n",
      "__________________________________________________________________________________________________\n",
      "stage2_unit3_bn1 (BatchNormaliz (None, 32, 32, 512)  2048        add_5[0][0]                      \n",
      "__________________________________________________________________________________________________\n",
      "stage2_unit3_relu1 (Activation) (None, 32, 32, 512)  0           stage2_unit3_bn1[0][0]           \n",
      "__________________________________________________________________________________________________\n",
      "stage2_unit3_conv1 (Conv2D)     (None, 32, 32, 128)  65536       stage2_unit3_relu1[0][0]         \n",
      "__________________________________________________________________________________________________\n",
      "stage2_unit3_bn2 (BatchNormaliz (None, 32, 32, 128)  512         stage2_unit3_conv1[0][0]         \n",
      "__________________________________________________________________________________________________\n",
      "stage2_unit3_relu2 (Activation) (None, 32, 32, 128)  0           stage2_unit3_bn2[0][0]           \n",
      "__________________________________________________________________________________________________\n",
      "zero_padding2d_8 (ZeroPadding2D (None, 34, 34, 128)  0           stage2_unit3_relu2[0][0]         \n",
      "__________________________________________________________________________________________________\n",
      "stage2_unit3_conv2 (Conv2D)     (None, 32, 32, 128)  147456      zero_padding2d_8[0][0]           \n",
      "__________________________________________________________________________________________________\n",
      "stage2_unit3_bn3 (BatchNormaliz (None, 32, 32, 128)  512         stage2_unit3_conv2[0][0]         \n",
      "__________________________________________________________________________________________________\n",
      "stage2_unit3_relu3 (Activation) (None, 32, 32, 128)  0           stage2_unit3_bn3[0][0]           \n",
      "__________________________________________________________________________________________________\n",
      "stage2_unit3_conv3 (Conv2D)     (None, 32, 32, 512)  65536       stage2_unit3_relu3[0][0]         \n",
      "__________________________________________________________________________________________________\n",
      "add_6 (Add)                     (None, 32, 32, 512)  0           stage2_unit3_conv3[0][0]         \n",
      "                                                                 add_5[0][0]                      \n",
      "__________________________________________________________________________________________________\n",
      "stage2_unit4_bn1 (BatchNormaliz (None, 32, 32, 512)  2048        add_6[0][0]                      \n",
      "__________________________________________________________________________________________________\n",
      "stage2_unit4_relu1 (Activation) (None, 32, 32, 512)  0           stage2_unit4_bn1[0][0]           \n"
     ]
    },
    {
     "name": "stdout",
     "output_type": "stream",
     "text": [
      "__________________________________________________________________________________________________\n",
      "stage2_unit4_conv1 (Conv2D)     (None, 32, 32, 128)  65536       stage2_unit4_relu1[0][0]         \n",
      "__________________________________________________________________________________________________\n",
      "stage2_unit4_bn2 (BatchNormaliz (None, 32, 32, 128)  512         stage2_unit4_conv1[0][0]         \n",
      "__________________________________________________________________________________________________\n",
      "stage2_unit4_relu2 (Activation) (None, 32, 32, 128)  0           stage2_unit4_bn2[0][0]           \n",
      "__________________________________________________________________________________________________\n",
      "zero_padding2d_9 (ZeroPadding2D (None, 34, 34, 128)  0           stage2_unit4_relu2[0][0]         \n",
      "__________________________________________________________________________________________________\n",
      "stage2_unit4_conv2 (Conv2D)     (None, 32, 32, 128)  147456      zero_padding2d_9[0][0]           \n",
      "__________________________________________________________________________________________________\n",
      "stage2_unit4_bn3 (BatchNormaliz (None, 32, 32, 128)  512         stage2_unit4_conv2[0][0]         \n",
      "__________________________________________________________________________________________________\n",
      "stage2_unit4_relu3 (Activation) (None, 32, 32, 128)  0           stage2_unit4_bn3[0][0]           \n",
      "__________________________________________________________________________________________________\n",
      "stage2_unit4_conv3 (Conv2D)     (None, 32, 32, 512)  65536       stage2_unit4_relu3[0][0]         \n",
      "__________________________________________________________________________________________________\n",
      "add_7 (Add)                     (None, 32, 32, 512)  0           stage2_unit4_conv3[0][0]         \n",
      "                                                                 add_6[0][0]                      \n",
      "__________________________________________________________________________________________________\n",
      "stage2_unit5_bn1 (BatchNormaliz (None, 32, 32, 512)  2048        add_7[0][0]                      \n",
      "__________________________________________________________________________________________________\n",
      "stage2_unit5_relu1 (Activation) (None, 32, 32, 512)  0           stage2_unit5_bn1[0][0]           \n",
      "__________________________________________________________________________________________________\n",
      "stage2_unit5_conv1 (Conv2D)     (None, 32, 32, 128)  65536       stage2_unit5_relu1[0][0]         \n",
      "__________________________________________________________________________________________________\n",
      "stage2_unit5_bn2 (BatchNormaliz (None, 32, 32, 128)  512         stage2_unit5_conv1[0][0]         \n",
      "__________________________________________________________________________________________________\n",
      "stage2_unit5_relu2 (Activation) (None, 32, 32, 128)  0           stage2_unit5_bn2[0][0]           \n",
      "__________________________________________________________________________________________________\n",
      "zero_padding2d_10 (ZeroPadding2 (None, 34, 34, 128)  0           stage2_unit5_relu2[0][0]         \n",
      "__________________________________________________________________________________________________\n",
      "stage2_unit5_conv2 (Conv2D)     (None, 32, 32, 128)  147456      zero_padding2d_10[0][0]          \n",
      "__________________________________________________________________________________________________\n",
      "stage2_unit5_bn3 (BatchNormaliz (None, 32, 32, 128)  512         stage2_unit5_conv2[0][0]         \n",
      "__________________________________________________________________________________________________\n",
      "stage2_unit5_relu3 (Activation) (None, 32, 32, 128)  0           stage2_unit5_bn3[0][0]           \n",
      "__________________________________________________________________________________________________\n",
      "stage2_unit5_conv3 (Conv2D)     (None, 32, 32, 512)  65536       stage2_unit5_relu3[0][0]         \n",
      "__________________________________________________________________________________________________\n",
      "add_8 (Add)                     (None, 32, 32, 512)  0           stage2_unit5_conv3[0][0]         \n",
      "                                                                 add_7[0][0]                      \n",
      "__________________________________________________________________________________________________\n",
      "stage2_unit6_bn1 (BatchNormaliz (None, 32, 32, 512)  2048        add_8[0][0]                      \n",
      "__________________________________________________________________________________________________\n",
      "stage2_unit6_relu1 (Activation) (None, 32, 32, 512)  0           stage2_unit6_bn1[0][0]           \n",
      "__________________________________________________________________________________________________\n",
      "stage2_unit6_conv1 (Conv2D)     (None, 32, 32, 128)  65536       stage2_unit6_relu1[0][0]         \n",
      "__________________________________________________________________________________________________\n",
      "stage2_unit6_bn2 (BatchNormaliz (None, 32, 32, 128)  512         stage2_unit6_conv1[0][0]         \n",
      "__________________________________________________________________________________________________\n",
      "stage2_unit6_relu2 (Activation) (None, 32, 32, 128)  0           stage2_unit6_bn2[0][0]           \n",
      "__________________________________________________________________________________________________\n",
      "zero_padding2d_11 (ZeroPadding2 (None, 34, 34, 128)  0           stage2_unit6_relu2[0][0]         \n",
      "__________________________________________________________________________________________________\n",
      "stage2_unit6_conv2 (Conv2D)     (None, 32, 32, 128)  147456      zero_padding2d_11[0][0]          \n",
      "__________________________________________________________________________________________________\n",
      "stage2_unit6_bn3 (BatchNormaliz (None, 32, 32, 128)  512         stage2_unit6_conv2[0][0]         \n",
      "__________________________________________________________________________________________________\n",
      "stage2_unit6_relu3 (Activation) (None, 32, 32, 128)  0           stage2_unit6_bn3[0][0]           \n",
      "__________________________________________________________________________________________________\n",
      "stage2_unit6_conv3 (Conv2D)     (None, 32, 32, 512)  65536       stage2_unit6_relu3[0][0]         \n",
      "__________________________________________________________________________________________________\n",
      "add_9 (Add)                     (None, 32, 32, 512)  0           stage2_unit6_conv3[0][0]         \n",
      "                                                                 add_8[0][0]                      \n",
      "__________________________________________________________________________________________________\n",
      "stage2_unit7_bn1 (BatchNormaliz (None, 32, 32, 512)  2048        add_9[0][0]                      \n",
      "__________________________________________________________________________________________________\n",
      "stage2_unit7_relu1 (Activation) (None, 32, 32, 512)  0           stage2_unit7_bn1[0][0]           \n",
      "__________________________________________________________________________________________________\n",
      "stage2_unit7_conv1 (Conv2D)     (None, 32, 32, 128)  65536       stage2_unit7_relu1[0][0]         \n",
      "__________________________________________________________________________________________________\n",
      "stage2_unit7_bn2 (BatchNormaliz (None, 32, 32, 128)  512         stage2_unit7_conv1[0][0]         \n",
      "__________________________________________________________________________________________________\n",
      "stage2_unit7_relu2 (Activation) (None, 32, 32, 128)  0           stage2_unit7_bn2[0][0]           \n",
      "__________________________________________________________________________________________________\n",
      "zero_padding2d_12 (ZeroPadding2 (None, 34, 34, 128)  0           stage2_unit7_relu2[0][0]         \n",
      "__________________________________________________________________________________________________\n",
      "stage2_unit7_conv2 (Conv2D)     (None, 32, 32, 128)  147456      zero_padding2d_12[0][0]          \n",
      "__________________________________________________________________________________________________\n",
      "stage2_unit7_bn3 (BatchNormaliz (None, 32, 32, 128)  512         stage2_unit7_conv2[0][0]         \n",
      "__________________________________________________________________________________________________\n",
      "stage2_unit7_relu3 (Activation) (None, 32, 32, 128)  0           stage2_unit7_bn3[0][0]           \n",
      "__________________________________________________________________________________________________\n",
      "stage2_unit7_conv3 (Conv2D)     (None, 32, 32, 512)  65536       stage2_unit7_relu3[0][0]         \n",
      "__________________________________________________________________________________________________\n",
      "add_10 (Add)                    (None, 32, 32, 512)  0           stage2_unit7_conv3[0][0]         \n",
      "                                                                 add_9[0][0]                      \n",
      "__________________________________________________________________________________________________\n",
      "stage2_unit8_bn1 (BatchNormaliz (None, 32, 32, 512)  2048        add_10[0][0]                     \n",
      "__________________________________________________________________________________________________\n",
      "stage2_unit8_relu1 (Activation) (None, 32, 32, 512)  0           stage2_unit8_bn1[0][0]           \n",
      "__________________________________________________________________________________________________\n",
      "stage2_unit8_conv1 (Conv2D)     (None, 32, 32, 128)  65536       stage2_unit8_relu1[0][0]         \n",
      "__________________________________________________________________________________________________\n",
      "stage2_unit8_bn2 (BatchNormaliz (None, 32, 32, 128)  512         stage2_unit8_conv1[0][0]         \n",
      "__________________________________________________________________________________________________\n",
      "stage2_unit8_relu2 (Activation) (None, 32, 32, 128)  0           stage2_unit8_bn2[0][0]           \n",
      "__________________________________________________________________________________________________\n",
      "zero_padding2d_13 (ZeroPadding2 (None, 34, 34, 128)  0           stage2_unit8_relu2[0][0]         \n",
      "__________________________________________________________________________________________________\n",
      "stage2_unit8_conv2 (Conv2D)     (None, 32, 32, 128)  147456      zero_padding2d_13[0][0]          \n",
      "__________________________________________________________________________________________________\n",
      "stage2_unit8_bn3 (BatchNormaliz (None, 32, 32, 128)  512         stage2_unit8_conv2[0][0]         \n",
      "__________________________________________________________________________________________________\n",
      "stage2_unit8_relu3 (Activation) (None, 32, 32, 128)  0           stage2_unit8_bn3[0][0]           \n",
      "__________________________________________________________________________________________________\n",
      "stage2_unit8_conv3 (Conv2D)     (None, 32, 32, 512)  65536       stage2_unit8_relu3[0][0]         \n",
      "__________________________________________________________________________________________________\n",
      "add_11 (Add)                    (None, 32, 32, 512)  0           stage2_unit8_conv3[0][0]         \n",
      "                                                                 add_10[0][0]                     \n",
      "__________________________________________________________________________________________________\n",
      "stage3_unit1_bn1 (BatchNormaliz (None, 32, 32, 512)  2048        add_11[0][0]                     \n",
      "__________________________________________________________________________________________________\n",
      "stage3_unit1_relu1 (Activation) (None, 32, 32, 512)  0           stage3_unit1_bn1[0][0]           \n",
      "__________________________________________________________________________________________________\n",
      "stage3_unit1_conv1 (Conv2D)     (None, 32, 32, 256)  131072      stage3_unit1_relu1[0][0]         \n",
      "__________________________________________________________________________________________________\n",
      "stage3_unit1_bn2 (BatchNormaliz (None, 32, 32, 256)  1024        stage3_unit1_conv1[0][0]         \n",
      "__________________________________________________________________________________________________\n",
      "stage3_unit1_relu2 (Activation) (None, 32, 32, 256)  0           stage3_unit1_bn2[0][0]           \n",
      "__________________________________________________________________________________________________\n",
      "zero_padding2d_14 (ZeroPadding2 (None, 34, 34, 256)  0           stage3_unit1_relu2[0][0]         \n",
      "__________________________________________________________________________________________________\n",
      "stage3_unit1_conv2 (Conv2D)     (None, 16, 16, 256)  589824      zero_padding2d_14[0][0]          \n",
      "__________________________________________________________________________________________________\n",
      "stage3_unit1_bn3 (BatchNormaliz (None, 16, 16, 256)  1024        stage3_unit1_conv2[0][0]         \n",
      "__________________________________________________________________________________________________\n",
      "stage3_unit1_relu3 (Activation) (None, 16, 16, 256)  0           stage3_unit1_bn3[0][0]           \n",
      "__________________________________________________________________________________________________\n",
      "stage3_unit1_conv3 (Conv2D)     (None, 16, 16, 1024) 262144      stage3_unit1_relu3[0][0]         \n",
      "__________________________________________________________________________________________________\n",
      "stage3_unit1_sc (Conv2D)        (None, 16, 16, 1024) 524288      stage3_unit1_relu1[0][0]         \n",
      "__________________________________________________________________________________________________\n",
      "add_12 (Add)                    (None, 16, 16, 1024) 0           stage3_unit1_conv3[0][0]         \n",
      "                                                                 stage3_unit1_sc[0][0]            \n",
      "__________________________________________________________________________________________________\n",
      "stage3_unit2_bn1 (BatchNormaliz (None, 16, 16, 1024) 4096        add_12[0][0]                     \n",
      "__________________________________________________________________________________________________\n",
      "stage3_unit2_relu1 (Activation) (None, 16, 16, 1024) 0           stage3_unit2_bn1[0][0]           \n",
      "__________________________________________________________________________________________________\n",
      "stage3_unit2_conv1 (Conv2D)     (None, 16, 16, 256)  262144      stage3_unit2_relu1[0][0]         \n",
      "__________________________________________________________________________________________________\n",
      "stage3_unit2_bn2 (BatchNormaliz (None, 16, 16, 256)  1024        stage3_unit2_conv1[0][0]         \n",
      "__________________________________________________________________________________________________\n",
      "stage3_unit2_relu2 (Activation) (None, 16, 16, 256)  0           stage3_unit2_bn2[0][0]           \n",
      "__________________________________________________________________________________________________\n",
      "zero_padding2d_15 (ZeroPadding2 (None, 18, 18, 256)  0           stage3_unit2_relu2[0][0]         \n",
      "__________________________________________________________________________________________________\n",
      "stage3_unit2_conv2 (Conv2D)     (None, 16, 16, 256)  589824      zero_padding2d_15[0][0]          \n",
      "__________________________________________________________________________________________________\n",
      "stage3_unit2_bn3 (BatchNormaliz (None, 16, 16, 256)  1024        stage3_unit2_conv2[0][0]         \n",
      "__________________________________________________________________________________________________\n",
      "stage3_unit2_relu3 (Activation) (None, 16, 16, 256)  0           stage3_unit2_bn3[0][0]           \n",
      "__________________________________________________________________________________________________\n",
      "stage3_unit2_conv3 (Conv2D)     (None, 16, 16, 1024) 262144      stage3_unit2_relu3[0][0]         \n",
      "__________________________________________________________________________________________________\n",
      "add_13 (Add)                    (None, 16, 16, 1024) 0           stage3_unit2_conv3[0][0]         \n",
      "                                                                 add_12[0][0]                     \n",
      "__________________________________________________________________________________________________\n",
      "stage3_unit3_bn1 (BatchNormaliz (None, 16, 16, 1024) 4096        add_13[0][0]                     \n",
      "__________________________________________________________________________________________________\n",
      "stage3_unit3_relu1 (Activation) (None, 16, 16, 1024) 0           stage3_unit3_bn1[0][0]           \n",
      "__________________________________________________________________________________________________\n"
     ]
    },
    {
     "name": "stdout",
     "output_type": "stream",
     "text": [
      "stage3_unit3_conv1 (Conv2D)     (None, 16, 16, 256)  262144      stage3_unit3_relu1[0][0]         \n",
      "__________________________________________________________________________________________________\n",
      "stage3_unit3_bn2 (BatchNormaliz (None, 16, 16, 256)  1024        stage3_unit3_conv1[0][0]         \n",
      "__________________________________________________________________________________________________\n",
      "stage3_unit3_relu2 (Activation) (None, 16, 16, 256)  0           stage3_unit3_bn2[0][0]           \n",
      "__________________________________________________________________________________________________\n",
      "zero_padding2d_16 (ZeroPadding2 (None, 18, 18, 256)  0           stage3_unit3_relu2[0][0]         \n",
      "__________________________________________________________________________________________________\n",
      "stage3_unit3_conv2 (Conv2D)     (None, 16, 16, 256)  589824      zero_padding2d_16[0][0]          \n",
      "__________________________________________________________________________________________________\n",
      "stage3_unit3_bn3 (BatchNormaliz (None, 16, 16, 256)  1024        stage3_unit3_conv2[0][0]         \n",
      "__________________________________________________________________________________________________\n",
      "stage3_unit3_relu3 (Activation) (None, 16, 16, 256)  0           stage3_unit3_bn3[0][0]           \n",
      "__________________________________________________________________________________________________\n",
      "stage3_unit3_conv3 (Conv2D)     (None, 16, 16, 1024) 262144      stage3_unit3_relu3[0][0]         \n",
      "__________________________________________________________________________________________________\n",
      "add_14 (Add)                    (None, 16, 16, 1024) 0           stage3_unit3_conv3[0][0]         \n",
      "                                                                 add_13[0][0]                     \n",
      "__________________________________________________________________________________________________\n",
      "stage3_unit4_bn1 (BatchNormaliz (None, 16, 16, 1024) 4096        add_14[0][0]                     \n",
      "__________________________________________________________________________________________________\n",
      "stage3_unit4_relu1 (Activation) (None, 16, 16, 1024) 0           stage3_unit4_bn1[0][0]           \n",
      "__________________________________________________________________________________________________\n",
      "stage3_unit4_conv1 (Conv2D)     (None, 16, 16, 256)  262144      stage3_unit4_relu1[0][0]         \n",
      "__________________________________________________________________________________________________\n",
      "stage3_unit4_bn2 (BatchNormaliz (None, 16, 16, 256)  1024        stage3_unit4_conv1[0][0]         \n",
      "__________________________________________________________________________________________________\n",
      "stage3_unit4_relu2 (Activation) (None, 16, 16, 256)  0           stage3_unit4_bn2[0][0]           \n",
      "__________________________________________________________________________________________________\n",
      "zero_padding2d_17 (ZeroPadding2 (None, 18, 18, 256)  0           stage3_unit4_relu2[0][0]         \n",
      "__________________________________________________________________________________________________\n",
      "stage3_unit4_conv2 (Conv2D)     (None, 16, 16, 256)  589824      zero_padding2d_17[0][0]          \n",
      "__________________________________________________________________________________________________\n",
      "stage3_unit4_bn3 (BatchNormaliz (None, 16, 16, 256)  1024        stage3_unit4_conv2[0][0]         \n",
      "__________________________________________________________________________________________________\n",
      "stage3_unit4_relu3 (Activation) (None, 16, 16, 256)  0           stage3_unit4_bn3[0][0]           \n",
      "__________________________________________________________________________________________________\n",
      "stage3_unit4_conv3 (Conv2D)     (None, 16, 16, 1024) 262144      stage3_unit4_relu3[0][0]         \n",
      "__________________________________________________________________________________________________\n",
      "add_15 (Add)                    (None, 16, 16, 1024) 0           stage3_unit4_conv3[0][0]         \n",
      "                                                                 add_14[0][0]                     \n",
      "__________________________________________________________________________________________________\n",
      "stage3_unit5_bn1 (BatchNormaliz (None, 16, 16, 1024) 4096        add_15[0][0]                     \n",
      "__________________________________________________________________________________________________\n",
      "stage3_unit5_relu1 (Activation) (None, 16, 16, 1024) 0           stage3_unit5_bn1[0][0]           \n",
      "__________________________________________________________________________________________________\n",
      "stage3_unit5_conv1 (Conv2D)     (None, 16, 16, 256)  262144      stage3_unit5_relu1[0][0]         \n",
      "__________________________________________________________________________________________________\n",
      "stage3_unit5_bn2 (BatchNormaliz (None, 16, 16, 256)  1024        stage3_unit5_conv1[0][0]         \n",
      "__________________________________________________________________________________________________\n",
      "stage3_unit5_relu2 (Activation) (None, 16, 16, 256)  0           stage3_unit5_bn2[0][0]           \n",
      "__________________________________________________________________________________________________\n",
      "zero_padding2d_18 (ZeroPadding2 (None, 18, 18, 256)  0           stage3_unit5_relu2[0][0]         \n",
      "__________________________________________________________________________________________________\n",
      "stage3_unit5_conv2 (Conv2D)     (None, 16, 16, 256)  589824      zero_padding2d_18[0][0]          \n",
      "__________________________________________________________________________________________________\n",
      "stage3_unit5_bn3 (BatchNormaliz (None, 16, 16, 256)  1024        stage3_unit5_conv2[0][0]         \n",
      "__________________________________________________________________________________________________\n",
      "stage3_unit5_relu3 (Activation) (None, 16, 16, 256)  0           stage3_unit5_bn3[0][0]           \n",
      "__________________________________________________________________________________________________\n",
      "stage3_unit5_conv3 (Conv2D)     (None, 16, 16, 1024) 262144      stage3_unit5_relu3[0][0]         \n",
      "__________________________________________________________________________________________________\n",
      "add_16 (Add)                    (None, 16, 16, 1024) 0           stage3_unit5_conv3[0][0]         \n",
      "                                                                 add_15[0][0]                     \n",
      "__________________________________________________________________________________________________\n",
      "stage3_unit6_bn1 (BatchNormaliz (None, 16, 16, 1024) 4096        add_16[0][0]                     \n",
      "__________________________________________________________________________________________________\n",
      "stage3_unit6_relu1 (Activation) (None, 16, 16, 1024) 0           stage3_unit6_bn1[0][0]           \n",
      "__________________________________________________________________________________________________\n",
      "stage3_unit6_conv1 (Conv2D)     (None, 16, 16, 256)  262144      stage3_unit6_relu1[0][0]         \n",
      "__________________________________________________________________________________________________\n",
      "stage3_unit6_bn2 (BatchNormaliz (None, 16, 16, 256)  1024        stage3_unit6_conv1[0][0]         \n",
      "__________________________________________________________________________________________________\n",
      "stage3_unit6_relu2 (Activation) (None, 16, 16, 256)  0           stage3_unit6_bn2[0][0]           \n",
      "__________________________________________________________________________________________________\n",
      "zero_padding2d_19 (ZeroPadding2 (None, 18, 18, 256)  0           stage3_unit6_relu2[0][0]         \n",
      "__________________________________________________________________________________________________\n",
      "stage3_unit6_conv2 (Conv2D)     (None, 16, 16, 256)  589824      zero_padding2d_19[0][0]          \n",
      "__________________________________________________________________________________________________\n",
      "stage3_unit6_bn3 (BatchNormaliz (None, 16, 16, 256)  1024        stage3_unit6_conv2[0][0]         \n",
      "__________________________________________________________________________________________________\n",
      "stage3_unit6_relu3 (Activation) (None, 16, 16, 256)  0           stage3_unit6_bn3[0][0]           \n",
      "__________________________________________________________________________________________________\n",
      "stage3_unit6_conv3 (Conv2D)     (None, 16, 16, 1024) 262144      stage3_unit6_relu3[0][0]         \n",
      "__________________________________________________________________________________________________\n",
      "add_17 (Add)                    (None, 16, 16, 1024) 0           stage3_unit6_conv3[0][0]         \n",
      "                                                                 add_16[0][0]                     \n",
      "__________________________________________________________________________________________________\n",
      "stage3_unit7_bn1 (BatchNormaliz (None, 16, 16, 1024) 4096        add_17[0][0]                     \n",
      "__________________________________________________________________________________________________\n",
      "stage3_unit7_relu1 (Activation) (None, 16, 16, 1024) 0           stage3_unit7_bn1[0][0]           \n",
      "__________________________________________________________________________________________________\n",
      "stage3_unit7_conv1 (Conv2D)     (None, 16, 16, 256)  262144      stage3_unit7_relu1[0][0]         \n",
      "__________________________________________________________________________________________________\n",
      "stage3_unit7_bn2 (BatchNormaliz (None, 16, 16, 256)  1024        stage3_unit7_conv1[0][0]         \n",
      "__________________________________________________________________________________________________\n",
      "stage3_unit7_relu2 (Activation) (None, 16, 16, 256)  0           stage3_unit7_bn2[0][0]           \n",
      "__________________________________________________________________________________________________\n",
      "zero_padding2d_20 (ZeroPadding2 (None, 18, 18, 256)  0           stage3_unit7_relu2[0][0]         \n",
      "__________________________________________________________________________________________________\n",
      "stage3_unit7_conv2 (Conv2D)     (None, 16, 16, 256)  589824      zero_padding2d_20[0][0]          \n",
      "__________________________________________________________________________________________________\n",
      "stage3_unit7_bn3 (BatchNormaliz (None, 16, 16, 256)  1024        stage3_unit7_conv2[0][0]         \n",
      "__________________________________________________________________________________________________\n",
      "stage3_unit7_relu3 (Activation) (None, 16, 16, 256)  0           stage3_unit7_bn3[0][0]           \n",
      "__________________________________________________________________________________________________\n",
      "stage3_unit7_conv3 (Conv2D)     (None, 16, 16, 1024) 262144      stage3_unit7_relu3[0][0]         \n",
      "__________________________________________________________________________________________________\n",
      "add_18 (Add)                    (None, 16, 16, 1024) 0           stage3_unit7_conv3[0][0]         \n",
      "                                                                 add_17[0][0]                     \n",
      "__________________________________________________________________________________________________\n",
      "stage3_unit8_bn1 (BatchNormaliz (None, 16, 16, 1024) 4096        add_18[0][0]                     \n",
      "__________________________________________________________________________________________________\n",
      "stage3_unit8_relu1 (Activation) (None, 16, 16, 1024) 0           stage3_unit8_bn1[0][0]           \n",
      "__________________________________________________________________________________________________\n",
      "stage3_unit8_conv1 (Conv2D)     (None, 16, 16, 256)  262144      stage3_unit8_relu1[0][0]         \n",
      "__________________________________________________________________________________________________\n",
      "stage3_unit8_bn2 (BatchNormaliz (None, 16, 16, 256)  1024        stage3_unit8_conv1[0][0]         \n",
      "__________________________________________________________________________________________________\n",
      "stage3_unit8_relu2 (Activation) (None, 16, 16, 256)  0           stage3_unit8_bn2[0][0]           \n",
      "__________________________________________________________________________________________________\n",
      "zero_padding2d_21 (ZeroPadding2 (None, 18, 18, 256)  0           stage3_unit8_relu2[0][0]         \n",
      "__________________________________________________________________________________________________\n",
      "stage3_unit8_conv2 (Conv2D)     (None, 16, 16, 256)  589824      zero_padding2d_21[0][0]          \n",
      "__________________________________________________________________________________________________\n",
      "stage3_unit8_bn3 (BatchNormaliz (None, 16, 16, 256)  1024        stage3_unit8_conv2[0][0]         \n",
      "__________________________________________________________________________________________________\n",
      "stage3_unit8_relu3 (Activation) (None, 16, 16, 256)  0           stage3_unit8_bn3[0][0]           \n",
      "__________________________________________________________________________________________________\n",
      "stage3_unit8_conv3 (Conv2D)     (None, 16, 16, 1024) 262144      stage3_unit8_relu3[0][0]         \n",
      "__________________________________________________________________________________________________\n",
      "add_19 (Add)                    (None, 16, 16, 1024) 0           stage3_unit8_conv3[0][0]         \n",
      "                                                                 add_18[0][0]                     \n",
      "__________________________________________________________________________________________________\n",
      "stage3_unit9_bn1 (BatchNormaliz (None, 16, 16, 1024) 4096        add_19[0][0]                     \n",
      "__________________________________________________________________________________________________\n",
      "stage3_unit9_relu1 (Activation) (None, 16, 16, 1024) 0           stage3_unit9_bn1[0][0]           \n",
      "__________________________________________________________________________________________________\n",
      "stage3_unit9_conv1 (Conv2D)     (None, 16, 16, 256)  262144      stage3_unit9_relu1[0][0]         \n",
      "__________________________________________________________________________________________________\n",
      "stage3_unit9_bn2 (BatchNormaliz (None, 16, 16, 256)  1024        stage3_unit9_conv1[0][0]         \n",
      "__________________________________________________________________________________________________\n",
      "stage3_unit9_relu2 (Activation) (None, 16, 16, 256)  0           stage3_unit9_bn2[0][0]           \n",
      "__________________________________________________________________________________________________\n",
      "zero_padding2d_22 (ZeroPadding2 (None, 18, 18, 256)  0           stage3_unit9_relu2[0][0]         \n",
      "__________________________________________________________________________________________________\n",
      "stage3_unit9_conv2 (Conv2D)     (None, 16, 16, 256)  589824      zero_padding2d_22[0][0]          \n",
      "__________________________________________________________________________________________________\n",
      "stage3_unit9_bn3 (BatchNormaliz (None, 16, 16, 256)  1024        stage3_unit9_conv2[0][0]         \n",
      "__________________________________________________________________________________________________\n",
      "stage3_unit9_relu3 (Activation) (None, 16, 16, 256)  0           stage3_unit9_bn3[0][0]           \n",
      "__________________________________________________________________________________________________\n",
      "stage3_unit9_conv3 (Conv2D)     (None, 16, 16, 1024) 262144      stage3_unit9_relu3[0][0]         \n",
      "__________________________________________________________________________________________________\n",
      "add_20 (Add)                    (None, 16, 16, 1024) 0           stage3_unit9_conv3[0][0]         \n",
      "                                                                 add_19[0][0]                     \n",
      "__________________________________________________________________________________________________\n",
      "stage3_unit10_bn1 (BatchNormali (None, 16, 16, 1024) 4096        add_20[0][0]                     \n",
      "__________________________________________________________________________________________________\n",
      "stage3_unit10_relu1 (Activation (None, 16, 16, 1024) 0           stage3_unit10_bn1[0][0]          \n",
      "__________________________________________________________________________________________________\n",
      "stage3_unit10_conv1 (Conv2D)    (None, 16, 16, 256)  262144      stage3_unit10_relu1[0][0]        \n",
      "__________________________________________________________________________________________________\n",
      "stage3_unit10_bn2 (BatchNormali (None, 16, 16, 256)  1024        stage3_unit10_conv1[0][0]        \n"
     ]
    },
    {
     "name": "stdout",
     "output_type": "stream",
     "text": [
      "__________________________________________________________________________________________________\n",
      "stage3_unit10_relu2 (Activation (None, 16, 16, 256)  0           stage3_unit10_bn2[0][0]          \n",
      "__________________________________________________________________________________________________\n",
      "zero_padding2d_23 (ZeroPadding2 (None, 18, 18, 256)  0           stage3_unit10_relu2[0][0]        \n",
      "__________________________________________________________________________________________________\n",
      "stage3_unit10_conv2 (Conv2D)    (None, 16, 16, 256)  589824      zero_padding2d_23[0][0]          \n",
      "__________________________________________________________________________________________________\n",
      "stage3_unit10_bn3 (BatchNormali (None, 16, 16, 256)  1024        stage3_unit10_conv2[0][0]        \n",
      "__________________________________________________________________________________________________\n",
      "stage3_unit10_relu3 (Activation (None, 16, 16, 256)  0           stage3_unit10_bn3[0][0]          \n",
      "__________________________________________________________________________________________________\n",
      "stage3_unit10_conv3 (Conv2D)    (None, 16, 16, 1024) 262144      stage3_unit10_relu3[0][0]        \n",
      "__________________________________________________________________________________________________\n",
      "add_21 (Add)                    (None, 16, 16, 1024) 0           stage3_unit10_conv3[0][0]        \n",
      "                                                                 add_20[0][0]                     \n",
      "__________________________________________________________________________________________________\n",
      "stage3_unit11_bn1 (BatchNormali (None, 16, 16, 1024) 4096        add_21[0][0]                     \n",
      "__________________________________________________________________________________________________\n",
      "stage3_unit11_relu1 (Activation (None, 16, 16, 1024) 0           stage3_unit11_bn1[0][0]          \n",
      "__________________________________________________________________________________________________\n",
      "stage3_unit11_conv1 (Conv2D)    (None, 16, 16, 256)  262144      stage3_unit11_relu1[0][0]        \n",
      "__________________________________________________________________________________________________\n",
      "stage3_unit11_bn2 (BatchNormali (None, 16, 16, 256)  1024        stage3_unit11_conv1[0][0]        \n",
      "__________________________________________________________________________________________________\n",
      "stage3_unit11_relu2 (Activation (None, 16, 16, 256)  0           stage3_unit11_bn2[0][0]          \n",
      "__________________________________________________________________________________________________\n",
      "zero_padding2d_24 (ZeroPadding2 (None, 18, 18, 256)  0           stage3_unit11_relu2[0][0]        \n",
      "__________________________________________________________________________________________________\n",
      "stage3_unit11_conv2 (Conv2D)    (None, 16, 16, 256)  589824      zero_padding2d_24[0][0]          \n",
      "__________________________________________________________________________________________________\n",
      "stage3_unit11_bn3 (BatchNormali (None, 16, 16, 256)  1024        stage3_unit11_conv2[0][0]        \n",
      "__________________________________________________________________________________________________\n",
      "stage3_unit11_relu3 (Activation (None, 16, 16, 256)  0           stage3_unit11_bn3[0][0]          \n",
      "__________________________________________________________________________________________________\n",
      "stage3_unit11_conv3 (Conv2D)    (None, 16, 16, 1024) 262144      stage3_unit11_relu3[0][0]        \n",
      "__________________________________________________________________________________________________\n",
      "add_22 (Add)                    (None, 16, 16, 1024) 0           stage3_unit11_conv3[0][0]        \n",
      "                                                                 add_21[0][0]                     \n",
      "__________________________________________________________________________________________________\n",
      "stage3_unit12_bn1 (BatchNormali (None, 16, 16, 1024) 4096        add_22[0][0]                     \n",
      "__________________________________________________________________________________________________\n",
      "stage3_unit12_relu1 (Activation (None, 16, 16, 1024) 0           stage3_unit12_bn1[0][0]          \n",
      "__________________________________________________________________________________________________\n",
      "stage3_unit12_conv1 (Conv2D)    (None, 16, 16, 256)  262144      stage3_unit12_relu1[0][0]        \n",
      "__________________________________________________________________________________________________\n",
      "stage3_unit12_bn2 (BatchNormali (None, 16, 16, 256)  1024        stage3_unit12_conv1[0][0]        \n",
      "__________________________________________________________________________________________________\n",
      "stage3_unit12_relu2 (Activation (None, 16, 16, 256)  0           stage3_unit12_bn2[0][0]          \n",
      "__________________________________________________________________________________________________\n",
      "zero_padding2d_25 (ZeroPadding2 (None, 18, 18, 256)  0           stage3_unit12_relu2[0][0]        \n",
      "__________________________________________________________________________________________________\n",
      "stage3_unit12_conv2 (Conv2D)    (None, 16, 16, 256)  589824      zero_padding2d_25[0][0]          \n",
      "__________________________________________________________________________________________________\n",
      "stage3_unit12_bn3 (BatchNormali (None, 16, 16, 256)  1024        stage3_unit12_conv2[0][0]        \n",
      "__________________________________________________________________________________________________\n",
      "stage3_unit12_relu3 (Activation (None, 16, 16, 256)  0           stage3_unit12_bn3[0][0]          \n",
      "__________________________________________________________________________________________________\n",
      "stage3_unit12_conv3 (Conv2D)    (None, 16, 16, 1024) 262144      stage3_unit12_relu3[0][0]        \n",
      "__________________________________________________________________________________________________\n",
      "add_23 (Add)                    (None, 16, 16, 1024) 0           stage3_unit12_conv3[0][0]        \n",
      "                                                                 add_22[0][0]                     \n",
      "__________________________________________________________________________________________________\n",
      "stage3_unit13_bn1 (BatchNormali (None, 16, 16, 1024) 4096        add_23[0][0]                     \n",
      "__________________________________________________________________________________________________\n",
      "stage3_unit13_relu1 (Activation (None, 16, 16, 1024) 0           stage3_unit13_bn1[0][0]          \n",
      "__________________________________________________________________________________________________\n",
      "stage3_unit13_conv1 (Conv2D)    (None, 16, 16, 256)  262144      stage3_unit13_relu1[0][0]        \n",
      "__________________________________________________________________________________________________\n",
      "stage3_unit13_bn2 (BatchNormali (None, 16, 16, 256)  1024        stage3_unit13_conv1[0][0]        \n",
      "__________________________________________________________________________________________________\n",
      "stage3_unit13_relu2 (Activation (None, 16, 16, 256)  0           stage3_unit13_bn2[0][0]          \n",
      "__________________________________________________________________________________________________\n",
      "zero_padding2d_26 (ZeroPadding2 (None, 18, 18, 256)  0           stage3_unit13_relu2[0][0]        \n",
      "__________________________________________________________________________________________________\n",
      "stage3_unit13_conv2 (Conv2D)    (None, 16, 16, 256)  589824      zero_padding2d_26[0][0]          \n",
      "__________________________________________________________________________________________________\n",
      "stage3_unit13_bn3 (BatchNormali (None, 16, 16, 256)  1024        stage3_unit13_conv2[0][0]        \n",
      "__________________________________________________________________________________________________\n",
      "stage3_unit13_relu3 (Activation (None, 16, 16, 256)  0           stage3_unit13_bn3[0][0]          \n",
      "__________________________________________________________________________________________________\n",
      "stage3_unit13_conv3 (Conv2D)    (None, 16, 16, 1024) 262144      stage3_unit13_relu3[0][0]        \n",
      "__________________________________________________________________________________________________\n",
      "add_24 (Add)                    (None, 16, 16, 1024) 0           stage3_unit13_conv3[0][0]        \n",
      "                                                                 add_23[0][0]                     \n",
      "__________________________________________________________________________________________________\n",
      "stage3_unit14_bn1 (BatchNormali (None, 16, 16, 1024) 4096        add_24[0][0]                     \n",
      "__________________________________________________________________________________________________\n",
      "stage3_unit14_relu1 (Activation (None, 16, 16, 1024) 0           stage3_unit14_bn1[0][0]          \n",
      "__________________________________________________________________________________________________\n",
      "stage3_unit14_conv1 (Conv2D)    (None, 16, 16, 256)  262144      stage3_unit14_relu1[0][0]        \n",
      "__________________________________________________________________________________________________\n",
      "stage3_unit14_bn2 (BatchNormali (None, 16, 16, 256)  1024        stage3_unit14_conv1[0][0]        \n",
      "__________________________________________________________________________________________________\n",
      "stage3_unit14_relu2 (Activation (None, 16, 16, 256)  0           stage3_unit14_bn2[0][0]          \n",
      "__________________________________________________________________________________________________\n",
      "zero_padding2d_27 (ZeroPadding2 (None, 18, 18, 256)  0           stage3_unit14_relu2[0][0]        \n",
      "__________________________________________________________________________________________________\n",
      "stage3_unit14_conv2 (Conv2D)    (None, 16, 16, 256)  589824      zero_padding2d_27[0][0]          \n",
      "__________________________________________________________________________________________________\n",
      "stage3_unit14_bn3 (BatchNormali (None, 16, 16, 256)  1024        stage3_unit14_conv2[0][0]        \n",
      "__________________________________________________________________________________________________\n",
      "stage3_unit14_relu3 (Activation (None, 16, 16, 256)  0           stage3_unit14_bn3[0][0]          \n",
      "__________________________________________________________________________________________________\n",
      "stage3_unit14_conv3 (Conv2D)    (None, 16, 16, 1024) 262144      stage3_unit14_relu3[0][0]        \n",
      "__________________________________________________________________________________________________\n",
      "add_25 (Add)                    (None, 16, 16, 1024) 0           stage3_unit14_conv3[0][0]        \n",
      "                                                                 add_24[0][0]                     \n",
      "__________________________________________________________________________________________________\n",
      "stage3_unit15_bn1 (BatchNormali (None, 16, 16, 1024) 4096        add_25[0][0]                     \n",
      "__________________________________________________________________________________________________\n",
      "stage3_unit15_relu1 (Activation (None, 16, 16, 1024) 0           stage3_unit15_bn1[0][0]          \n",
      "__________________________________________________________________________________________________\n",
      "stage3_unit15_conv1 (Conv2D)    (None, 16, 16, 256)  262144      stage3_unit15_relu1[0][0]        \n",
      "__________________________________________________________________________________________________\n",
      "stage3_unit15_bn2 (BatchNormali (None, 16, 16, 256)  1024        stage3_unit15_conv1[0][0]        \n",
      "__________________________________________________________________________________________________\n",
      "stage3_unit15_relu2 (Activation (None, 16, 16, 256)  0           stage3_unit15_bn2[0][0]          \n",
      "__________________________________________________________________________________________________\n",
      "zero_padding2d_28 (ZeroPadding2 (None, 18, 18, 256)  0           stage3_unit15_relu2[0][0]        \n",
      "__________________________________________________________________________________________________\n",
      "stage3_unit15_conv2 (Conv2D)    (None, 16, 16, 256)  589824      zero_padding2d_28[0][0]          \n",
      "__________________________________________________________________________________________________\n",
      "stage3_unit15_bn3 (BatchNormali (None, 16, 16, 256)  1024        stage3_unit15_conv2[0][0]        \n",
      "__________________________________________________________________________________________________\n",
      "stage3_unit15_relu3 (Activation (None, 16, 16, 256)  0           stage3_unit15_bn3[0][0]          \n",
      "__________________________________________________________________________________________________\n",
      "stage3_unit15_conv3 (Conv2D)    (None, 16, 16, 1024) 262144      stage3_unit15_relu3[0][0]        \n",
      "__________________________________________________________________________________________________\n",
      "add_26 (Add)                    (None, 16, 16, 1024) 0           stage3_unit15_conv3[0][0]        \n",
      "                                                                 add_25[0][0]                     \n",
      "__________________________________________________________________________________________________\n",
      "stage3_unit16_bn1 (BatchNormali (None, 16, 16, 1024) 4096        add_26[0][0]                     \n",
      "__________________________________________________________________________________________________\n",
      "stage3_unit16_relu1 (Activation (None, 16, 16, 1024) 0           stage3_unit16_bn1[0][0]          \n",
      "__________________________________________________________________________________________________\n",
      "stage3_unit16_conv1 (Conv2D)    (None, 16, 16, 256)  262144      stage3_unit16_relu1[0][0]        \n",
      "__________________________________________________________________________________________________\n",
      "stage3_unit16_bn2 (BatchNormali (None, 16, 16, 256)  1024        stage3_unit16_conv1[0][0]        \n",
      "__________________________________________________________________________________________________\n",
      "stage3_unit16_relu2 (Activation (None, 16, 16, 256)  0           stage3_unit16_bn2[0][0]          \n",
      "__________________________________________________________________________________________________\n",
      "zero_padding2d_29 (ZeroPadding2 (None, 18, 18, 256)  0           stage3_unit16_relu2[0][0]        \n",
      "__________________________________________________________________________________________________\n",
      "stage3_unit16_conv2 (Conv2D)    (None, 16, 16, 256)  589824      zero_padding2d_29[0][0]          \n",
      "__________________________________________________________________________________________________\n",
      "stage3_unit16_bn3 (BatchNormali (None, 16, 16, 256)  1024        stage3_unit16_conv2[0][0]        \n",
      "__________________________________________________________________________________________________\n",
      "stage3_unit16_relu3 (Activation (None, 16, 16, 256)  0           stage3_unit16_bn3[0][0]          \n",
      "__________________________________________________________________________________________________\n",
      "stage3_unit16_conv3 (Conv2D)    (None, 16, 16, 1024) 262144      stage3_unit16_relu3[0][0]        \n",
      "__________________________________________________________________________________________________\n",
      "add_27 (Add)                    (None, 16, 16, 1024) 0           stage3_unit16_conv3[0][0]        \n",
      "                                                                 add_26[0][0]                     \n",
      "__________________________________________________________________________________________________\n",
      "stage3_unit17_bn1 (BatchNormali (None, 16, 16, 1024) 4096        add_27[0][0]                     \n",
      "__________________________________________________________________________________________________\n",
      "stage3_unit17_relu1 (Activation (None, 16, 16, 1024) 0           stage3_unit17_bn1[0][0]          \n",
      "__________________________________________________________________________________________________\n",
      "stage3_unit17_conv1 (Conv2D)    (None, 16, 16, 256)  262144      stage3_unit17_relu1[0][0]        \n",
      "__________________________________________________________________________________________________\n",
      "stage3_unit17_bn2 (BatchNormali (None, 16, 16, 256)  1024        stage3_unit17_conv1[0][0]        \n",
      "__________________________________________________________________________________________________\n",
      "stage3_unit17_relu2 (Activation (None, 16, 16, 256)  0           stage3_unit17_bn2[0][0]          \n",
      "__________________________________________________________________________________________________\n"
     ]
    },
    {
     "name": "stdout",
     "output_type": "stream",
     "text": [
      "zero_padding2d_30 (ZeroPadding2 (None, 18, 18, 256)  0           stage3_unit17_relu2[0][0]        \n",
      "__________________________________________________________________________________________________\n",
      "stage3_unit17_conv2 (Conv2D)    (None, 16, 16, 256)  589824      zero_padding2d_30[0][0]          \n",
      "__________________________________________________________________________________________________\n",
      "stage3_unit17_bn3 (BatchNormali (None, 16, 16, 256)  1024        stage3_unit17_conv2[0][0]        \n",
      "__________________________________________________________________________________________________\n",
      "stage3_unit17_relu3 (Activation (None, 16, 16, 256)  0           stage3_unit17_bn3[0][0]          \n",
      "__________________________________________________________________________________________________\n",
      "stage3_unit17_conv3 (Conv2D)    (None, 16, 16, 1024) 262144      stage3_unit17_relu3[0][0]        \n",
      "__________________________________________________________________________________________________\n",
      "add_28 (Add)                    (None, 16, 16, 1024) 0           stage3_unit17_conv3[0][0]        \n",
      "                                                                 add_27[0][0]                     \n",
      "__________________________________________________________________________________________________\n",
      "stage3_unit18_bn1 (BatchNormali (None, 16, 16, 1024) 4096        add_28[0][0]                     \n",
      "__________________________________________________________________________________________________\n",
      "stage3_unit18_relu1 (Activation (None, 16, 16, 1024) 0           stage3_unit18_bn1[0][0]          \n",
      "__________________________________________________________________________________________________\n",
      "stage3_unit18_conv1 (Conv2D)    (None, 16, 16, 256)  262144      stage3_unit18_relu1[0][0]        \n",
      "__________________________________________________________________________________________________\n",
      "stage3_unit18_bn2 (BatchNormali (None, 16, 16, 256)  1024        stage3_unit18_conv1[0][0]        \n",
      "__________________________________________________________________________________________________\n",
      "stage3_unit18_relu2 (Activation (None, 16, 16, 256)  0           stage3_unit18_bn2[0][0]          \n",
      "__________________________________________________________________________________________________\n",
      "zero_padding2d_31 (ZeroPadding2 (None, 18, 18, 256)  0           stage3_unit18_relu2[0][0]        \n",
      "__________________________________________________________________________________________________\n",
      "stage3_unit18_conv2 (Conv2D)    (None, 16, 16, 256)  589824      zero_padding2d_31[0][0]          \n",
      "__________________________________________________________________________________________________\n",
      "stage3_unit18_bn3 (BatchNormali (None, 16, 16, 256)  1024        stage3_unit18_conv2[0][0]        \n",
      "__________________________________________________________________________________________________\n",
      "stage3_unit18_relu3 (Activation (None, 16, 16, 256)  0           stage3_unit18_bn3[0][0]          \n",
      "__________________________________________________________________________________________________\n",
      "stage3_unit18_conv3 (Conv2D)    (None, 16, 16, 1024) 262144      stage3_unit18_relu3[0][0]        \n",
      "__________________________________________________________________________________________________\n",
      "add_29 (Add)                    (None, 16, 16, 1024) 0           stage3_unit18_conv3[0][0]        \n",
      "                                                                 add_28[0][0]                     \n",
      "__________________________________________________________________________________________________\n",
      "stage3_unit19_bn1 (BatchNormali (None, 16, 16, 1024) 4096        add_29[0][0]                     \n",
      "__________________________________________________________________________________________________\n",
      "stage3_unit19_relu1 (Activation (None, 16, 16, 1024) 0           stage3_unit19_bn1[0][0]          \n",
      "__________________________________________________________________________________________________\n",
      "stage3_unit19_conv1 (Conv2D)    (None, 16, 16, 256)  262144      stage3_unit19_relu1[0][0]        \n",
      "__________________________________________________________________________________________________\n",
      "stage3_unit19_bn2 (BatchNormali (None, 16, 16, 256)  1024        stage3_unit19_conv1[0][0]        \n",
      "__________________________________________________________________________________________________\n",
      "stage3_unit19_relu2 (Activation (None, 16, 16, 256)  0           stage3_unit19_bn2[0][0]          \n",
      "__________________________________________________________________________________________________\n",
      "zero_padding2d_32 (ZeroPadding2 (None, 18, 18, 256)  0           stage3_unit19_relu2[0][0]        \n",
      "__________________________________________________________________________________________________\n",
      "stage3_unit19_conv2 (Conv2D)    (None, 16, 16, 256)  589824      zero_padding2d_32[0][0]          \n",
      "__________________________________________________________________________________________________\n",
      "stage3_unit19_bn3 (BatchNormali (None, 16, 16, 256)  1024        stage3_unit19_conv2[0][0]        \n",
      "__________________________________________________________________________________________________\n",
      "stage3_unit19_relu3 (Activation (None, 16, 16, 256)  0           stage3_unit19_bn3[0][0]          \n",
      "__________________________________________________________________________________________________\n",
      "stage3_unit19_conv3 (Conv2D)    (None, 16, 16, 1024) 262144      stage3_unit19_relu3[0][0]        \n",
      "__________________________________________________________________________________________________\n",
      "add_30 (Add)                    (None, 16, 16, 1024) 0           stage3_unit19_conv3[0][0]        \n",
      "                                                                 add_29[0][0]                     \n",
      "__________________________________________________________________________________________________\n",
      "stage3_unit20_bn1 (BatchNormali (None, 16, 16, 1024) 4096        add_30[0][0]                     \n",
      "__________________________________________________________________________________________________\n",
      "stage3_unit20_relu1 (Activation (None, 16, 16, 1024) 0           stage3_unit20_bn1[0][0]          \n",
      "__________________________________________________________________________________________________\n",
      "stage3_unit20_conv1 (Conv2D)    (None, 16, 16, 256)  262144      stage3_unit20_relu1[0][0]        \n",
      "__________________________________________________________________________________________________\n",
      "stage3_unit20_bn2 (BatchNormali (None, 16, 16, 256)  1024        stage3_unit20_conv1[0][0]        \n",
      "__________________________________________________________________________________________________\n",
      "stage3_unit20_relu2 (Activation (None, 16, 16, 256)  0           stage3_unit20_bn2[0][0]          \n",
      "__________________________________________________________________________________________________\n",
      "zero_padding2d_33 (ZeroPadding2 (None, 18, 18, 256)  0           stage3_unit20_relu2[0][0]        \n",
      "__________________________________________________________________________________________________\n",
      "stage3_unit20_conv2 (Conv2D)    (None, 16, 16, 256)  589824      zero_padding2d_33[0][0]          \n",
      "__________________________________________________________________________________________________\n",
      "stage3_unit20_bn3 (BatchNormali (None, 16, 16, 256)  1024        stage3_unit20_conv2[0][0]        \n",
      "__________________________________________________________________________________________________\n",
      "stage3_unit20_relu3 (Activation (None, 16, 16, 256)  0           stage3_unit20_bn3[0][0]          \n",
      "__________________________________________________________________________________________________\n",
      "stage3_unit20_conv3 (Conv2D)    (None, 16, 16, 1024) 262144      stage3_unit20_relu3[0][0]        \n",
      "__________________________________________________________________________________________________\n",
      "add_31 (Add)                    (None, 16, 16, 1024) 0           stage3_unit20_conv3[0][0]        \n",
      "                                                                 add_30[0][0]                     \n",
      "__________________________________________________________________________________________________\n",
      "stage3_unit21_bn1 (BatchNormali (None, 16, 16, 1024) 4096        add_31[0][0]                     \n",
      "__________________________________________________________________________________________________\n",
      "stage3_unit21_relu1 (Activation (None, 16, 16, 1024) 0           stage3_unit21_bn1[0][0]          \n",
      "__________________________________________________________________________________________________\n",
      "stage3_unit21_conv1 (Conv2D)    (None, 16, 16, 256)  262144      stage3_unit21_relu1[0][0]        \n",
      "__________________________________________________________________________________________________\n",
      "stage3_unit21_bn2 (BatchNormali (None, 16, 16, 256)  1024        stage3_unit21_conv1[0][0]        \n",
      "__________________________________________________________________________________________________\n",
      "stage3_unit21_relu2 (Activation (None, 16, 16, 256)  0           stage3_unit21_bn2[0][0]          \n",
      "__________________________________________________________________________________________________\n",
      "zero_padding2d_34 (ZeroPadding2 (None, 18, 18, 256)  0           stage3_unit21_relu2[0][0]        \n",
      "__________________________________________________________________________________________________\n",
      "stage3_unit21_conv2 (Conv2D)    (None, 16, 16, 256)  589824      zero_padding2d_34[0][0]          \n",
      "__________________________________________________________________________________________________\n",
      "stage3_unit21_bn3 (BatchNormali (None, 16, 16, 256)  1024        stage3_unit21_conv2[0][0]        \n",
      "__________________________________________________________________________________________________\n",
      "stage3_unit21_relu3 (Activation (None, 16, 16, 256)  0           stage3_unit21_bn3[0][0]          \n",
      "__________________________________________________________________________________________________\n",
      "stage3_unit21_conv3 (Conv2D)    (None, 16, 16, 1024) 262144      stage3_unit21_relu3[0][0]        \n",
      "__________________________________________________________________________________________________\n",
      "add_32 (Add)                    (None, 16, 16, 1024) 0           stage3_unit21_conv3[0][0]        \n",
      "                                                                 add_31[0][0]                     \n",
      "__________________________________________________________________________________________________\n",
      "stage3_unit22_bn1 (BatchNormali (None, 16, 16, 1024) 4096        add_32[0][0]                     \n",
      "__________________________________________________________________________________________________\n",
      "stage3_unit22_relu1 (Activation (None, 16, 16, 1024) 0           stage3_unit22_bn1[0][0]          \n",
      "__________________________________________________________________________________________________\n",
      "stage3_unit22_conv1 (Conv2D)    (None, 16, 16, 256)  262144      stage3_unit22_relu1[0][0]        \n",
      "__________________________________________________________________________________________________\n",
      "stage3_unit22_bn2 (BatchNormali (None, 16, 16, 256)  1024        stage3_unit22_conv1[0][0]        \n",
      "__________________________________________________________________________________________________\n",
      "stage3_unit22_relu2 (Activation (None, 16, 16, 256)  0           stage3_unit22_bn2[0][0]          \n",
      "__________________________________________________________________________________________________\n",
      "zero_padding2d_35 (ZeroPadding2 (None, 18, 18, 256)  0           stage3_unit22_relu2[0][0]        \n",
      "__________________________________________________________________________________________________\n",
      "stage3_unit22_conv2 (Conv2D)    (None, 16, 16, 256)  589824      zero_padding2d_35[0][0]          \n",
      "__________________________________________________________________________________________________\n",
      "stage3_unit22_bn3 (BatchNormali (None, 16, 16, 256)  1024        stage3_unit22_conv2[0][0]        \n",
      "__________________________________________________________________________________________________\n",
      "stage3_unit22_relu3 (Activation (None, 16, 16, 256)  0           stage3_unit22_bn3[0][0]          \n",
      "__________________________________________________________________________________________________\n",
      "stage3_unit22_conv3 (Conv2D)    (None, 16, 16, 1024) 262144      stage3_unit22_relu3[0][0]        \n",
      "__________________________________________________________________________________________________\n",
      "add_33 (Add)                    (None, 16, 16, 1024) 0           stage3_unit22_conv3[0][0]        \n",
      "                                                                 add_32[0][0]                     \n",
      "__________________________________________________________________________________________________\n",
      "stage3_unit23_bn1 (BatchNormali (None, 16, 16, 1024) 4096        add_33[0][0]                     \n",
      "__________________________________________________________________________________________________\n",
      "stage3_unit23_relu1 (Activation (None, 16, 16, 1024) 0           stage3_unit23_bn1[0][0]          \n",
      "__________________________________________________________________________________________________\n",
      "stage3_unit23_conv1 (Conv2D)    (None, 16, 16, 256)  262144      stage3_unit23_relu1[0][0]        \n",
      "__________________________________________________________________________________________________\n",
      "stage3_unit23_bn2 (BatchNormali (None, 16, 16, 256)  1024        stage3_unit23_conv1[0][0]        \n",
      "__________________________________________________________________________________________________\n",
      "stage3_unit23_relu2 (Activation (None, 16, 16, 256)  0           stage3_unit23_bn2[0][0]          \n",
      "__________________________________________________________________________________________________\n",
      "zero_padding2d_36 (ZeroPadding2 (None, 18, 18, 256)  0           stage3_unit23_relu2[0][0]        \n",
      "__________________________________________________________________________________________________\n",
      "stage3_unit23_conv2 (Conv2D)    (None, 16, 16, 256)  589824      zero_padding2d_36[0][0]          \n",
      "__________________________________________________________________________________________________\n",
      "stage3_unit23_bn3 (BatchNormali (None, 16, 16, 256)  1024        stage3_unit23_conv2[0][0]        \n",
      "__________________________________________________________________________________________________\n",
      "stage3_unit23_relu3 (Activation (None, 16, 16, 256)  0           stage3_unit23_bn3[0][0]          \n",
      "__________________________________________________________________________________________________\n",
      "stage3_unit23_conv3 (Conv2D)    (None, 16, 16, 1024) 262144      stage3_unit23_relu3[0][0]        \n",
      "__________________________________________________________________________________________________\n",
      "add_34 (Add)                    (None, 16, 16, 1024) 0           stage3_unit23_conv3[0][0]        \n",
      "                                                                 add_33[0][0]                     \n",
      "__________________________________________________________________________________________________\n",
      "stage3_unit24_bn1 (BatchNormali (None, 16, 16, 1024) 4096        add_34[0][0]                     \n",
      "__________________________________________________________________________________________________\n",
      "stage3_unit24_relu1 (Activation (None, 16, 16, 1024) 0           stage3_unit24_bn1[0][0]          \n",
      "__________________________________________________________________________________________________\n",
      "stage3_unit24_conv1 (Conv2D)    (None, 16, 16, 256)  262144      stage3_unit24_relu1[0][0]        \n",
      "__________________________________________________________________________________________________\n",
      "stage3_unit24_bn2 (BatchNormali (None, 16, 16, 256)  1024        stage3_unit24_conv1[0][0]        \n",
      "__________________________________________________________________________________________________\n",
      "stage3_unit24_relu2 (Activation (None, 16, 16, 256)  0           stage3_unit24_bn2[0][0]          \n",
      "__________________________________________________________________________________________________\n",
      "zero_padding2d_37 (ZeroPadding2 (None, 18, 18, 256)  0           stage3_unit24_relu2[0][0]        \n",
      "__________________________________________________________________________________________________\n",
      "stage3_unit24_conv2 (Conv2D)    (None, 16, 16, 256)  589824      zero_padding2d_37[0][0]          \n"
     ]
    },
    {
     "name": "stdout",
     "output_type": "stream",
     "text": [
      "__________________________________________________________________________________________________\n",
      "stage3_unit24_bn3 (BatchNormali (None, 16, 16, 256)  1024        stage3_unit24_conv2[0][0]        \n",
      "__________________________________________________________________________________________________\n",
      "stage3_unit24_relu3 (Activation (None, 16, 16, 256)  0           stage3_unit24_bn3[0][0]          \n",
      "__________________________________________________________________________________________________\n",
      "stage3_unit24_conv3 (Conv2D)    (None, 16, 16, 1024) 262144      stage3_unit24_relu3[0][0]        \n",
      "__________________________________________________________________________________________________\n",
      "add_35 (Add)                    (None, 16, 16, 1024) 0           stage3_unit24_conv3[0][0]        \n",
      "                                                                 add_34[0][0]                     \n",
      "__________________________________________________________________________________________________\n",
      "stage3_unit25_bn1 (BatchNormali (None, 16, 16, 1024) 4096        add_35[0][0]                     \n",
      "__________________________________________________________________________________________________\n",
      "stage3_unit25_relu1 (Activation (None, 16, 16, 1024) 0           stage3_unit25_bn1[0][0]          \n",
      "__________________________________________________________________________________________________\n",
      "stage3_unit25_conv1 (Conv2D)    (None, 16, 16, 256)  262144      stage3_unit25_relu1[0][0]        \n",
      "__________________________________________________________________________________________________\n",
      "stage3_unit25_bn2 (BatchNormali (None, 16, 16, 256)  1024        stage3_unit25_conv1[0][0]        \n",
      "__________________________________________________________________________________________________\n",
      "stage3_unit25_relu2 (Activation (None, 16, 16, 256)  0           stage3_unit25_bn2[0][0]          \n",
      "__________________________________________________________________________________________________\n",
      "zero_padding2d_38 (ZeroPadding2 (None, 18, 18, 256)  0           stage3_unit25_relu2[0][0]        \n",
      "__________________________________________________________________________________________________\n",
      "stage3_unit25_conv2 (Conv2D)    (None, 16, 16, 256)  589824      zero_padding2d_38[0][0]          \n",
      "__________________________________________________________________________________________________\n",
      "stage3_unit25_bn3 (BatchNormali (None, 16, 16, 256)  1024        stage3_unit25_conv2[0][0]        \n",
      "__________________________________________________________________________________________________\n",
      "stage3_unit25_relu3 (Activation (None, 16, 16, 256)  0           stage3_unit25_bn3[0][0]          \n",
      "__________________________________________________________________________________________________\n",
      "stage3_unit25_conv3 (Conv2D)    (None, 16, 16, 1024) 262144      stage3_unit25_relu3[0][0]        \n",
      "__________________________________________________________________________________________________\n",
      "add_36 (Add)                    (None, 16, 16, 1024) 0           stage3_unit25_conv3[0][0]        \n",
      "                                                                 add_35[0][0]                     \n",
      "__________________________________________________________________________________________________\n",
      "stage3_unit26_bn1 (BatchNormali (None, 16, 16, 1024) 4096        add_36[0][0]                     \n",
      "__________________________________________________________________________________________________\n",
      "stage3_unit26_relu1 (Activation (None, 16, 16, 1024) 0           stage3_unit26_bn1[0][0]          \n",
      "__________________________________________________________________________________________________\n",
      "stage3_unit26_conv1 (Conv2D)    (None, 16, 16, 256)  262144      stage3_unit26_relu1[0][0]        \n",
      "__________________________________________________________________________________________________\n",
      "stage3_unit26_bn2 (BatchNormali (None, 16, 16, 256)  1024        stage3_unit26_conv1[0][0]        \n",
      "__________________________________________________________________________________________________\n",
      "stage3_unit26_relu2 (Activation (None, 16, 16, 256)  0           stage3_unit26_bn2[0][0]          \n",
      "__________________________________________________________________________________________________\n",
      "zero_padding2d_39 (ZeroPadding2 (None, 18, 18, 256)  0           stage3_unit26_relu2[0][0]        \n",
      "__________________________________________________________________________________________________\n",
      "stage3_unit26_conv2 (Conv2D)    (None, 16, 16, 256)  589824      zero_padding2d_39[0][0]          \n",
      "__________________________________________________________________________________________________\n",
      "stage3_unit26_bn3 (BatchNormali (None, 16, 16, 256)  1024        stage3_unit26_conv2[0][0]        \n",
      "__________________________________________________________________________________________________\n",
      "stage3_unit26_relu3 (Activation (None, 16, 16, 256)  0           stage3_unit26_bn3[0][0]          \n",
      "__________________________________________________________________________________________________\n",
      "stage3_unit26_conv3 (Conv2D)    (None, 16, 16, 1024) 262144      stage3_unit26_relu3[0][0]        \n",
      "__________________________________________________________________________________________________\n",
      "add_37 (Add)                    (None, 16, 16, 1024) 0           stage3_unit26_conv3[0][0]        \n",
      "                                                                 add_36[0][0]                     \n",
      "__________________________________________________________________________________________________\n",
      "stage3_unit27_bn1 (BatchNormali (None, 16, 16, 1024) 4096        add_37[0][0]                     \n",
      "__________________________________________________________________________________________________\n",
      "stage3_unit27_relu1 (Activation (None, 16, 16, 1024) 0           stage3_unit27_bn1[0][0]          \n",
      "__________________________________________________________________________________________________\n",
      "stage3_unit27_conv1 (Conv2D)    (None, 16, 16, 256)  262144      stage3_unit27_relu1[0][0]        \n",
      "__________________________________________________________________________________________________\n",
      "stage3_unit27_bn2 (BatchNormali (None, 16, 16, 256)  1024        stage3_unit27_conv1[0][0]        \n",
      "__________________________________________________________________________________________________\n",
      "stage3_unit27_relu2 (Activation (None, 16, 16, 256)  0           stage3_unit27_bn2[0][0]          \n",
      "__________________________________________________________________________________________________\n",
      "zero_padding2d_40 (ZeroPadding2 (None, 18, 18, 256)  0           stage3_unit27_relu2[0][0]        \n",
      "__________________________________________________________________________________________________\n",
      "stage3_unit27_conv2 (Conv2D)    (None, 16, 16, 256)  589824      zero_padding2d_40[0][0]          \n",
      "__________________________________________________________________________________________________\n",
      "stage3_unit27_bn3 (BatchNormali (None, 16, 16, 256)  1024        stage3_unit27_conv2[0][0]        \n",
      "__________________________________________________________________________________________________\n",
      "stage3_unit27_relu3 (Activation (None, 16, 16, 256)  0           stage3_unit27_bn3[0][0]          \n",
      "__________________________________________________________________________________________________\n",
      "stage3_unit27_conv3 (Conv2D)    (None, 16, 16, 1024) 262144      stage3_unit27_relu3[0][0]        \n",
      "__________________________________________________________________________________________________\n",
      "add_38 (Add)                    (None, 16, 16, 1024) 0           stage3_unit27_conv3[0][0]        \n",
      "                                                                 add_37[0][0]                     \n",
      "__________________________________________________________________________________________________\n",
      "stage3_unit28_bn1 (BatchNormali (None, 16, 16, 1024) 4096        add_38[0][0]                     \n",
      "__________________________________________________________________________________________________\n",
      "stage3_unit28_relu1 (Activation (None, 16, 16, 1024) 0           stage3_unit28_bn1[0][0]          \n",
      "__________________________________________________________________________________________________\n",
      "stage3_unit28_conv1 (Conv2D)    (None, 16, 16, 256)  262144      stage3_unit28_relu1[0][0]        \n",
      "__________________________________________________________________________________________________\n",
      "stage3_unit28_bn2 (BatchNormali (None, 16, 16, 256)  1024        stage3_unit28_conv1[0][0]        \n",
      "__________________________________________________________________________________________________\n",
      "stage3_unit28_relu2 (Activation (None, 16, 16, 256)  0           stage3_unit28_bn2[0][0]          \n",
      "__________________________________________________________________________________________________\n",
      "zero_padding2d_41 (ZeroPadding2 (None, 18, 18, 256)  0           stage3_unit28_relu2[0][0]        \n",
      "__________________________________________________________________________________________________\n",
      "stage3_unit28_conv2 (Conv2D)    (None, 16, 16, 256)  589824      zero_padding2d_41[0][0]          \n",
      "__________________________________________________________________________________________________\n",
      "stage3_unit28_bn3 (BatchNormali (None, 16, 16, 256)  1024        stage3_unit28_conv2[0][0]        \n",
      "__________________________________________________________________________________________________\n",
      "stage3_unit28_relu3 (Activation (None, 16, 16, 256)  0           stage3_unit28_bn3[0][0]          \n",
      "__________________________________________________________________________________________________\n",
      "stage3_unit28_conv3 (Conv2D)    (None, 16, 16, 1024) 262144      stage3_unit28_relu3[0][0]        \n",
      "__________________________________________________________________________________________________\n",
      "add_39 (Add)                    (None, 16, 16, 1024) 0           stage3_unit28_conv3[0][0]        \n",
      "                                                                 add_38[0][0]                     \n",
      "__________________________________________________________________________________________________\n",
      "stage3_unit29_bn1 (BatchNormali (None, 16, 16, 1024) 4096        add_39[0][0]                     \n",
      "__________________________________________________________________________________________________\n",
      "stage3_unit29_relu1 (Activation (None, 16, 16, 1024) 0           stage3_unit29_bn1[0][0]          \n",
      "__________________________________________________________________________________________________\n",
      "stage3_unit29_conv1 (Conv2D)    (None, 16, 16, 256)  262144      stage3_unit29_relu1[0][0]        \n",
      "__________________________________________________________________________________________________\n",
      "stage3_unit29_bn2 (BatchNormali (None, 16, 16, 256)  1024        stage3_unit29_conv1[0][0]        \n",
      "__________________________________________________________________________________________________\n",
      "stage3_unit29_relu2 (Activation (None, 16, 16, 256)  0           stage3_unit29_bn2[0][0]          \n",
      "__________________________________________________________________________________________________\n",
      "zero_padding2d_42 (ZeroPadding2 (None, 18, 18, 256)  0           stage3_unit29_relu2[0][0]        \n",
      "__________________________________________________________________________________________________\n",
      "stage3_unit29_conv2 (Conv2D)    (None, 16, 16, 256)  589824      zero_padding2d_42[0][0]          \n",
      "__________________________________________________________________________________________________\n",
      "stage3_unit29_bn3 (BatchNormali (None, 16, 16, 256)  1024        stage3_unit29_conv2[0][0]        \n",
      "__________________________________________________________________________________________________\n",
      "stage3_unit29_relu3 (Activation (None, 16, 16, 256)  0           stage3_unit29_bn3[0][0]          \n",
      "__________________________________________________________________________________________________\n",
      "stage3_unit29_conv3 (Conv2D)    (None, 16, 16, 1024) 262144      stage3_unit29_relu3[0][0]        \n",
      "__________________________________________________________________________________________________\n",
      "add_40 (Add)                    (None, 16, 16, 1024) 0           stage3_unit29_conv3[0][0]        \n",
      "                                                                 add_39[0][0]                     \n",
      "__________________________________________________________________________________________________\n",
      "stage3_unit30_bn1 (BatchNormali (None, 16, 16, 1024) 4096        add_40[0][0]                     \n",
      "__________________________________________________________________________________________________\n",
      "stage3_unit30_relu1 (Activation (None, 16, 16, 1024) 0           stage3_unit30_bn1[0][0]          \n",
      "__________________________________________________________________________________________________\n",
      "stage3_unit30_conv1 (Conv2D)    (None, 16, 16, 256)  262144      stage3_unit30_relu1[0][0]        \n",
      "__________________________________________________________________________________________________\n",
      "stage3_unit30_bn2 (BatchNormali (None, 16, 16, 256)  1024        stage3_unit30_conv1[0][0]        \n",
      "__________________________________________________________________________________________________\n",
      "stage3_unit30_relu2 (Activation (None, 16, 16, 256)  0           stage3_unit30_bn2[0][0]          \n",
      "__________________________________________________________________________________________________\n",
      "zero_padding2d_43 (ZeroPadding2 (None, 18, 18, 256)  0           stage3_unit30_relu2[0][0]        \n",
      "__________________________________________________________________________________________________\n",
      "stage3_unit30_conv2 (Conv2D)    (None, 16, 16, 256)  589824      zero_padding2d_43[0][0]          \n",
      "__________________________________________________________________________________________________\n",
      "stage3_unit30_bn3 (BatchNormali (None, 16, 16, 256)  1024        stage3_unit30_conv2[0][0]        \n",
      "__________________________________________________________________________________________________\n",
      "stage3_unit30_relu3 (Activation (None, 16, 16, 256)  0           stage3_unit30_bn3[0][0]          \n",
      "__________________________________________________________________________________________________\n",
      "stage3_unit30_conv3 (Conv2D)    (None, 16, 16, 1024) 262144      stage3_unit30_relu3[0][0]        \n",
      "__________________________________________________________________________________________________\n",
      "add_41 (Add)                    (None, 16, 16, 1024) 0           stage3_unit30_conv3[0][0]        \n",
      "                                                                 add_40[0][0]                     \n",
      "__________________________________________________________________________________________________\n",
      "stage3_unit31_bn1 (BatchNormali (None, 16, 16, 1024) 4096        add_41[0][0]                     \n",
      "__________________________________________________________________________________________________\n",
      "stage3_unit31_relu1 (Activation (None, 16, 16, 1024) 0           stage3_unit31_bn1[0][0]          \n",
      "__________________________________________________________________________________________________\n",
      "stage3_unit31_conv1 (Conv2D)    (None, 16, 16, 256)  262144      stage3_unit31_relu1[0][0]        \n",
      "__________________________________________________________________________________________________\n",
      "stage3_unit31_bn2 (BatchNormali (None, 16, 16, 256)  1024        stage3_unit31_conv1[0][0]        \n",
      "__________________________________________________________________________________________________\n",
      "stage3_unit31_relu2 (Activation (None, 16, 16, 256)  0           stage3_unit31_bn2[0][0]          \n",
      "__________________________________________________________________________________________________\n",
      "zero_padding2d_44 (ZeroPadding2 (None, 18, 18, 256)  0           stage3_unit31_relu2[0][0]        \n",
      "__________________________________________________________________________________________________\n",
      "stage3_unit31_conv2 (Conv2D)    (None, 16, 16, 256)  589824      zero_padding2d_44[0][0]          \n",
      "__________________________________________________________________________________________________\n",
      "stage3_unit31_bn3 (BatchNormali (None, 16, 16, 256)  1024        stage3_unit31_conv2[0][0]        \n",
      "__________________________________________________________________________________________________\n"
     ]
    },
    {
     "name": "stdout",
     "output_type": "stream",
     "text": [
      "stage3_unit31_relu3 (Activation (None, 16, 16, 256)  0           stage3_unit31_bn3[0][0]          \n",
      "__________________________________________________________________________________________________\n",
      "stage3_unit31_conv3 (Conv2D)    (None, 16, 16, 1024) 262144      stage3_unit31_relu3[0][0]        \n",
      "__________________________________________________________________________________________________\n",
      "add_42 (Add)                    (None, 16, 16, 1024) 0           stage3_unit31_conv3[0][0]        \n",
      "                                                                 add_41[0][0]                     \n",
      "__________________________________________________________________________________________________\n",
      "stage3_unit32_bn1 (BatchNormali (None, 16, 16, 1024) 4096        add_42[0][0]                     \n",
      "__________________________________________________________________________________________________\n",
      "stage3_unit32_relu1 (Activation (None, 16, 16, 1024) 0           stage3_unit32_bn1[0][0]          \n",
      "__________________________________________________________________________________________________\n",
      "stage3_unit32_conv1 (Conv2D)    (None, 16, 16, 256)  262144      stage3_unit32_relu1[0][0]        \n",
      "__________________________________________________________________________________________________\n",
      "stage3_unit32_bn2 (BatchNormali (None, 16, 16, 256)  1024        stage3_unit32_conv1[0][0]        \n",
      "__________________________________________________________________________________________________\n",
      "stage3_unit32_relu2 (Activation (None, 16, 16, 256)  0           stage3_unit32_bn2[0][0]          \n",
      "__________________________________________________________________________________________________\n",
      "zero_padding2d_45 (ZeroPadding2 (None, 18, 18, 256)  0           stage3_unit32_relu2[0][0]        \n",
      "__________________________________________________________________________________________________\n",
      "stage3_unit32_conv2 (Conv2D)    (None, 16, 16, 256)  589824      zero_padding2d_45[0][0]          \n",
      "__________________________________________________________________________________________________\n",
      "stage3_unit32_bn3 (BatchNormali (None, 16, 16, 256)  1024        stage3_unit32_conv2[0][0]        \n",
      "__________________________________________________________________________________________________\n",
      "stage3_unit32_relu3 (Activation (None, 16, 16, 256)  0           stage3_unit32_bn3[0][0]          \n",
      "__________________________________________________________________________________________________\n",
      "stage3_unit32_conv3 (Conv2D)    (None, 16, 16, 1024) 262144      stage3_unit32_relu3[0][0]        \n",
      "__________________________________________________________________________________________________\n",
      "add_43 (Add)                    (None, 16, 16, 1024) 0           stage3_unit32_conv3[0][0]        \n",
      "                                                                 add_42[0][0]                     \n",
      "__________________________________________________________________________________________________\n",
      "stage3_unit33_bn1 (BatchNormali (None, 16, 16, 1024) 4096        add_43[0][0]                     \n",
      "__________________________________________________________________________________________________\n",
      "stage3_unit33_relu1 (Activation (None, 16, 16, 1024) 0           stage3_unit33_bn1[0][0]          \n",
      "__________________________________________________________________________________________________\n",
      "stage3_unit33_conv1 (Conv2D)    (None, 16, 16, 256)  262144      stage3_unit33_relu1[0][0]        \n",
      "__________________________________________________________________________________________________\n",
      "stage3_unit33_bn2 (BatchNormali (None, 16, 16, 256)  1024        stage3_unit33_conv1[0][0]        \n",
      "__________________________________________________________________________________________________\n",
      "stage3_unit33_relu2 (Activation (None, 16, 16, 256)  0           stage3_unit33_bn2[0][0]          \n",
      "__________________________________________________________________________________________________\n",
      "zero_padding2d_46 (ZeroPadding2 (None, 18, 18, 256)  0           stage3_unit33_relu2[0][0]        \n",
      "__________________________________________________________________________________________________\n",
      "stage3_unit33_conv2 (Conv2D)    (None, 16, 16, 256)  589824      zero_padding2d_46[0][0]          \n",
      "__________________________________________________________________________________________________\n",
      "stage3_unit33_bn3 (BatchNormali (None, 16, 16, 256)  1024        stage3_unit33_conv2[0][0]        \n",
      "__________________________________________________________________________________________________\n",
      "stage3_unit33_relu3 (Activation (None, 16, 16, 256)  0           stage3_unit33_bn3[0][0]          \n",
      "__________________________________________________________________________________________________\n",
      "stage3_unit33_conv3 (Conv2D)    (None, 16, 16, 1024) 262144      stage3_unit33_relu3[0][0]        \n",
      "__________________________________________________________________________________________________\n",
      "add_44 (Add)                    (None, 16, 16, 1024) 0           stage3_unit33_conv3[0][0]        \n",
      "                                                                 add_43[0][0]                     \n",
      "__________________________________________________________________________________________________\n",
      "stage3_unit34_bn1 (BatchNormali (None, 16, 16, 1024) 4096        add_44[0][0]                     \n",
      "__________________________________________________________________________________________________\n",
      "stage3_unit34_relu1 (Activation (None, 16, 16, 1024) 0           stage3_unit34_bn1[0][0]          \n",
      "__________________________________________________________________________________________________\n",
      "stage3_unit34_conv1 (Conv2D)    (None, 16, 16, 256)  262144      stage3_unit34_relu1[0][0]        \n",
      "__________________________________________________________________________________________________\n",
      "stage3_unit34_bn2 (BatchNormali (None, 16, 16, 256)  1024        stage3_unit34_conv1[0][0]        \n",
      "__________________________________________________________________________________________________\n",
      "stage3_unit34_relu2 (Activation (None, 16, 16, 256)  0           stage3_unit34_bn2[0][0]          \n",
      "__________________________________________________________________________________________________\n",
      "zero_padding2d_47 (ZeroPadding2 (None, 18, 18, 256)  0           stage3_unit34_relu2[0][0]        \n",
      "__________________________________________________________________________________________________\n",
      "stage3_unit34_conv2 (Conv2D)    (None, 16, 16, 256)  589824      zero_padding2d_47[0][0]          \n",
      "__________________________________________________________________________________________________\n",
      "stage3_unit34_bn3 (BatchNormali (None, 16, 16, 256)  1024        stage3_unit34_conv2[0][0]        \n",
      "__________________________________________________________________________________________________\n",
      "stage3_unit34_relu3 (Activation (None, 16, 16, 256)  0           stage3_unit34_bn3[0][0]          \n",
      "__________________________________________________________________________________________________\n",
      "stage3_unit34_conv3 (Conv2D)    (None, 16, 16, 1024) 262144      stage3_unit34_relu3[0][0]        \n",
      "__________________________________________________________________________________________________\n",
      "add_45 (Add)                    (None, 16, 16, 1024) 0           stage3_unit34_conv3[0][0]        \n",
      "                                                                 add_44[0][0]                     \n",
      "__________________________________________________________________________________________________\n",
      "stage3_unit35_bn1 (BatchNormali (None, 16, 16, 1024) 4096        add_45[0][0]                     \n",
      "__________________________________________________________________________________________________\n",
      "stage3_unit35_relu1 (Activation (None, 16, 16, 1024) 0           stage3_unit35_bn1[0][0]          \n",
      "__________________________________________________________________________________________________\n",
      "stage3_unit35_conv1 (Conv2D)    (None, 16, 16, 256)  262144      stage3_unit35_relu1[0][0]        \n",
      "__________________________________________________________________________________________________\n",
      "stage3_unit35_bn2 (BatchNormali (None, 16, 16, 256)  1024        stage3_unit35_conv1[0][0]        \n",
      "__________________________________________________________________________________________________\n",
      "stage3_unit35_relu2 (Activation (None, 16, 16, 256)  0           stage3_unit35_bn2[0][0]          \n",
      "__________________________________________________________________________________________________\n",
      "zero_padding2d_48 (ZeroPadding2 (None, 18, 18, 256)  0           stage3_unit35_relu2[0][0]        \n",
      "__________________________________________________________________________________________________\n",
      "stage3_unit35_conv2 (Conv2D)    (None, 16, 16, 256)  589824      zero_padding2d_48[0][0]          \n",
      "__________________________________________________________________________________________________\n",
      "stage3_unit35_bn3 (BatchNormali (None, 16, 16, 256)  1024        stage3_unit35_conv2[0][0]        \n",
      "__________________________________________________________________________________________________\n",
      "stage3_unit35_relu3 (Activation (None, 16, 16, 256)  0           stage3_unit35_bn3[0][0]          \n",
      "__________________________________________________________________________________________________\n",
      "stage3_unit35_conv3 (Conv2D)    (None, 16, 16, 1024) 262144      stage3_unit35_relu3[0][0]        \n",
      "__________________________________________________________________________________________________\n",
      "add_46 (Add)                    (None, 16, 16, 1024) 0           stage3_unit35_conv3[0][0]        \n",
      "                                                                 add_45[0][0]                     \n",
      "__________________________________________________________________________________________________\n",
      "stage3_unit36_bn1 (BatchNormali (None, 16, 16, 1024) 4096        add_46[0][0]                     \n",
      "__________________________________________________________________________________________________\n",
      "stage3_unit36_relu1 (Activation (None, 16, 16, 1024) 0           stage3_unit36_bn1[0][0]          \n",
      "__________________________________________________________________________________________________\n",
      "stage3_unit36_conv1 (Conv2D)    (None, 16, 16, 256)  262144      stage3_unit36_relu1[0][0]        \n",
      "__________________________________________________________________________________________________\n",
      "stage3_unit36_bn2 (BatchNormali (None, 16, 16, 256)  1024        stage3_unit36_conv1[0][0]        \n",
      "__________________________________________________________________________________________________\n",
      "stage3_unit36_relu2 (Activation (None, 16, 16, 256)  0           stage3_unit36_bn2[0][0]          \n",
      "__________________________________________________________________________________________________\n",
      "zero_padding2d_49 (ZeroPadding2 (None, 18, 18, 256)  0           stage3_unit36_relu2[0][0]        \n",
      "__________________________________________________________________________________________________\n",
      "stage3_unit36_conv2 (Conv2D)    (None, 16, 16, 256)  589824      zero_padding2d_49[0][0]          \n",
      "__________________________________________________________________________________________________\n",
      "stage3_unit36_bn3 (BatchNormali (None, 16, 16, 256)  1024        stage3_unit36_conv2[0][0]        \n",
      "__________________________________________________________________________________________________\n",
      "stage3_unit36_relu3 (Activation (None, 16, 16, 256)  0           stage3_unit36_bn3[0][0]          \n",
      "__________________________________________________________________________________________________\n",
      "stage3_unit36_conv3 (Conv2D)    (None, 16, 16, 1024) 262144      stage3_unit36_relu3[0][0]        \n",
      "__________________________________________________________________________________________________\n",
      "add_47 (Add)                    (None, 16, 16, 1024) 0           stage3_unit36_conv3[0][0]        \n",
      "                                                                 add_46[0][0]                     \n",
      "__________________________________________________________________________________________________\n",
      "stage4_unit1_bn1 (BatchNormaliz (None, 16, 16, 1024) 4096        add_47[0][0]                     \n",
      "__________________________________________________________________________________________________\n",
      "stage4_unit1_relu1 (Activation) (None, 16, 16, 1024) 0           stage4_unit1_bn1[0][0]           \n",
      "__________________________________________________________________________________________________\n",
      "stage4_unit1_conv1 (Conv2D)     (None, 16, 16, 512)  524288      stage4_unit1_relu1[0][0]         \n",
      "__________________________________________________________________________________________________\n",
      "stage4_unit1_bn2 (BatchNormaliz (None, 16, 16, 512)  2048        stage4_unit1_conv1[0][0]         \n",
      "__________________________________________________________________________________________________\n",
      "stage4_unit1_relu2 (Activation) (None, 16, 16, 512)  0           stage4_unit1_bn2[0][0]           \n",
      "__________________________________________________________________________________________________\n",
      "zero_padding2d_50 (ZeroPadding2 (None, 18, 18, 512)  0           stage4_unit1_relu2[0][0]         \n",
      "__________________________________________________________________________________________________\n",
      "stage4_unit1_conv2 (Conv2D)     (None, 8, 8, 512)    2359296     zero_padding2d_50[0][0]          \n",
      "__________________________________________________________________________________________________\n",
      "stage4_unit1_bn3 (BatchNormaliz (None, 8, 8, 512)    2048        stage4_unit1_conv2[0][0]         \n",
      "__________________________________________________________________________________________________\n",
      "stage4_unit1_relu3 (Activation) (None, 8, 8, 512)    0           stage4_unit1_bn3[0][0]           \n",
      "__________________________________________________________________________________________________\n",
      "stage4_unit1_conv3 (Conv2D)     (None, 8, 8, 2048)   1048576     stage4_unit1_relu3[0][0]         \n",
      "__________________________________________________________________________________________________\n",
      "stage4_unit1_sc (Conv2D)        (None, 8, 8, 2048)   2097152     stage4_unit1_relu1[0][0]         \n",
      "__________________________________________________________________________________________________\n",
      "add_48 (Add)                    (None, 8, 8, 2048)   0           stage4_unit1_conv3[0][0]         \n",
      "                                                                 stage4_unit1_sc[0][0]            \n",
      "__________________________________________________________________________________________________\n",
      "stage4_unit2_bn1 (BatchNormaliz (None, 8, 8, 2048)   8192        add_48[0][0]                     \n",
      "__________________________________________________________________________________________________\n",
      "stage4_unit2_relu1 (Activation) (None, 8, 8, 2048)   0           stage4_unit2_bn1[0][0]           \n",
      "__________________________________________________________________________________________________\n",
      "stage4_unit2_conv1 (Conv2D)     (None, 8, 8, 512)    1048576     stage4_unit2_relu1[0][0]         \n",
      "__________________________________________________________________________________________________\n",
      "stage4_unit2_bn2 (BatchNormaliz (None, 8, 8, 512)    2048        stage4_unit2_conv1[0][0]         \n",
      "__________________________________________________________________________________________________\n",
      "stage4_unit2_relu2 (Activation) (None, 8, 8, 512)    0           stage4_unit2_bn2[0][0]           \n",
      "__________________________________________________________________________________________________\n",
      "zero_padding2d_51 (ZeroPadding2 (None, 10, 10, 512)  0           stage4_unit2_relu2[0][0]         \n",
      "__________________________________________________________________________________________________\n",
      "stage4_unit2_conv2 (Conv2D)     (None, 8, 8, 512)    2359296     zero_padding2d_51[0][0]          \n",
      "__________________________________________________________________________________________________\n",
      "stage4_unit2_bn3 (BatchNormaliz (None, 8, 8, 512)    2048        stage4_unit2_conv2[0][0]         \n",
      "__________________________________________________________________________________________________\n",
      "stage4_unit2_relu3 (Activation) (None, 8, 8, 512)    0           stage4_unit2_bn3[0][0]           \n"
     ]
    },
    {
     "name": "stdout",
     "output_type": "stream",
     "text": [
      "__________________________________________________________________________________________________\n",
      "stage4_unit2_conv3 (Conv2D)     (None, 8, 8, 2048)   1048576     stage4_unit2_relu3[0][0]         \n",
      "__________________________________________________________________________________________________\n",
      "add_49 (Add)                    (None, 8, 8, 2048)   0           stage4_unit2_conv3[0][0]         \n",
      "                                                                 add_48[0][0]                     \n",
      "__________________________________________________________________________________________________\n",
      "stage4_unit3_bn1 (BatchNormaliz (None, 8, 8, 2048)   8192        add_49[0][0]                     \n",
      "__________________________________________________________________________________________________\n",
      "stage4_unit3_relu1 (Activation) (None, 8, 8, 2048)   0           stage4_unit3_bn1[0][0]           \n",
      "__________________________________________________________________________________________________\n",
      "stage4_unit3_conv1 (Conv2D)     (None, 8, 8, 512)    1048576     stage4_unit3_relu1[0][0]         \n",
      "__________________________________________________________________________________________________\n",
      "stage4_unit3_bn2 (BatchNormaliz (None, 8, 8, 512)    2048        stage4_unit3_conv1[0][0]         \n",
      "__________________________________________________________________________________________________\n",
      "stage4_unit3_relu2 (Activation) (None, 8, 8, 512)    0           stage4_unit3_bn2[0][0]           \n",
      "__________________________________________________________________________________________________\n",
      "zero_padding2d_52 (ZeroPadding2 (None, 10, 10, 512)  0           stage4_unit3_relu2[0][0]         \n",
      "__________________________________________________________________________________________________\n",
      "stage4_unit3_conv2 (Conv2D)     (None, 8, 8, 512)    2359296     zero_padding2d_52[0][0]          \n",
      "__________________________________________________________________________________________________\n",
      "stage4_unit3_bn3 (BatchNormaliz (None, 8, 8, 512)    2048        stage4_unit3_conv2[0][0]         \n",
      "__________________________________________________________________________________________________\n",
      "stage4_unit3_relu3 (Activation) (None, 8, 8, 512)    0           stage4_unit3_bn3[0][0]           \n",
      "__________________________________________________________________________________________________\n",
      "stage4_unit3_conv3 (Conv2D)     (None, 8, 8, 2048)   1048576     stage4_unit3_relu3[0][0]         \n",
      "__________________________________________________________________________________________________\n",
      "add_50 (Add)                    (None, 8, 8, 2048)   0           stage4_unit3_conv3[0][0]         \n",
      "                                                                 add_49[0][0]                     \n",
      "__________________________________________________________________________________________________\n",
      "bn1 (BatchNormalization)        (None, 8, 8, 2048)   8192        add_50[0][0]                     \n",
      "__________________________________________________________________________________________________\n",
      "relu1 (Activation)              (None, 8, 8, 2048)   0           bn1[0][0]                        \n",
      "__________________________________________________________________________________________________\n",
      "global_average_pooling2d_2 (Glo (None, 2048)         0           relu1[0][0]                      \n",
      "__________________________________________________________________________________________________\n",
      "reshape_1 (Reshape)             (None, 1, 1, 2048)   0           global_average_pooling2d_2[0][0] \n",
      "__________________________________________________________________________________________________\n",
      "dense_1 (Dense)                 (None, 1, 1, 128)    262144      reshape_1[0][0]                  \n",
      "__________________________________________________________________________________________________\n",
      "dense_2 (Dense)                 (None, 1, 1, 2048)   262144      dense_1[0][0]                    \n",
      "__________________________________________________________________________________________________\n",
      "multiply_1 (Multiply)           (None, 8, 8, 2048)   0           relu1[0][0]                      \n",
      "                                                                 dense_2[0][0]                    \n",
      "__________________________________________________________________________________________________\n",
      "decoder_stage0_upsample (UpSamp (None, 16, 16, 2048) 0           multiply_1[0][0]                 \n",
      "__________________________________________________________________________________________________\n",
      "concatenate_1 (Concatenate)     (None, 16, 16, 3072) 0           decoder_stage0_upsample[0][0]    \n",
      "                                                                 stage4_unit1_relu1[0][0]         \n",
      "__________________________________________________________________________________________________\n",
      "decoder_stage0_conv1 (Conv2D)   (None, 16, 16, 256)  7077888     concatenate_1[0][0]              \n",
      "__________________________________________________________________________________________________\n",
      "decoder_stage0_bn1 (BatchNormal (None, 16, 16, 256)  1024        decoder_stage0_conv1[0][0]       \n",
      "__________________________________________________________________________________________________\n",
      "decoder_stage0_relu1 (Activatio (None, 16, 16, 256)  0           decoder_stage0_bn1[0][0]         \n",
      "__________________________________________________________________________________________________\n",
      "global_average_pooling2d_3 (Glo (None, 256)          0           decoder_stage0_relu1[0][0]       \n",
      "__________________________________________________________________________________________________\n",
      "reshape_2 (Reshape)             (None, 1, 1, 256)    0           global_average_pooling2d_3[0][0] \n",
      "__________________________________________________________________________________________________\n",
      "dense_3 (Dense)                 (None, 1, 1, 16)     4096        reshape_2[0][0]                  \n",
      "__________________________________________________________________________________________________\n",
      "dense_4 (Dense)                 (None, 1, 1, 256)    4096        dense_3[0][0]                    \n",
      "__________________________________________________________________________________________________\n",
      "multiply_2 (Multiply)           (None, 16, 16, 256)  0           decoder_stage0_relu1[0][0]       \n",
      "                                                                 dense_4[0][0]                    \n",
      "__________________________________________________________________________________________________\n",
      "decoder_stage0_conv2 (Conv2D)   (None, 16, 16, 256)  589824      multiply_2[0][0]                 \n",
      "__________________________________________________________________________________________________\n",
      "decoder_stage0_bn2 (BatchNormal (None, 16, 16, 256)  1024        decoder_stage0_conv2[0][0]       \n",
      "__________________________________________________________________________________________________\n",
      "decoder_stage0_relu2 (Activatio (None, 16, 16, 256)  0           decoder_stage0_bn2[0][0]         \n",
      "__________________________________________________________________________________________________\n",
      "global_average_pooling2d_4 (Glo (None, 256)          0           decoder_stage0_relu2[0][0]       \n",
      "__________________________________________________________________________________________________\n",
      "reshape_3 (Reshape)             (None, 1, 1, 256)    0           global_average_pooling2d_4[0][0] \n",
      "__________________________________________________________________________________________________\n",
      "dense_5 (Dense)                 (None, 1, 1, 16)     4096        reshape_3[0][0]                  \n",
      "__________________________________________________________________________________________________\n",
      "dense_6 (Dense)                 (None, 1, 1, 256)    4096        dense_5[0][0]                    \n",
      "__________________________________________________________________________________________________\n",
      "multiply_3 (Multiply)           (None, 16, 16, 256)  0           decoder_stage0_relu2[0][0]       \n",
      "                                                                 dense_6[0][0]                    \n",
      "__________________________________________________________________________________________________\n",
      "global_average_pooling2d_5 (Glo (None, 256)          0           multiply_3[0][0]                 \n",
      "__________________________________________________________________________________________________\n",
      "reshape_4 (Reshape)             (None, 1, 1, 256)    0           global_average_pooling2d_5[0][0] \n",
      "__________________________________________________________________________________________________\n",
      "dense_7 (Dense)                 (None, 1, 1, 16)     4096        reshape_4[0][0]                  \n",
      "__________________________________________________________________________________________________\n",
      "dense_8 (Dense)                 (None, 1, 1, 256)    4096        dense_7[0][0]                    \n",
      "__________________________________________________________________________________________________\n",
      "multiply_4 (Multiply)           (None, 16, 16, 256)  0           multiply_3[0][0]                 \n",
      "                                                                 dense_8[0][0]                    \n",
      "__________________________________________________________________________________________________\n",
      "decoder_stage1_upsample (UpSamp (None, 32, 32, 256)  0           multiply_4[0][0]                 \n",
      "__________________________________________________________________________________________________\n",
      "concatenate_2 (Concatenate)     (None, 32, 32, 768)  0           decoder_stage1_upsample[0][0]    \n",
      "                                                                 stage3_unit1_relu1[0][0]         \n",
      "__________________________________________________________________________________________________\n",
      "decoder_stage1_conv1 (Conv2D)   (None, 32, 32, 128)  884736      concatenate_2[0][0]              \n",
      "__________________________________________________________________________________________________\n",
      "decoder_stage1_bn1 (BatchNormal (None, 32, 32, 128)  512         decoder_stage1_conv1[0][0]       \n",
      "__________________________________________________________________________________________________\n",
      "decoder_stage1_relu1 (Activatio (None, 32, 32, 128)  0           decoder_stage1_bn1[0][0]         \n",
      "__________________________________________________________________________________________________\n",
      "global_average_pooling2d_6 (Glo (None, 128)          0           decoder_stage1_relu1[0][0]       \n",
      "__________________________________________________________________________________________________\n",
      "reshape_5 (Reshape)             (None, 1, 1, 128)    0           global_average_pooling2d_6[0][0] \n",
      "__________________________________________________________________________________________________\n",
      "dense_9 (Dense)                 (None, 1, 1, 8)      1024        reshape_5[0][0]                  \n",
      "__________________________________________________________________________________________________\n",
      "dense_10 (Dense)                (None, 1, 1, 128)    1024        dense_9[0][0]                    \n",
      "__________________________________________________________________________________________________\n",
      "multiply_5 (Multiply)           (None, 32, 32, 128)  0           decoder_stage1_relu1[0][0]       \n",
      "                                                                 dense_10[0][0]                   \n",
      "__________________________________________________________________________________________________\n",
      "decoder_stage1_conv2 (Conv2D)   (None, 32, 32, 128)  147456      multiply_5[0][0]                 \n",
      "__________________________________________________________________________________________________\n",
      "decoder_stage1_bn2 (BatchNormal (None, 32, 32, 128)  512         decoder_stage1_conv2[0][0]       \n",
      "__________________________________________________________________________________________________\n",
      "decoder_stage1_relu2 (Activatio (None, 32, 32, 128)  0           decoder_stage1_bn2[0][0]         \n",
      "__________________________________________________________________________________________________\n",
      "global_average_pooling2d_7 (Glo (None, 128)          0           decoder_stage1_relu2[0][0]       \n",
      "__________________________________________________________________________________________________\n",
      "reshape_6 (Reshape)             (None, 1, 1, 128)    0           global_average_pooling2d_7[0][0] \n",
      "__________________________________________________________________________________________________\n",
      "dense_11 (Dense)                (None, 1, 1, 8)      1024        reshape_6[0][0]                  \n",
      "__________________________________________________________________________________________________\n",
      "dense_12 (Dense)                (None, 1, 1, 128)    1024        dense_11[0][0]                   \n",
      "__________________________________________________________________________________________________\n",
      "multiply_6 (Multiply)           (None, 32, 32, 128)  0           decoder_stage1_relu2[0][0]       \n",
      "                                                                 dense_12[0][0]                   \n",
      "__________________________________________________________________________________________________\n",
      "global_average_pooling2d_8 (Glo (None, 128)          0           multiply_6[0][0]                 \n",
      "__________________________________________________________________________________________________\n",
      "reshape_7 (Reshape)             (None, 1, 1, 128)    0           global_average_pooling2d_8[0][0] \n",
      "__________________________________________________________________________________________________\n",
      "dense_13 (Dense)                (None, 1, 1, 8)      1024        reshape_7[0][0]                  \n",
      "__________________________________________________________________________________________________\n",
      "dense_14 (Dense)                (None, 1, 1, 128)    1024        dense_13[0][0]                   \n",
      "__________________________________________________________________________________________________\n",
      "multiply_7 (Multiply)           (None, 32, 32, 128)  0           multiply_6[0][0]                 \n",
      "                                                                 dense_14[0][0]                   \n",
      "__________________________________________________________________________________________________\n",
      "decoder_stage2_upsample (UpSamp (None, 64, 64, 128)  0           multiply_7[0][0]                 \n",
      "__________________________________________________________________________________________________\n",
      "concatenate_3 (Concatenate)     (None, 64, 64, 384)  0           decoder_stage2_upsample[0][0]    \n",
      "                                                                 stage2_unit1_relu1[0][0]         \n",
      "__________________________________________________________________________________________________\n",
      "decoder_stage2_conv1 (Conv2D)   (None, 64, 64, 64)   221184      concatenate_3[0][0]              \n",
      "__________________________________________________________________________________________________\n",
      "decoder_stage2_bn1 (BatchNormal (None, 64, 64, 64)   256         decoder_stage2_conv1[0][0]       \n",
      "__________________________________________________________________________________________________\n",
      "decoder_stage2_relu1 (Activatio (None, 64, 64, 64)   0           decoder_stage2_bn1[0][0]         \n",
      "__________________________________________________________________________________________________\n",
      "global_average_pooling2d_9 (Glo (None, 64)           0           decoder_stage2_relu1[0][0]       \n",
      "__________________________________________________________________________________________________\n",
      "reshape_8 (Reshape)             (None, 1, 1, 64)     0           global_average_pooling2d_9[0][0] \n",
      "__________________________________________________________________________________________________\n",
      "dense_15 (Dense)                (None, 1, 1, 4)      256         reshape_8[0][0]                  \n",
      "__________________________________________________________________________________________________\n",
      "dense_16 (Dense)                (None, 1, 1, 64)     256         dense_15[0][0]                   \n",
      "__________________________________________________________________________________________________\n",
      "multiply_8 (Multiply)           (None, 64, 64, 64)   0           decoder_stage2_relu1[0][0]       \n"
     ]
    },
    {
     "name": "stdout",
     "output_type": "stream",
     "text": [
      "                                                                 dense_16[0][0]                   \n",
      "__________________________________________________________________________________________________\n",
      "decoder_stage2_conv2 (Conv2D)   (None, 64, 64, 64)   36864       multiply_8[0][0]                 \n",
      "__________________________________________________________________________________________________\n",
      "decoder_stage2_bn2 (BatchNormal (None, 64, 64, 64)   256         decoder_stage2_conv2[0][0]       \n",
      "__________________________________________________________________________________________________\n",
      "decoder_stage2_relu2 (Activatio (None, 64, 64, 64)   0           decoder_stage2_bn2[0][0]         \n",
      "__________________________________________________________________________________________________\n",
      "global_average_pooling2d_10 (Gl (None, 64)           0           decoder_stage2_relu2[0][0]       \n",
      "__________________________________________________________________________________________________\n",
      "reshape_9 (Reshape)             (None, 1, 1, 64)     0           global_average_pooling2d_10[0][0]\n",
      "__________________________________________________________________________________________________\n",
      "dense_17 (Dense)                (None, 1, 1, 4)      256         reshape_9[0][0]                  \n",
      "__________________________________________________________________________________________________\n",
      "dense_18 (Dense)                (None, 1, 1, 64)     256         dense_17[0][0]                   \n",
      "__________________________________________________________________________________________________\n",
      "multiply_9 (Multiply)           (None, 64, 64, 64)   0           decoder_stage2_relu2[0][0]       \n",
      "                                                                 dense_18[0][0]                   \n",
      "__________________________________________________________________________________________________\n",
      "global_average_pooling2d_11 (Gl (None, 64)           0           multiply_9[0][0]                 \n",
      "__________________________________________________________________________________________________\n",
      "reshape_10 (Reshape)            (None, 1, 1, 64)     0           global_average_pooling2d_11[0][0]\n",
      "__________________________________________________________________________________________________\n",
      "dense_19 (Dense)                (None, 1, 1, 4)      256         reshape_10[0][0]                 \n",
      "__________________________________________________________________________________________________\n",
      "dense_20 (Dense)                (None, 1, 1, 64)     256         dense_19[0][0]                   \n",
      "__________________________________________________________________________________________________\n",
      "multiply_10 (Multiply)          (None, 64, 64, 64)   0           multiply_9[0][0]                 \n",
      "                                                                 dense_20[0][0]                   \n",
      "__________________________________________________________________________________________________\n",
      "decoder_stage3_upsample (UpSamp (None, 128, 128, 64) 0           multiply_10[0][0]                \n",
      "__________________________________________________________________________________________________\n",
      "concatenate_4 (Concatenate)     (None, 128, 128, 128 0           decoder_stage3_upsample[0][0]    \n",
      "                                                                 relu0[0][0]                      \n",
      "__________________________________________________________________________________________________\n",
      "decoder_stage3_conv1 (Conv2D)   (None, 128, 128, 32) 36864       concatenate_4[0][0]              \n",
      "__________________________________________________________________________________________________\n",
      "decoder_stage3_bn1 (BatchNormal (None, 128, 128, 32) 128         decoder_stage3_conv1[0][0]       \n",
      "__________________________________________________________________________________________________\n",
      "decoder_stage3_relu1 (Activatio (None, 128, 128, 32) 0           decoder_stage3_bn1[0][0]         \n",
      "__________________________________________________________________________________________________\n",
      "global_average_pooling2d_12 (Gl (None, 32)           0           decoder_stage3_relu1[0][0]       \n",
      "__________________________________________________________________________________________________\n",
      "reshape_11 (Reshape)            (None, 1, 1, 32)     0           global_average_pooling2d_12[0][0]\n",
      "__________________________________________________________________________________________________\n",
      "dense_21 (Dense)                (None, 1, 1, 2)      64          reshape_11[0][0]                 \n",
      "__________________________________________________________________________________________________\n",
      "dense_22 (Dense)                (None, 1, 1, 32)     64          dense_21[0][0]                   \n",
      "__________________________________________________________________________________________________\n",
      "multiply_11 (Multiply)          (None, 128, 128, 32) 0           decoder_stage3_relu1[0][0]       \n",
      "                                                                 dense_22[0][0]                   \n",
      "__________________________________________________________________________________________________\n",
      "decoder_stage3_conv2 (Conv2D)   (None, 128, 128, 32) 9216        multiply_11[0][0]                \n",
      "__________________________________________________________________________________________________\n",
      "decoder_stage3_bn2 (BatchNormal (None, 128, 128, 32) 128         decoder_stage3_conv2[0][0]       \n",
      "__________________________________________________________________________________________________\n",
      "decoder_stage3_relu2 (Activatio (None, 128, 128, 32) 0           decoder_stage3_bn2[0][0]         \n",
      "__________________________________________________________________________________________________\n",
      "global_average_pooling2d_13 (Gl (None, 32)           0           decoder_stage3_relu2[0][0]       \n",
      "__________________________________________________________________________________________________\n",
      "reshape_12 (Reshape)            (None, 1, 1, 32)     0           global_average_pooling2d_13[0][0]\n",
      "__________________________________________________________________________________________________\n",
      "dense_23 (Dense)                (None, 1, 1, 2)      64          reshape_12[0][0]                 \n",
      "__________________________________________________________________________________________________\n",
      "dense_24 (Dense)                (None, 1, 1, 32)     64          dense_23[0][0]                   \n",
      "__________________________________________________________________________________________________\n",
      "multiply_12 (Multiply)          (None, 128, 128, 32) 0           decoder_stage3_relu2[0][0]       \n",
      "                                                                 dense_24[0][0]                   \n",
      "__________________________________________________________________________________________________\n",
      "global_average_pooling2d_14 (Gl (None, 32)           0           multiply_12[0][0]                \n",
      "__________________________________________________________________________________________________\n",
      "reshape_13 (Reshape)            (None, 1, 1, 32)     0           global_average_pooling2d_14[0][0]\n",
      "__________________________________________________________________________________________________\n",
      "dense_25 (Dense)                (None, 1, 1, 2)      64          reshape_13[0][0]                 \n",
      "__________________________________________________________________________________________________\n",
      "dense_26 (Dense)                (None, 1, 1, 32)     64          dense_25[0][0]                   \n",
      "__________________________________________________________________________________________________\n",
      "multiply_13 (Multiply)          (None, 128, 128, 32) 0           multiply_12[0][0]                \n",
      "                                                                 dense_26[0][0]                   \n",
      "__________________________________________________________________________________________________\n",
      "decoder_stage4_upsample (UpSamp (None, 256, 256, 32) 0           multiply_13[0][0]                \n",
      "__________________________________________________________________________________________________\n",
      "decoder_stage4_conv1 (Conv2D)   (None, 256, 256, 16) 4608        decoder_stage4_upsample[0][0]    \n",
      "__________________________________________________________________________________________________\n",
      "decoder_stage4_bn1 (BatchNormal (None, 256, 256, 16) 64          decoder_stage4_conv1[0][0]       \n",
      "__________________________________________________________________________________________________\n",
      "decoder_stage4_relu1 (Activatio (None, 256, 256, 16) 0           decoder_stage4_bn1[0][0]         \n",
      "__________________________________________________________________________________________________\n",
      "global_average_pooling2d_15 (Gl (None, 16)           0           decoder_stage4_relu1[0][0]       \n",
      "__________________________________________________________________________________________________\n",
      "reshape_14 (Reshape)            (None, 1, 1, 16)     0           global_average_pooling2d_15[0][0]\n",
      "__________________________________________________________________________________________________\n",
      "dense_27 (Dense)                (None, 1, 1, 1)      16          reshape_14[0][0]                 \n",
      "__________________________________________________________________________________________________\n",
      "dense_28 (Dense)                (None, 1, 1, 16)     16          dense_27[0][0]                   \n",
      "__________________________________________________________________________________________________\n",
      "multiply_14 (Multiply)          (None, 256, 256, 16) 0           decoder_stage4_relu1[0][0]       \n",
      "                                                                 dense_28[0][0]                   \n",
      "__________________________________________________________________________________________________\n",
      "decoder_stage4_conv2 (Conv2D)   (None, 256, 256, 16) 2304        multiply_14[0][0]                \n",
      "__________________________________________________________________________________________________\n",
      "decoder_stage4_bn2 (BatchNormal (None, 256, 256, 16) 64          decoder_stage4_conv2[0][0]       \n",
      "__________________________________________________________________________________________________\n",
      "decoder_stage4_relu2 (Activatio (None, 256, 256, 16) 0           decoder_stage4_bn2[0][0]         \n",
      "__________________________________________________________________________________________________\n",
      "global_average_pooling2d_16 (Gl (None, 16)           0           decoder_stage4_relu2[0][0]       \n",
      "__________________________________________________________________________________________________\n",
      "hyper_0 (UpSampling2D)          (None, 256, 256, 256 0           multiply_3[0][0]                 \n",
      "__________________________________________________________________________________________________\n",
      "hyper_1 (UpSampling2D)          (None, 256, 256, 128 0           multiply_6[0][0]                 \n",
      "__________________________________________________________________________________________________\n",
      "hyper_2 (UpSampling2D)          (None, 256, 256, 64) 0           multiply_9[0][0]                 \n",
      "__________________________________________________________________________________________________\n",
      "hyper_3 (UpSampling2D)          (None, 256, 256, 32) 0           multiply_12[0][0]                \n",
      "__________________________________________________________________________________________________\n",
      "reshape_15 (Reshape)            (None, 1, 1, 16)     0           global_average_pooling2d_16[0][0]\n",
      "__________________________________________________________________________________________________\n",
      "concatenate_5 (Concatenate)     (None, 256, 256, 480 0           hyper_0[0][0]                    \n",
      "                                                                 hyper_1[0][0]                    \n",
      "                                                                 hyper_2[0][0]                    \n",
      "                                                                 hyper_3[0][0]                    \n",
      "__________________________________________________________________________________________________\n",
      "dense_29 (Dense)                (None, 1, 1, 1)      16          reshape_15[0][0]                 \n",
      "__________________________________________________________________________________________________\n",
      "conv2d_1 (Conv2D)               (None, 256, 256, 1)  4321        concatenate_5[0][0]              \n",
      "__________________________________________________________________________________________________\n",
      "dense_30 (Dense)                (None, 1, 1, 16)     16          dense_29[0][0]                   \n",
      "__________________________________________________________________________________________________\n",
      "hypercolumn (Activation)        (None, 256, 256, 1)  0           conv2d_1[0][0]                   \n",
      "__________________________________________________________________________________________________\n",
      "multiply_15 (Multiply)          (None, 256, 256, 16) 0           decoder_stage4_relu2[0][0]       \n",
      "                                                                 dense_30[0][0]                   \n",
      "__________________________________________________________________________________________________\n",
      "global_average_pooling2d_1 (Glo (None, 2048)         0           relu1[0][0]                      \n",
      "__________________________________________________________________________________________________\n",
      "concatenate_6 (Concatenate)     (None, 256, 256, 17) 0           hypercolumn[0][0]                \n",
      "                                                                 multiply_15[0][0]                \n",
      "__________________________________________________________________________________________________\n",
      "classification (Dense)          (None, 1)            2049        global_average_pooling2d_1[0][0] \n",
      "__________________________________________________________________________________________________\n",
      "spatial_dropout2d_1 (SpatialDro (None, 256, 256, 17) 0           concatenate_6[0][0]              \n",
      "__________________________________________________________________________________________________\n",
      "multiply_16 (Multiply)          (None, 256, 256, 17) 0           classification[0][0]             \n",
      "                                                                 spatial_dropout2d_1[0][0]        \n",
      "__________________________________________________________________________________________________\n",
      "final_conv (Conv2D)             (None, 256, 256, 1)  154         multiply_16[0][0]                \n",
      "__________________________________________________________________________________________________\n",
      "fusion (Activation)             (None, 256, 256, 1)  0           final_conv[0][0]                 \n",
      "==================================================================================================\n",
      "Total params: 67,858,565\n",
      "Trainable params: 67,712,703\n",
      "Non-trainable params: 145,862\n",
      "__________________________________________________________________________________________________\n"
     ]
    }
   ],
   "source": [
    "model.summary()"
   ]
  },
  {
   "cell_type": "markdown",
   "metadata": {
    "_uuid": "f5a6b1abaa4681cba3b608bc5f33cf260370d82a"
   },
   "source": [
    "# Training"
   ]
  },
  {
   "cell_type": "code",
   "execution_count": 19,
   "metadata": {},
   "outputs": [],
   "source": [
    "best_model_save_path = './model/'+ model_name + '.h5'\n",
    "best_model_config_path = './model/'+ model_name + '.json'\n",
    "model_config = model.to_json()"
   ]
  },
  {
   "cell_type": "code",
   "execution_count": 20,
   "metadata": {},
   "outputs": [],
   "source": [
    "with open(best_model_config_path, 'w') as outfile:\n",
    "    json.dump(model_config, outfile)"
   ]
  },
  {
   "cell_type": "code",
   "execution_count": 21,
   "metadata": {},
   "outputs": [],
   "source": [
    "callbacks1 = [EarlyStopping(monitor='val_fusion_my_iou_metric',\n",
    "                           patience=10,\n",
    "                           verbose=1,\n",
    "                           min_delta=0.00001,\n",
    "                           mode='max'),\n",
    "             ReduceLROnPlateau(monitor='val_fusion_my_iou_metric',\n",
    "                               factor=0.2,\n",
    "                               patience=5,\n",
    "                               verbose=1,\n",
    "                               min_delta=0.00001,\n",
    "                               mode='max'),\n",
    "             ModelCheckpoint(monitor='val_fusion_my_iou_metric',\n",
    "                             filepath= best_model_save_path,\n",
    "                             save_best_only=True,\n",
    "                             save_weights_only = True,\n",
    "                             mode='max') ,\n",
    "             TQDMNotebookCallback()           \n",
    "             ]\n",
    "callbacks2 = [EarlyStopping(monitor='val_fusion_my_iou_metric',\n",
    "                           patience=20,\n",
    "                           verbose=1,\n",
    "                           min_delta=0.00001,\n",
    "                           mode='max'),\n",
    "             ReduceLROnPlateau(monitor='val_my_iou_metric',\n",
    "                               factor=0.5,\n",
    "                               patience=8,\n",
    "                               verbose=1,\n",
    "                               min_delta=0.00001,\n",
    "                               mode='max'),\n",
    "             ModelCheckpoint(monitor='val_my_iou_metric',\n",
    "                             filepath= best_model_save_path,\n",
    "                             save_best_only=True,\n",
    "                             save_weights_only = True,\n",
    "                             mode='max') ,\n",
    "             TQDMNotebookCallback()           \n",
    "             ]"
   ]
  },
  {
   "cell_type": "code",
   "execution_count": 22,
   "metadata": {},
   "outputs": [
    {
     "name": "stdout",
     "output_type": "stream",
     "text": [
      "Train on 6400 samples, validate on 800 samples\n"
     ]
    },
    {
     "data": {
      "application/vnd.jupyter.widget-view+json": {
       "model_id": "4442371ba9df4c828031ae212fb8f0d3",
       "version_major": 2,
       "version_minor": 0
      },
      "text/plain": [
       "HBox(children=(IntProgress(value=0, description='Training', max=50), HTML(value='')))"
      ]
     },
     "metadata": {},
     "output_type": "display_data"
    },
    {
     "name": "stdout",
     "output_type": "stream",
     "text": [
      "Epoch 1/50\n"
     ]
    },
    {
     "data": {
      "application/vnd.jupyter.widget-view+json": {
       "model_id": "",
       "version_major": 2,
       "version_minor": 0
      },
      "text/plain": [
       "HBox(children=(IntProgress(value=0, description='Epoch 0', max=6400), HTML(value='')))"
      ]
     },
     "metadata": {},
     "output_type": "display_data"
    },
    {
     "name": "stdout",
     "output_type": "stream",
     "text": [
      " - 444s - loss: 1.9655 - classification_loss: 0.3558 - hypercolumn_loss: 0.5911 - fusion_loss: 1.0187 - fusion_my_iou_metric: 0.4361 - val_loss: 1.5721 - val_classification_loss: 0.2565 - val_hypercolumn_loss: 0.4453 - val_fusion_loss: 0.8703 - val_fusion_my_iou_metric: 0.5655\n",
      "Epoch 2/50\n"
     ]
    },
    {
     "data": {
      "application/vnd.jupyter.widget-view+json": {
       "model_id": "",
       "version_major": 2,
       "version_minor": 0
      },
      "text/plain": [
       "HBox(children=(IntProgress(value=0, description='Epoch 1', max=6400), HTML(value='')))"
      ]
     },
     "metadata": {},
     "output_type": "display_data"
    },
    {
     "name": "stdout",
     "output_type": "stream",
     "text": [
      " - 392s - loss: 1.4581 - classification_loss: 0.2775 - hypercolumn_loss: 0.4018 - fusion_loss: 0.7789 - fusion_my_iou_metric: 0.6515 - val_loss: 1.4312 - val_classification_loss: 0.3036 - val_hypercolumn_loss: 0.4101 - val_fusion_loss: 0.7175 - val_fusion_my_iou_metric: 0.6832\n",
      "Epoch 3/50\n"
     ]
    },
    {
     "data": {
      "application/vnd.jupyter.widget-view+json": {
       "model_id": "",
       "version_major": 2,
       "version_minor": 0
      },
      "text/plain": [
       "HBox(children=(IntProgress(value=0, description='Epoch 2', max=6400), HTML(value='')))"
      ]
     },
     "metadata": {},
     "output_type": "display_data"
    },
    {
     "name": "stdout",
     "output_type": "stream",
     "text": [
      " - 392s - loss: 1.2591 - classification_loss: 0.2835 - hypercolumn_loss: 0.3395 - fusion_loss: 0.6361 - fusion_my_iou_metric: 0.6952 - val_loss: 1.1002 - val_classification_loss: 0.2820 - val_hypercolumn_loss: 0.2825 - val_fusion_loss: 0.5358 - val_fusion_my_iou_metric: 0.7648\n",
      "Epoch 4/50\n"
     ]
    },
    {
     "data": {
      "application/vnd.jupyter.widget-view+json": {
       "model_id": "",
       "version_major": 2,
       "version_minor": 0
      },
      "text/plain": [
       "HBox(children=(IntProgress(value=0, description='Epoch 3', max=6400), HTML(value='')))"
      ]
     },
     "metadata": {},
     "output_type": "display_data"
    },
    {
     "name": "stdout",
     "output_type": "stream",
     "text": [
      " - 392s - loss: 1.1418 - classification_loss: 0.2713 - hypercolumn_loss: 0.3123 - fusion_loss: 0.5583 - fusion_my_iou_metric: 0.7214 - val_loss: 1.0329 - val_classification_loss: 0.2492 - val_hypercolumn_loss: 0.3026 - val_fusion_loss: 0.4811 - val_fusion_my_iou_metric: 0.7880\n",
      "Epoch 5/50\n"
     ]
    },
    {
     "data": {
      "application/vnd.jupyter.widget-view+json": {
       "model_id": "",
       "version_major": 2,
       "version_minor": 0
      },
      "text/plain": [
       "HBox(children=(IntProgress(value=0, description='Epoch 4', max=6400), HTML(value='')))"
      ]
     },
     "metadata": {},
     "output_type": "display_data"
    },
    {
     "name": "stdout",
     "output_type": "stream",
     "text": [
      " - 393s - loss: 0.9660 - classification_loss: 0.2408 - hypercolumn_loss: 0.2551 - fusion_loss: 0.4700 - fusion_my_iou_metric: 0.7656 - val_loss: 1.0216 - val_classification_loss: 0.2790 - val_hypercolumn_loss: 0.3161 - val_fusion_loss: 0.4265 - val_fusion_my_iou_metric: 0.7789\n",
      "Epoch 6/50\n"
     ]
    },
    {
     "data": {
      "application/vnd.jupyter.widget-view+json": {
       "model_id": "",
       "version_major": 2,
       "version_minor": 0
      },
      "text/plain": [
       "HBox(children=(IntProgress(value=0, description='Epoch 5', max=6400), HTML(value='')))"
      ]
     },
     "metadata": {},
     "output_type": "display_data"
    },
    {
     "name": "stdout",
     "output_type": "stream",
     "text": [
      " - 393s - loss: 0.8917 - classification_loss: 0.2298 - hypercolumn_loss: 0.2335 - fusion_loss: 0.4283 - fusion_my_iou_metric: 0.7742 - val_loss: 1.1405 - val_classification_loss: 0.2840 - val_hypercolumn_loss: 0.3539 - val_fusion_loss: 0.5026 - val_fusion_my_iou_metric: 0.7324\n",
      "Epoch 7/50\n"
     ]
    },
    {
     "data": {
      "application/vnd.jupyter.widget-view+json": {
       "model_id": "",
       "version_major": 2,
       "version_minor": 0
      },
      "text/plain": [
       "HBox(children=(IntProgress(value=0, description='Epoch 6', max=6400), HTML(value='')))"
      ]
     },
     "metadata": {},
     "output_type": "display_data"
    },
    {
     "name": "stdout",
     "output_type": "stream",
     "text": [
      " - 391s - loss: 0.8450 - classification_loss: 0.2174 - hypercolumn_loss: 0.2185 - fusion_loss: 0.4091 - fusion_my_iou_metric: 0.7872 - val_loss: 1.2895 - val_classification_loss: 0.3430 - val_hypercolumn_loss: 0.4112 - val_fusion_loss: 0.5353 - val_fusion_my_iou_metric: 0.7535\n",
      "Epoch 8/50\n"
     ]
    },
    {
     "data": {
      "application/vnd.jupyter.widget-view+json": {
       "model_id": "",
       "version_major": 2,
       "version_minor": 0
      },
      "text/plain": [
       "HBox(children=(IntProgress(value=0, description='Epoch 7', max=6400), HTML(value='')))"
      ]
     },
     "metadata": {},
     "output_type": "display_data"
    },
    {
     "name": "stdout",
     "output_type": "stream",
     "text": [
      " - 393s - loss: 0.7874 - classification_loss: 0.2045 - hypercolumn_loss: 0.2071 - fusion_loss: 0.3758 - fusion_my_iou_metric: 0.7974 - val_loss: 1.0884 - val_classification_loss: 0.3134 - val_hypercolumn_loss: 0.3330 - val_fusion_loss: 0.4421 - val_fusion_my_iou_metric: 0.7495\n",
      "Epoch 9/50\n"
     ]
    },
    {
     "data": {
      "application/vnd.jupyter.widget-view+json": {
       "model_id": "",
       "version_major": 2,
       "version_minor": 0
      },
      "text/plain": [
       "HBox(children=(IntProgress(value=0, description='Epoch 8', max=6400), HTML(value='')))"
      ]
     },
     "metadata": {},
     "output_type": "display_data"
    },
    {
     "name": "stdout",
     "output_type": "stream",
     "text": [
      " - 393s - loss: 0.7567 - classification_loss: 0.2047 - hypercolumn_loss: 0.1909 - fusion_loss: 0.3611 - fusion_my_iou_metric: 0.8047 - val_loss: 0.8618 - val_classification_loss: 0.2204 - val_hypercolumn_loss: 0.2779 - val_fusion_loss: 0.3635 - val_fusion_my_iou_metric: 0.7782\n",
      "\n",
      "Epoch 00009: ReduceLROnPlateau reducing learning rate to 1.9999999494757503e-05.\n",
      "Epoch 10/50\n"
     ]
    },
    {
     "data": {
      "application/vnd.jupyter.widget-view+json": {
       "model_id": "",
       "version_major": 2,
       "version_minor": 0
      },
      "text/plain": [
       "HBox(children=(IntProgress(value=0, description='Epoch 9', max=6400), HTML(value='')))"
      ]
     },
     "metadata": {},
     "output_type": "display_data"
    },
    {
     "name": "stdout",
     "output_type": "stream",
     "text": [
      " - 394s - loss: 0.5713 - classification_loss: 0.1470 - hypercolumn_loss: 0.1332 - fusion_loss: 0.2911 - fusion_my_iou_metric: 0.8537 - val_loss: 0.8683 - val_classification_loss: 0.2204 - val_hypercolumn_loss: 0.2880 - val_fusion_loss: 0.3598 - val_fusion_my_iou_metric: 0.8134\n",
      "Epoch 11/50\n"
     ]
    },
    {
     "data": {
      "application/vnd.jupyter.widget-view+json": {
       "model_id": "",
       "version_major": 2,
       "version_minor": 0
      },
      "text/plain": [
       "HBox(children=(IntProgress(value=0, description='Epoch 10', max=6400), HTML(value='')))"
      ]
     },
     "metadata": {},
     "output_type": "display_data"
    },
    {
     "name": "stdout",
     "output_type": "stream",
     "text": [
      " - 393s - loss: 0.5185 - classification_loss: 0.1312 - hypercolumn_loss: 0.1127 - fusion_loss: 0.2745 - fusion_my_iou_metric: 0.8646 - val_loss: 0.8584 - val_classification_loss: 0.2145 - val_hypercolumn_loss: 0.2806 - val_fusion_loss: 0.3634 - val_fusion_my_iou_metric: 0.8186\n",
      "Epoch 12/50\n"
     ]
    },
    {
     "data": {
      "application/vnd.jupyter.widget-view+json": {
       "model_id": "",
       "version_major": 2,
       "version_minor": 0
      },
      "text/plain": [
       "HBox(children=(IntProgress(value=0, description='Epoch 11', max=6400), HTML(value='')))"
      ]
     },
     "metadata": {},
     "output_type": "display_data"
    },
    {
     "name": "stdout",
     "output_type": "stream",
     "text": [
      " - 393s - loss: 0.4615 - classification_loss: 0.1151 - hypercolumn_loss: 0.0955 - fusion_loss: 0.2509 - fusion_my_iou_metric: 0.8764 - val_loss: 0.8984 - val_classification_loss: 0.2256 - val_hypercolumn_loss: 0.3116 - val_fusion_loss: 0.3611 - val_fusion_my_iou_metric: 0.8150\n",
      "Epoch 13/50\n"
     ]
    },
    {
     "data": {
      "application/vnd.jupyter.widget-view+json": {
       "model_id": "",
       "version_major": 2,
       "version_minor": 0
      },
      "text/plain": [
       "HBox(children=(IntProgress(value=0, description='Epoch 12', max=6400), HTML(value='')))"
      ]
     },
     "metadata": {},
     "output_type": "display_data"
    },
    {
     "name": "stdout",
     "output_type": "stream",
     "text": [
      " - 396s - loss: 0.4271 - classification_loss: 0.1054 - hypercolumn_loss: 0.0858 - fusion_loss: 0.2359 - fusion_my_iou_metric: 0.8821 - val_loss: 0.9681 - val_classification_loss: 0.2441 - val_hypercolumn_loss: 0.3534 - val_fusion_loss: 0.3705 - val_fusion_my_iou_metric: 0.8183\n",
      "Epoch 14/50\n"
     ]
    },
    {
     "data": {
      "application/vnd.jupyter.widget-view+json": {
       "model_id": "",
       "version_major": 2,
       "version_minor": 0
      },
      "text/plain": [
       "HBox(children=(IntProgress(value=0, description='Epoch 13', max=6400), HTML(value='')))"
      ]
     },
     "metadata": {},
     "output_type": "display_data"
    },
    {
     "name": "stdout",
     "output_type": "stream",
     "text": [
      " - 393s - loss: 0.4088 - classification_loss: 0.0999 - hypercolumn_loss: 0.0795 - fusion_loss: 0.2295 - fusion_my_iou_metric: 0.8878 - val_loss: 0.9206 - val_classification_loss: 0.2253 - val_hypercolumn_loss: 0.3264 - val_fusion_loss: 0.3689 - val_fusion_my_iou_metric: 0.8226\n",
      "Epoch 15/50\n"
     ]
    },
    {
     "data": {
      "application/vnd.jupyter.widget-view+json": {
       "model_id": "",
       "version_major": 2,
       "version_minor": 0
      },
      "text/plain": [
       "HBox(children=(IntProgress(value=0, description='Epoch 14', max=6400), HTML(value='')))"
      ]
     },
     "metadata": {},
     "output_type": "display_data"
    },
    {
     "name": "stdout",
     "output_type": "stream",
     "text": [
      " - 392s - loss: 0.3810 - classification_loss: 0.0922 - hypercolumn_loss: 0.0738 - fusion_loss: 0.2151 - fusion_my_iou_metric: 0.8923 - val_loss: 0.8745 - val_classification_loss: 0.2449 - val_hypercolumn_loss: 0.2866 - val_fusion_loss: 0.3429 - val_fusion_my_iou_metric: 0.8224\n",
      "Epoch 16/50\n"
     ]
    },
    {
     "data": {
      "application/vnd.jupyter.widget-view+json": {
       "model_id": "",
       "version_major": 2,
       "version_minor": 0
      },
      "text/plain": [
       "HBox(children=(IntProgress(value=0, description='Epoch 15', max=6400), HTML(value='')))"
      ]
     },
     "metadata": {},
     "output_type": "display_data"
    },
    {
     "name": "stdout",
     "output_type": "stream",
     "text": [
      " - 393s - loss: 0.3610 - classification_loss: 0.0873 - hypercolumn_loss: 0.0675 - fusion_loss: 0.2062 - fusion_my_iou_metric: 0.8966 - val_loss: 0.9212 - val_classification_loss: 0.2344 - val_hypercolumn_loss: 0.3340 - val_fusion_loss: 0.3527 - val_fusion_my_iou_metric: 0.8271\n",
      "Epoch 17/50\n"
     ]
    },
    {
     "data": {
      "application/vnd.jupyter.widget-view+json": {
       "model_id": "",
       "version_major": 2,
       "version_minor": 0
      },
      "text/plain": [
       "HBox(children=(IntProgress(value=0, description='Epoch 16', max=6400), HTML(value='')))"
      ]
     },
     "metadata": {},
     "output_type": "display_data"
    },
    {
     "name": "stdout",
     "output_type": "stream",
     "text": [
      " - 391s - loss: 0.3461 - classification_loss: 0.0848 - hypercolumn_loss: 0.0646 - fusion_loss: 0.1967 - fusion_my_iou_metric: 0.8996 - val_loss: 0.9058 - val_classification_loss: 0.2290 - val_hypercolumn_loss: 0.3186 - val_fusion_loss: 0.3582 - val_fusion_my_iou_metric: 0.8178\n",
      "Epoch 18/50\n"
     ]
    },
    {
     "data": {
      "application/vnd.jupyter.widget-view+json": {
       "model_id": "",
       "version_major": 2,
       "version_minor": 0
      },
      "text/plain": [
       "HBox(children=(IntProgress(value=0, description='Epoch 17', max=6400), HTML(value='')))"
      ]
     },
     "metadata": {},
     "output_type": "display_data"
    },
    {
     "name": "stdout",
     "output_type": "stream",
     "text": [
      " - 392s - loss: 0.3324 - classification_loss: 0.0823 - hypercolumn_loss: 0.0591 - fusion_loss: 0.1909 - fusion_my_iou_metric: 0.9035 - val_loss: 0.9857 - val_classification_loss: 0.2458 - val_hypercolumn_loss: 0.3569 - val_fusion_loss: 0.3831 - val_fusion_my_iou_metric: 0.8185\n",
      "Epoch 19/50\n"
     ]
    },
    {
     "data": {
      "application/vnd.jupyter.widget-view+json": {
       "model_id": "",
       "version_major": 2,
       "version_minor": 0
      },
      "text/plain": [
       "HBox(children=(IntProgress(value=0, description='Epoch 18', max=6400), HTML(value='')))"
      ]
     },
     "metadata": {},
     "output_type": "display_data"
    },
    {
     "name": "stdout",
     "output_type": "stream",
     "text": [
      " - 392s - loss: 0.3144 - classification_loss: 0.0779 - hypercolumn_loss: 0.0543 - fusion_loss: 0.1823 - fusion_my_iou_metric: 0.9075 - val_loss: 0.9421 - val_classification_loss: 0.2359 - val_hypercolumn_loss: 0.3455 - val_fusion_loss: 0.3607 - val_fusion_my_iou_metric: 0.8242\n",
      "Epoch 20/50\n"
     ]
    },
    {
     "data": {
      "application/vnd.jupyter.widget-view+json": {
       "model_id": "",
       "version_major": 2,
       "version_minor": 0
      },
      "text/plain": [
       "HBox(children=(IntProgress(value=0, description='Epoch 19', max=6400), HTML(value='')))"
      ]
     },
     "metadata": {},
     "output_type": "display_data"
    },
    {
     "name": "stdout",
     "output_type": "stream",
     "text": [
      " - 391s - loss: 0.2993 - classification_loss: 0.0747 - hypercolumn_loss: 0.0512 - fusion_loss: 0.1734 - fusion_my_iou_metric: 0.9116 - val_loss: 0.9435 - val_classification_loss: 0.2331 - val_hypercolumn_loss: 0.3405 - val_fusion_loss: 0.3699 - val_fusion_my_iou_metric: 0.8292\n",
      "Epoch 21/50\n"
     ]
    },
    {
     "data": {
      "application/vnd.jupyter.widget-view+json": {
       "model_id": "",
       "version_major": 2,
       "version_minor": 0
      },
      "text/plain": [
       "HBox(children=(IntProgress(value=0, description='Epoch 20', max=6400), HTML(value='')))"
      ]
     },
     "metadata": {},
     "output_type": "display_data"
    },
    {
     "name": "stdout",
     "output_type": "stream",
     "text": [
      " - 392s - loss: 0.2812 - classification_loss: 0.0719 - hypercolumn_loss: 0.0469 - fusion_loss: 0.1623 - fusion_my_iou_metric: 0.9155 - val_loss: 0.9687 - val_classification_loss: 0.2376 - val_hypercolumn_loss: 0.3581 - val_fusion_loss: 0.3730 - val_fusion_my_iou_metric: 0.8231\n",
      "Epoch 22/50\n"
     ]
    },
    {
     "data": {
      "application/vnd.jupyter.widget-view+json": {
       "model_id": "",
       "version_major": 2,
       "version_minor": 0
      },
      "text/plain": [
       "HBox(children=(IntProgress(value=0, description='Epoch 21', max=6400), HTML(value='')))"
      ]
     },
     "metadata": {},
     "output_type": "display_data"
    },
    {
     "name": "stdout",
     "output_type": "stream",
     "text": [
      " - 390s - loss: 0.2895 - classification_loss: 0.0768 - hypercolumn_loss: 0.0482 - fusion_loss: 0.1645 - fusion_my_iou_metric: 0.9147 - val_loss: 0.9728 - val_classification_loss: 0.2480 - val_hypercolumn_loss: 0.3620 - val_fusion_loss: 0.3628 - val_fusion_my_iou_metric: 0.8225\n",
      "Epoch 23/50\n"
     ]
    },
    {
     "data": {
      "application/vnd.jupyter.widget-view+json": {
       "model_id": "",
       "version_major": 2,
       "version_minor": 0
      },
      "text/plain": [
       "HBox(children=(IntProgress(value=0, description='Epoch 22', max=6400), HTML(value='')))"
      ]
     },
     "metadata": {},
     "output_type": "display_data"
    },
    {
     "name": "stdout",
     "output_type": "stream",
     "text": [
      " - 392s - loss: 0.2663 - classification_loss: 0.0704 - hypercolumn_loss: 0.0435 - fusion_loss: 0.1524 - fusion_my_iou_metric: 0.9205 - val_loss: 0.9884 - val_classification_loss: 0.2482 - val_hypercolumn_loss: 0.3598 - val_fusion_loss: 0.3805 - val_fusion_my_iou_metric: 0.8214\n",
      "Epoch 24/50\n"
     ]
    },
    {
     "data": {
      "application/vnd.jupyter.widget-view+json": {
       "model_id": "",
       "version_major": 2,
       "version_minor": 0
      },
      "text/plain": [
       "HBox(children=(IntProgress(value=0, description='Epoch 23', max=6400), HTML(value='')))"
      ]
     },
     "metadata": {},
     "output_type": "display_data"
    },
    {
     "name": "stdout",
     "output_type": "stream",
     "text": [
      " - 392s - loss: 0.2591 - classification_loss: 0.0667 - hypercolumn_loss: 0.0442 - fusion_loss: 0.1482 - fusion_my_iou_metric: 0.9209 - val_loss: 1.0368 - val_classification_loss: 0.2481 - val_hypercolumn_loss: 0.3912 - val_fusion_loss: 0.3975 - val_fusion_my_iou_metric: 0.8257\n",
      "Epoch 25/50\n"
     ]
    },
    {
     "data": {
      "application/vnd.jupyter.widget-view+json": {
       "model_id": "",
       "version_major": 2,
       "version_minor": 0
      },
      "text/plain": [
       "HBox(children=(IntProgress(value=0, description='Epoch 24', max=6400), HTML(value='')))"
      ]
     },
     "metadata": {},
     "output_type": "display_data"
    },
    {
     "name": "stdout",
     "output_type": "stream",
     "text": [
      " - 392s - loss: 0.2422 - classification_loss: 0.0652 - hypercolumn_loss: 0.0388 - fusion_loss: 0.1381 - fusion_my_iou_metric: 0.9239 - val_loss: 0.9973 - val_classification_loss: 0.2483 - val_hypercolumn_loss: 0.3636 - val_fusion_loss: 0.3854 - val_fusion_my_iou_metric: 0.8247\n",
      "\n",
      "Epoch 00025: ReduceLROnPlateau reducing learning rate to 3.999999898951501e-06.\n",
      "Epoch 26/50\n"
     ]
    },
    {
     "data": {
      "application/vnd.jupyter.widget-view+json": {
       "model_id": "",
       "version_major": 2,
       "version_minor": 0
      },
      "text/plain": [
       "HBox(children=(IntProgress(value=0, description='Epoch 25', max=6400), HTML(value='')))"
      ]
     },
     "metadata": {},
     "output_type": "display_data"
    },
    {
     "name": "stdout",
     "output_type": "stream",
     "text": [
      " - 392s - loss: 0.2240 - classification_loss: 0.0617 - hypercolumn_loss: 0.0350 - fusion_loss: 0.1272 - fusion_my_iou_metric: 0.9299 - val_loss: 0.9940 - val_classification_loss: 0.2463 - val_hypercolumn_loss: 0.3647 - val_fusion_loss: 0.3829 - val_fusion_my_iou_metric: 0.8275\n",
      "Epoch 27/50\n"
     ]
    },
    {
     "data": {
      "application/vnd.jupyter.widget-view+json": {
       "model_id": "",
       "version_major": 2,
       "version_minor": 0
      },
      "text/plain": [
       "HBox(children=(IntProgress(value=0, description='Epoch 26', max=6400), HTML(value='')))"
      ]
     },
     "metadata": {},
     "output_type": "display_data"
    },
    {
     "name": "stdout",
     "output_type": "stream",
     "text": [
      " - 392s - loss: 0.2187 - classification_loss: 0.0632 - hypercolumn_loss: 0.0333 - fusion_loss: 0.1222 - fusion_my_iou_metric: 0.9319 - val_loss: 1.0156 - val_classification_loss: 0.2531 - val_hypercolumn_loss: 0.3695 - val_fusion_loss: 0.3929 - val_fusion_my_iou_metric: 0.8249\n",
      "Epoch 28/50\n"
     ]
    },
    {
     "data": {
      "application/vnd.jupyter.widget-view+json": {
       "model_id": "",
       "version_major": 2,
       "version_minor": 0
      },
      "text/plain": [
       "HBox(children=(IntProgress(value=0, description='Epoch 27', max=6400), HTML(value='')))"
      ]
     },
     "metadata": {},
     "output_type": "display_data"
    },
    {
     "name": "stdout",
     "output_type": "stream",
     "text": [
      " - 392s - loss: 0.2126 - classification_loss: 0.0615 - hypercolumn_loss: 0.0318 - fusion_loss: 0.1193 - fusion_my_iou_metric: 0.9331 - val_loss: 1.0147 - val_classification_loss: 0.2488 - val_hypercolumn_loss: 0.3707 - val_fusion_loss: 0.3953 - val_fusion_my_iou_metric: 0.8260\n",
      "Epoch 29/50\n"
     ]
    },
    {
     "data": {
      "application/vnd.jupyter.widget-view+json": {
       "model_id": "",
       "version_major": 2,
       "version_minor": 0
      },
      "text/plain": [
       "HBox(children=(IntProgress(value=0, description='Epoch 28', max=6400), HTML(value='')))"
      ]
     },
     "metadata": {},
     "output_type": "display_data"
    },
    {
     "name": "stdout",
     "output_type": "stream",
     "text": [
      " - 395s - loss: 0.2176 - classification_loss: 0.0617 - hypercolumn_loss: 0.0334 - fusion_loss: 0.1226 - fusion_my_iou_metric: 0.9333 - val_loss: 0.9975 - val_classification_loss: 0.2524 - val_hypercolumn_loss: 0.3600 - val_fusion_loss: 0.3852 - val_fusion_my_iou_metric: 0.8279\n",
      "Epoch 30/50\n"
     ]
    },
    {
     "data": {
      "application/vnd.jupyter.widget-view+json": {
       "model_id": "",
       "version_major": 2,
       "version_minor": 0
      },
      "text/plain": [
       "HBox(children=(IntProgress(value=0, description='Epoch 29', max=6400), HTML(value='')))"
      ]
     },
     "metadata": {},
     "output_type": "display_data"
    },
    {
     "name": "stdout",
     "output_type": "stream",
     "text": [
      " - 393s - loss: 0.2248 - classification_loss: 0.0652 - hypercolumn_loss: 0.0345 - fusion_loss: 0.1252 - fusion_my_iou_metric: 0.9346 - val_loss: 1.0090 - val_classification_loss: 0.2484 - val_hypercolumn_loss: 0.3626 - val_fusion_loss: 0.3980 - val_fusion_my_iou_metric: 0.8267\n",
      "\n",
      "Epoch 00030: ReduceLROnPlateau reducing learning rate to 7.999999979801942e-07.\n",
      "Epoch 00030: early stopping\n",
      "\n",
      "Train on 6400 samples, validate on 800 samples\n"
     ]
    },
    {
     "data": {
      "application/vnd.jupyter.widget-view+json": {
       "model_id": "55765851a7544f0d8bc90f3bbabeaec0",
       "version_major": 2,
       "version_minor": 0
      },
      "text/plain": [
       "HBox(children=(IntProgress(value=0, description='Training', max=50), HTML(value='')))"
      ]
     },
     "metadata": {},
     "output_type": "display_data"
    },
    {
     "name": "stdout",
     "output_type": "stream",
     "text": [
      "Epoch 1/50\n"
     ]
    },
    {
     "data": {
      "application/vnd.jupyter.widget-view+json": {
       "model_id": "",
       "version_major": 2,
       "version_minor": 0
      },
      "text/plain": [
       "HBox(children=(IntProgress(value=0, description='Epoch 0', max=6400), HTML(value='')))"
      ]
     },
     "metadata": {},
     "output_type": "display_data"
    },
    {
     "name": "stdout",
     "output_type": "stream",
     "text": [
      " - 392s - loss: 0.2807 - classification_loss: 0.0756 - hypercolumn_loss: 0.0460 - fusion_loss: 0.1590 - fusion_my_iou_metric: 0.9163 - val_loss: 0.9326 - val_classification_loss: 0.2320 - val_hypercolumn_loss: 0.3375 - val_fusion_loss: 0.3631 - val_fusion_my_iou_metric: 0.8284\n"
     ]
    },
    {
     "name": "stderr",
     "output_type": "stream",
     "text": [
      "C:\\Anaconda3\\envs\\py36\\lib\\site-packages\\keras\\callbacks.py:1043: RuntimeWarning: Reduce LR on plateau conditioned on metric `val_my_iou_metric` which is not available. Available metrics are: val_loss,val_classification_loss,val_hypercolumn_loss,val_fusion_loss,val_fusion_my_iou_metric,loss,classification_loss,hypercolumn_loss,fusion_loss,fusion_my_iou_metric,lr\n",
      "  (self.monitor, ','.join(list(logs.keys()))), RuntimeWarning\n",
      "C:\\Anaconda3\\envs\\py36\\lib\\site-packages\\keras\\callbacks.py:432: RuntimeWarning: Can save best model only with val_my_iou_metric available, skipping.\n",
      "  'skipping.' % (self.monitor), RuntimeWarning)\n"
     ]
    },
    {
     "name": "stdout",
     "output_type": "stream",
     "text": [
      "Epoch 2/50\n"
     ]
    },
    {
     "data": {
      "application/vnd.jupyter.widget-view+json": {
       "model_id": "",
       "version_major": 2,
       "version_minor": 0
      },
      "text/plain": [
       "HBox(children=(IntProgress(value=0, description='Epoch 1', max=6400), HTML(value='')))"
      ]
     },
     "metadata": {},
     "output_type": "display_data"
    },
    {
     "name": "stdout",
     "output_type": "stream",
     "text": [
      " - 395s - loss: 0.2719 - classification_loss: 0.0713 - hypercolumn_loss: 0.0443 - fusion_loss: 0.1564 - fusion_my_iou_metric: 0.9195 - val_loss: 0.9294 - val_classification_loss: 0.2321 - val_hypercolumn_loss: 0.3346 - val_fusion_loss: 0.3628 - val_fusion_my_iou_metric: 0.8239\n",
      "Epoch 3/50\n"
     ]
    },
    {
     "data": {
      "application/vnd.jupyter.widget-view+json": {
       "model_id": "",
       "version_major": 2,
       "version_minor": 0
      },
      "text/plain": [
       "HBox(children=(IntProgress(value=0, description='Epoch 2', max=6400), HTML(value='')))"
      ]
     },
     "metadata": {},
     "output_type": "display_data"
    },
    {
     "name": "stdout",
     "output_type": "stream",
     "text": [
      " - 392s - loss: 0.2689 - classification_loss: 0.0717 - hypercolumn_loss: 0.0436 - fusion_loss: 0.1536 - fusion_my_iou_metric: 0.9200 - val_loss: 0.9414 - val_classification_loss: 0.2334 - val_hypercolumn_loss: 0.3392 - val_fusion_loss: 0.3687 - val_fusion_my_iou_metric: 0.8254\n",
      "Epoch 4/50\n"
     ]
    },
    {
     "data": {
      "application/vnd.jupyter.widget-view+json": {
       "model_id": "",
       "version_major": 2,
       "version_minor": 0
      },
      "text/plain": [
       "HBox(children=(IntProgress(value=0, description='Epoch 3', max=6400), HTML(value='')))"
      ]
     },
     "metadata": {},
     "output_type": "display_data"
    },
    {
     "name": "stdout",
     "output_type": "stream",
     "text": [
      " - 392s - loss: 0.2676 - classification_loss: 0.0724 - hypercolumn_loss: 0.0434 - fusion_loss: 0.1518 - fusion_my_iou_metric: 0.9192 - val_loss: 0.9412 - val_classification_loss: 0.2321 - val_hypercolumn_loss: 0.3384 - val_fusion_loss: 0.3706 - val_fusion_my_iou_metric: 0.8246\n",
      "Epoch 5/50\n"
     ]
    },
    {
     "data": {
      "application/vnd.jupyter.widget-view+json": {
       "model_id": "",
       "version_major": 2,
       "version_minor": 0
      },
      "text/plain": [
       "HBox(children=(IntProgress(value=0, description='Epoch 4', max=6400), HTML(value='')))"
      ]
     },
     "metadata": {},
     "output_type": "display_data"
    },
    {
     "name": "stdout",
     "output_type": "stream",
     "text": [
      " - 393s - loss: 0.2663 - classification_loss: 0.0709 - hypercolumn_loss: 0.0427 - fusion_loss: 0.1527 - fusion_my_iou_metric: 0.9205 - val_loss: 0.9414 - val_classification_loss: 0.2340 - val_hypercolumn_loss: 0.3380 - val_fusion_loss: 0.3694 - val_fusion_my_iou_metric: 0.8241\n",
      "Epoch 6/50\n"
     ]
    },
    {
     "data": {
      "application/vnd.jupyter.widget-view+json": {
       "model_id": "",
       "version_major": 2,
       "version_minor": 0
      },
      "text/plain": [
       "HBox(children=(IntProgress(value=0, description='Epoch 5', max=6400), HTML(value='')))"
      ]
     },
     "metadata": {},
     "output_type": "display_data"
    },
    {
     "name": "stdout",
     "output_type": "stream",
     "text": [
      " - 391s - loss: 0.2693 - classification_loss: 0.0757 - hypercolumn_loss: 0.0416 - fusion_loss: 0.1519 - fusion_my_iou_metric: 0.9205 - val_loss: 0.9519 - val_classification_loss: 0.2314 - val_hypercolumn_loss: 0.3469 - val_fusion_loss: 0.3736 - val_fusion_my_iou_metric: 0.8257\n",
      "Epoch 7/50\n"
     ]
    },
    {
     "data": {
      "application/vnd.jupyter.widget-view+json": {
       "model_id": "",
       "version_major": 2,
       "version_minor": 0
      },
      "text/plain": [
       "HBox(children=(IntProgress(value=0, description='Epoch 6', max=6400), HTML(value='')))"
      ]
     },
     "metadata": {},
     "output_type": "display_data"
    },
    {
     "name": "stdout",
     "output_type": "stream",
     "text": [
      " - 391s - loss: 0.2794 - classification_loss: 0.0814 - hypercolumn_loss: 0.0425 - fusion_loss: 0.1555 - fusion_my_iou_metric: 0.9199 - val_loss: 0.9540 - val_classification_loss: 0.2305 - val_hypercolumn_loss: 0.3486 - val_fusion_loss: 0.3748 - val_fusion_my_iou_metric: 0.8256\n",
      "Epoch 8/50\n"
     ]
    },
    {
     "data": {
      "application/vnd.jupyter.widget-view+json": {
       "model_id": "",
       "version_major": 2,
       "version_minor": 0
      },
      "text/plain": [
       "HBox(children=(IntProgress(value=0, description='Epoch 7', max=6400), HTML(value='')))"
      ]
     },
     "metadata": {},
     "output_type": "display_data"
    },
    {
     "name": "stdout",
     "output_type": "stream",
     "text": [
      " - 392s - loss: 0.2624 - classification_loss: 0.0715 - hypercolumn_loss: 0.0408 - fusion_loss: 0.1501 - fusion_my_iou_metric: 0.9216 - val_loss: 0.9481 - val_classification_loss: 0.2330 - val_hypercolumn_loss: 0.3422 - val_fusion_loss: 0.3729 - val_fusion_my_iou_metric: 0.8227\n",
      "Epoch 9/50\n"
     ]
    },
    {
     "data": {
      "application/vnd.jupyter.widget-view+json": {
       "model_id": "",
       "version_major": 2,
       "version_minor": 0
      },
      "text/plain": [
       "HBox(children=(IntProgress(value=0, description='Epoch 8', max=6400), HTML(value='')))"
      ]
     },
     "metadata": {},
     "output_type": "display_data"
    },
    {
     "name": "stdout",
     "output_type": "stream",
     "text": [
      " - 394s - loss: 0.2665 - classification_loss: 0.0774 - hypercolumn_loss: 0.0402 - fusion_loss: 0.1489 - fusion_my_iou_metric: 0.9210 - val_loss: 0.9478 - val_classification_loss: 0.2332 - val_hypercolumn_loss: 0.3414 - val_fusion_loss: 0.3732 - val_fusion_my_iou_metric: 0.8237\n",
      "Epoch 10/50\n"
     ]
    },
    {
     "data": {
      "application/vnd.jupyter.widget-view+json": {
       "model_id": "",
       "version_major": 2,
       "version_minor": 0
      },
      "text/plain": [
       "HBox(children=(IntProgress(value=0, description='Epoch 9', max=6400), HTML(value='')))"
      ]
     },
     "metadata": {},
     "output_type": "display_data"
    },
    {
     "name": "stdout",
     "output_type": "stream",
     "text": [
      " - 393s - loss: 0.2602 - classification_loss: 0.0708 - hypercolumn_loss: 0.0406 - fusion_loss: 0.1489 - fusion_my_iou_metric: 0.9232 - val_loss: 0.9581 - val_classification_loss: 0.2322 - val_hypercolumn_loss: 0.3504 - val_fusion_loss: 0.3754 - val_fusion_my_iou_metric: 0.8246\n",
      "Epoch 11/50\n"
     ]
    },
    {
     "data": {
      "application/vnd.jupyter.widget-view+json": {
       "model_id": "",
       "version_major": 2,
       "version_minor": 0
      },
      "text/plain": [
       "HBox(children=(IntProgress(value=0, description='Epoch 10', max=6400), HTML(value='')))"
      ]
     },
     "metadata": {},
     "output_type": "display_data"
    },
    {
     "name": "stdout",
     "output_type": "stream",
     "text": [
      " - 391s - loss: 0.2615 - classification_loss: 0.0704 - hypercolumn_loss: 0.0419 - fusion_loss: 0.1492 - fusion_my_iou_metric: 0.9222 - val_loss: 0.9594 - val_classification_loss: 0.2334 - val_hypercolumn_loss: 0.3501 - val_fusion_loss: 0.3759 - val_fusion_my_iou_metric: 0.8239\n",
      "Epoch 12/50\n"
     ]
    },
    {
     "data": {
      "application/vnd.jupyter.widget-view+json": {
       "model_id": "",
       "version_major": 2,
       "version_minor": 0
      },
      "text/plain": [
       "HBox(children=(IntProgress(value=0, description='Epoch 11', max=6400), HTML(value='')))"
      ]
     },
     "metadata": {},
     "output_type": "display_data"
    },
    {
     "name": "stdout",
     "output_type": "stream",
     "text": [
      " - 393s - loss: 0.2626 - classification_loss: 0.0715 - hypercolumn_loss: 0.0420 - fusion_loss: 0.1492 - fusion_my_iou_metric: 0.9230 - val_loss: 0.9657 - val_classification_loss: 0.2332 - val_hypercolumn_loss: 0.3529 - val_fusion_loss: 0.3796 - val_fusion_my_iou_metric: 0.8234\n",
      "Epoch 13/50\n"
     ]
    },
    {
     "data": {
      "application/vnd.jupyter.widget-view+json": {
       "model_id": "",
       "version_major": 2,
       "version_minor": 0
      },
      "text/plain": [
       "HBox(children=(IntProgress(value=0, description='Epoch 12', max=6400), HTML(value='')))"
      ]
     },
     "metadata": {},
     "output_type": "display_data"
    },
    {
     "name": "stdout",
     "output_type": "stream",
     "text": [
      " - 395s - loss: 0.2638 - classification_loss: 0.0757 - hypercolumn_loss: 0.0399 - fusion_loss: 0.1482 - fusion_my_iou_metric: 0.9216 - val_loss: 0.9701 - val_classification_loss: 0.2318 - val_hypercolumn_loss: 0.3550 - val_fusion_loss: 0.3833 - val_fusion_my_iou_metric: 0.8229\n",
      "Epoch 14/50\n"
     ]
    },
    {
     "data": {
      "application/vnd.jupyter.widget-view+json": {
       "model_id": "",
       "version_major": 2,
       "version_minor": 0
      },
      "text/plain": [
       "HBox(children=(IntProgress(value=0, description='Epoch 13', max=6400), HTML(value='')))"
      ]
     },
     "metadata": {},
     "output_type": "display_data"
    },
    {
     "name": "stdout",
     "output_type": "stream",
     "text": [
      " - 394s - loss: 0.2706 - classification_loss: 0.0788 - hypercolumn_loss: 0.0418 - fusion_loss: 0.1500 - fusion_my_iou_metric: 0.9224 - val_loss: 0.9682 - val_classification_loss: 0.2337 - val_hypercolumn_loss: 0.3548 - val_fusion_loss: 0.3796 - val_fusion_my_iou_metric: 0.8220\n",
      "Epoch 15/50\n"
     ]
    },
    {
     "data": {
      "application/vnd.jupyter.widget-view+json": {
       "model_id": "",
       "version_major": 2,
       "version_minor": 0
      },
      "text/plain": [
       "HBox(children=(IntProgress(value=0, description='Epoch 14', max=6400), HTML(value='')))"
      ]
     },
     "metadata": {},
     "output_type": "display_data"
    },
    {
     "name": "stdout",
     "output_type": "stream",
     "text": [
      " - 395s - loss: 0.2580 - classification_loss: 0.0732 - hypercolumn_loss: 0.0390 - fusion_loss: 0.1457 - fusion_my_iou_metric: 0.9242 - val_loss: 0.9765 - val_classification_loss: 0.2338 - val_hypercolumn_loss: 0.3579 - val_fusion_loss: 0.3848 - val_fusion_my_iou_metric: 0.8225\n",
      "Epoch 16/50\n"
     ]
    },
    {
     "data": {
      "application/vnd.jupyter.widget-view+json": {
       "model_id": "",
       "version_major": 2,
       "version_minor": 0
      },
      "text/plain": [
       "HBox(children=(IntProgress(value=0, description='Epoch 15', max=6400), HTML(value='')))"
      ]
     },
     "metadata": {},
     "output_type": "display_data"
    },
    {
     "name": "stdout",
     "output_type": "stream",
     "text": [
      " - 394s - loss: 0.2719 - classification_loss: 0.0813 - hypercolumn_loss: 0.0403 - fusion_loss: 0.1504 - fusion_my_iou_metric: 0.9222 - val_loss: 0.9866 - val_classification_loss: 0.2343 - val_hypercolumn_loss: 0.3646 - val_fusion_loss: 0.3878 - val_fusion_my_iou_metric: 0.8204\n",
      "Epoch 17/50\n"
     ]
    },
    {
     "data": {
      "application/vnd.jupyter.widget-view+json": {
       "model_id": "",
       "version_major": 2,
       "version_minor": 0
      },
      "text/plain": [
       "HBox(children=(IntProgress(value=0, description='Epoch 16', max=6400), HTML(value='')))"
      ]
     },
     "metadata": {},
     "output_type": "display_data"
    },
    {
     "name": "stdout",
     "output_type": "stream",
     "text": [
      " - 393s - loss: 0.2630 - classification_loss: 0.0747 - hypercolumn_loss: 0.0395 - fusion_loss: 0.1487 - fusion_my_iou_metric: 0.9232 - val_loss: 0.9795 - val_classification_loss: 0.2337 - val_hypercolumn_loss: 0.3604 - val_fusion_loss: 0.3854 - val_fusion_my_iou_metric: 0.8256\n",
      "Epoch 18/50\n"
     ]
    },
    {
     "data": {
      "application/vnd.jupyter.widget-view+json": {
       "model_id": "",
       "version_major": 2,
       "version_minor": 0
      },
      "text/plain": [
       "HBox(children=(IntProgress(value=0, description='Epoch 17', max=6400), HTML(value='')))"
      ]
     },
     "metadata": {},
     "output_type": "display_data"
    },
    {
     "name": "stdout",
     "output_type": "stream",
     "text": [
      " - 394s - loss: 0.2505 - classification_loss: 0.0696 - hypercolumn_loss: 0.0387 - fusion_loss: 0.1423 - fusion_my_iou_metric: 0.9247 - val_loss: 0.9786 - val_classification_loss: 0.2336 - val_hypercolumn_loss: 0.3593 - val_fusion_loss: 0.3857 - val_fusion_my_iou_metric: 0.8202\n",
      "Epoch 19/50\n"
     ]
    },
    {
     "data": {
      "application/vnd.jupyter.widget-view+json": {
       "model_id": "",
       "version_major": 2,
       "version_minor": 0
      },
      "text/plain": [
       "HBox(children=(IntProgress(value=0, description='Epoch 18', max=6400), HTML(value='')))"
      ]
     },
     "metadata": {},
     "output_type": "display_data"
    },
    {
     "name": "stdout",
     "output_type": "stream",
     "text": [
      " - 392s - loss: 0.2618 - classification_loss: 0.0757 - hypercolumn_loss: 0.0394 - fusion_loss: 0.1468 - fusion_my_iou_metric: 0.9241 - val_loss: 0.9839 - val_classification_loss: 0.2328 - val_hypercolumn_loss: 0.3648 - val_fusion_loss: 0.3863 - val_fusion_my_iou_metric: 0.8229\n",
      "Epoch 20/50\n"
     ]
    },
    {
     "data": {
      "application/vnd.jupyter.widget-view+json": {
       "model_id": "",
       "version_major": 2,
       "version_minor": 0
      },
      "text/plain": [
       "HBox(children=(IntProgress(value=0, description='Epoch 19', max=6400), HTML(value='')))"
      ]
     },
     "metadata": {},
     "output_type": "display_data"
    },
    {
     "name": "stdout",
     "output_type": "stream",
     "text": [
      " - 393s - loss: 0.2534 - classification_loss: 0.0703 - hypercolumn_loss: 0.0388 - fusion_loss: 0.1442 - fusion_my_iou_metric: 0.9248 - val_loss: 0.9856 - val_classification_loss: 0.2330 - val_hypercolumn_loss: 0.3657 - val_fusion_loss: 0.3870 - val_fusion_my_iou_metric: 0.8245\n",
      "Epoch 21/50\n"
     ]
    },
    {
     "data": {
      "application/vnd.jupyter.widget-view+json": {
       "model_id": "",
       "version_major": 2,
       "version_minor": 0
      },
      "text/plain": [
       "HBox(children=(IntProgress(value=0, description='Epoch 20', max=6400), HTML(value='')))"
      ]
     },
     "metadata": {},
     "output_type": "display_data"
    },
    {
     "name": "stdout",
     "output_type": "stream",
     "text": [
      " - 392s - loss: 0.2556 - classification_loss: 0.0698 - hypercolumn_loss: 0.0400 - fusion_loss: 0.1457 - fusion_my_iou_metric: 0.9242 - val_loss: 0.9903 - val_classification_loss: 0.2349 - val_hypercolumn_loss: 0.3665 - val_fusion_loss: 0.3888 - val_fusion_my_iou_metric: 0.8217\n",
      "Epoch 00021: early stopping\n",
      "\n"
     ]
    }
   ],
   "source": [
    "opt = Adam(lr = 0.0001)\n",
    "#early_stopping = EarlyStopping(monitor='val_my_iou_metric', mode = 'max',patience=10, verbose=1)\n",
    "#model_checkpoint = ModelCheckpoint(best_model_save_path,monitor='my_iou_metric', mode = 'max', save_best_only=True, verbose=1)\n",
    "#reduce_lr = ReduceLROnPlateau(monitor='my_iou_metric', mode = 'max',factor=0.5, patience=5, min_lr=0.0001, verbose=1)\n",
    "#tqdm_nb = TQDMNotebookCallback() \n",
    "\n",
    "losses = [binary_crossentropy,bce_dice_loss_non_empty,weighted_bce_dice_loss]\n",
    "\n",
    "lossWeights = [0.05,0.1,1.0]\n",
    "y_tt = [bin_class_train,y_train,y_train]\n",
    "y_vv = [bin_class_valid,y_valid,y_valid]\n",
    "mertrics1 = {'fusion':my_iou_metric}\n",
    "#opt = SGD(lr = 0.01, momentum=0.9, decay=0.0001)\n",
    "#model.compile(loss=weighted_bce_dice_loss, optimizer=opt, metrics=[my_iou_metric])\n",
    "#model.compile(loss=weighted_bce_dice_loss, optimizer=opt, metrics=[my_iou_metric])\n",
    "#outputs = model.outputs\n",
    "#deep_model = Model(inputs=model.inputs, outputs=outputs)\n",
    "model.compile(optimizer=opt, loss=losses ,loss_weights=lossWeights, metrics=mertrics1)\n",
    "\n",
    "set_trainable(model)\n",
    "history1 = model.fit(x_train, y_tt,\n",
    "                    validation_data=[x_valid, y_vv], \n",
    "                    epochs=50,\n",
    "                    batch_size=BATCH_SIZE,\n",
    "                    callbacks=callbacks1, \n",
    "                    verbose=2)\n",
    "\n",
    "model.load_weights(best_model_save_path)\n",
    "history2 = model.fit(x_train, y_tt,\n",
    "                    validation_data=[x_valid, y_vv], \n",
    "                    epochs=50,\n",
    "                    batch_size=BATCH_SIZE,\n",
    "                    callbacks=callbacks2, \n",
    "                    verbose=2)"
   ]
  },
  {
   "cell_type": "code",
   "execution_count": 23,
   "metadata": {},
   "outputs": [
    {
     "data": {
      "text/plain": [
       "[<matplotlib.lines.Line2D at 0x257f4142588>]"
      ]
     },
     "execution_count": 23,
     "metadata": {},
     "output_type": "execute_result"
    },
    {
     "data": {
      "image/png": "[encoded data removed]",
      "text/plain": [
       "<Figure size 1080x360 with 2 Axes>"
      ]
     },
     "metadata": {
      "needs_background": "light"
     },
     "output_type": "display_data"
    }
   ],
   "source": [
    "fig, (ax_loss, ax_acc) = plt.subplots(1, 2, figsize=(15,5))\n",
    "ax_loss.plot(history1.epoch, history1.history[\"loss\"], label=\"Train loss\")\n",
    "ax_loss.plot(history1.epoch, history1.history[\"val_loss\"], label=\"Validation loss\")\n",
    "ax_acc.plot(history1.epoch, history1.history[\"fusion_my_iou_metric\"], label=\"Train accuracy\")\n",
    "ax_acc.plot(history1.epoch, history1.history[\"val_fusion_my_iou_metric\"], label=\"Validation accuracy\")"
   ]
  },
  {
   "cell_type": "code",
   "execution_count": 24,
   "metadata": {},
   "outputs": [
    {
     "data": {
      "text/plain": [
       "[<matplotlib.lines.Line2D at 0x257f41a1eb8>]"
      ]
     },
     "execution_count": 24,
     "metadata": {},
     "output_type": "execute_result"
    },
    {
     "data": {
      "image/png": "[encoded data removed]",
      "text/plain": [
       "<Figure size 1080x360 with 2 Axes>"
      ]
     },
     "metadata": {
      "needs_background": "light"
     },
     "output_type": "display_data"
    }
   ],
   "source": [
    "fig, (ax_loss, ax_acc) = plt.subplots(1, 2, figsize=(15,5))\n",
    "ax_loss.plot(history2.epoch, history2.history[\"loss\"], label=\"Train loss\")\n",
    "ax_loss.plot(history2.epoch, history2.history[\"val_loss\"], label=\"Validation loss\")\n",
    "ax_acc.plot(history2.epoch, history2.history[\"fusion_my_iou_metric\"], label=\"Train accuracy\")\n",
    "ax_acc.plot(history2.epoch, history2.history[\"val_fusion_my_iou_metric\"], label=\"Validation accuracy\")"
   ]
  },
  {
   "cell_type": "code",
   "execution_count": 25,
   "metadata": {
    "_uuid": "c824f6bca47f051500966c433ce7fb5a9528f6d7"
   },
   "outputs": [
    {
     "name": "stdout",
     "output_type": "stream",
     "text": [
      "./model/UnetHB_SPDR_BINMUL_SE_MULTI_pad_with_weirdmask_bcedice_bb_resnet152_bw_imagenet_ts_256_ps_256_bs_8_sprs_9800_du_False_mu_False.h5\n"
     ]
    }
   ],
   "source": [
    "#model = load_model(\"./tgs_model.h5\")\n",
    "print(best_model_save_path)\n",
    "model.load_weights(best_model_save_path)"
   ]
  },
  {
   "cell_type": "markdown",
   "metadata": {
    "_uuid": "fd973023204ebf921fe1f23748856e6a6f692aa4",
    "collapsed": true
   },
   "source": [
    "# Scoring\n",
    "Score the model and do a threshold optimization by the best IoU."
   ]
  },
  {
   "cell_type": "code",
   "execution_count": 26,
   "metadata": {
    "scrolled": true
   },
   "outputs": [
    {
     "data": {
      "text/plain": [
       "18000"
      ]
     },
     "execution_count": 26,
     "metadata": {},
     "output_type": "execute_result"
    }
   ],
   "source": [
    "len(x_test_add_z_image)"
   ]
  },
  {
   "cell_type": "code",
   "execution_count": 27,
   "metadata": {},
   "outputs": [],
   "source": [
    "import gc\n",
    "def predict_result(model,x_test,img_size_target): # predict both orginal and reflect x\n",
    "    x_test_reflect =  np.array([np.fliplr(x) for x in x_test])\n",
    "    preds_test1 = model.predict(x_test)[2].reshape(-1, img_size_target, img_size_target)\n",
    "    preds_test2_refect = model.predict(x_test_reflect)[2].reshape(-1, img_size_target, img_size_target)\n",
    "    preds_test2 = np.array([ np.fliplr(x) for x in preds_test2_refect] )\n",
    "    preds_avg = (preds_test1 +preds_test2)/2\n",
    "    return preds_avg"
   ]
  },
  {
   "cell_type": "code",
   "execution_count": 28,
   "metadata": {},
   "outputs": [
    {
     "data": {
      "text/plain": [
       "(800, 256, 256, 1)"
      ]
     },
     "execution_count": 28,
     "metadata": {},
     "output_type": "execute_result"
    }
   ],
   "source": [
    "y_valid.shape"
   ]
  },
  {
   "cell_type": "code",
   "execution_count": 29,
   "metadata": {},
   "outputs": [
    {
     "data": {
      "application/vnd.jupyter.widget-view+json": {
       "model_id": "054a631f819f4dacad58f16a999f39e3",
       "version_major": 2,
       "version_minor": 0
      },
      "text/plain": [
       "HBox(children=(IntProgress(value=0, max=800), HTML(value='')))"
      ]
     },
     "metadata": {},
     "output_type": "display_data"
    },
    {
     "name": "stdout",
     "output_type": "stream",
     "text": [
      "\n"
     ]
    }
   ],
   "source": [
    "preds_valid2 = np.array([make_orgsize_padd_mirror(predict_result(model,np.array([image]),img_size_target).squeeze()) for i, image in enumerate(tqdm_notebook(x_valid))])\n",
    "#preds_valid = predict_result(model,x_valid,img_size_target)\n",
    "#preds_valid2 = np.array([make_orgsize_padd_mirror(x) for x in preds_valid])\n",
    "y_valid2 = np.array([make_orgsize_padd_mirror(x) for x in y_valid])"
   ]
  },
  {
   "cell_type": "code",
   "execution_count": 30,
   "metadata": {},
   "outputs": [
    {
     "data": {
      "application/vnd.jupyter.widget-view+json": {
       "model_id": "e8fc4af04e8a4e7a8633695799a9134a",
       "version_major": 2,
       "version_minor": 0
      },
      "text/plain": [
       "HBox(children=(IntProgress(value=0, max=60), HTML(value='')))"
      ]
     },
     "metadata": {},
     "output_type": "display_data"
    },
    {
     "name": "stdout",
     "output_type": "stream",
     "text": [
      "\n",
      "[0.819125 0.820625 0.8225   0.82375  0.824125 0.825875 0.82575  0.826125\n",
      " 0.828375 0.828875 0.8285   0.829125 0.83075  0.83125  0.831125 0.83075\n",
      " 0.831125 0.831375 0.8315   0.8315   0.831625 0.83125  0.832    0.831625\n",
      " 0.831625 0.831375 0.83125  0.8305   0.83025  0.829625 0.828375 0.827875\n",
      " 0.827625 0.826625 0.826125 0.82625  0.826125 0.825625 0.825125 0.82425\n",
      " 0.82375  0.8235   0.82425  0.82425  0.823    0.823125 0.82225  0.821875\n",
      " 0.822    0.820875 0.8205   0.819875 0.81875  0.818375 0.81675  0.816\n",
      " 0.814625 0.813625 0.812875 0.811875]\n"
     ]
    }
   ],
   "source": [
    "## Scoring for last model\n",
    "thresholds = np.linspace(0.2, 0.8, 60)\n",
    "ious = np.array([iou_metric_batch(y_valid2, np.int32(preds_valid2 > threshold)) for threshold in tqdm_notebook(thresholds)])\n",
    "print(ious)"
   ]
  },
  {
   "cell_type": "code",
   "execution_count": 31,
   "metadata": {},
   "outputs": [
    {
     "data": {
      "text/plain": [
       "<matplotlib.legend.Legend at 0x257f4252358>"
      ]
     },
     "execution_count": 31,
     "metadata": {},
     "output_type": "execute_result"
    },
    {
     "data": {
      "image/png": "[encoded data removed]",
      "text/plain": [
       "<Figure size 432x288 with 1 Axes>"
      ]
     },
     "metadata": {
      "needs_background": "light"
     },
     "output_type": "display_data"
    }
   ],
   "source": [
    "threshold_best_index = np.argmax(ious) \n",
    "iou_best = ious[threshold_best_index]\n",
    "threshold_best = thresholds[threshold_best_index]\n",
    "\n",
    "plt.plot(thresholds, ious)\n",
    "plt.plot(threshold_best, iou_best, \"xr\", label=\"Best threshold\")\n",
    "plt.xlabel(\"Threshold\")\n",
    "plt.ylabel(\"IoU\")\n",
    "plt.title(\"Threshold vs IoU ({}, {})\".format(threshold_best, iou_best))\n",
    "plt.legend()"
   ]
  },
  {
   "cell_type": "code",
   "execution_count": 32,
   "metadata": {},
   "outputs": [
    {
     "data": {
      "application/vnd.jupyter.widget-view+json": {
       "model_id": "f75991595637443e94848e13041f81fa",
       "version_major": 2,
       "version_minor": 0
      },
      "text/plain": [
       "HBox(children=(IntProgress(value=0, max=18000), HTML(value='')))"
      ]
     },
     "metadata": {},
     "output_type": "display_data"
    },
    {
     "name": "stdout",
     "output_type": "stream",
     "text": [
      "\n",
      "(18000, 101, 101)\n"
     ]
    },
    {
     "data": {
      "application/vnd.jupyter.widget-view+json": {
       "model_id": "e330b73ef551477da59564c561312e73",
       "version_major": 2,
       "version_minor": 0
      },
      "text/plain": [
       "HBox(children=(IntProgress(value=0, max=18000), HTML(value='')))"
      ]
     },
     "metadata": {},
     "output_type": "display_data"
    },
    {
     "name": "stdout",
     "output_type": "stream",
     "text": [
      "\n",
      "UnetHB_SPDR_BINMUL_SE_MULTI_pad_with_weirdmask_bcedice_bb_resnet152_bw_imagenet_ts_256_ps_256_bs_8_sprs_9800_du_False_mu_False\n",
      "-0.4237286806911558\n",
      "0.576271186440678\n",
      "-0.18035180489505975\n"
     ]
    }
   ],
   "source": [
    "preds_test = np.array([make_orgsize_padd_mirror(predict_result(model,np.array([image]),img_size_target).squeeze()) for i, image in enumerate(tqdm_notebook(x_test_add_z_image))])\n",
    "#preds_test.squeeze()\n",
    "print(preds_test.shape)\n",
    "preds_test =preds_test -threshold_best\n",
    "pred_dict = {idx: RLenc(np.round((preds_test[i]) > 0)) for i, idx in enumerate(tqdm_notebook(test_df.index.values))}\n",
    "sub = pd.DataFrame.from_dict(pred_dict,orient='index')\n",
    "sub.index.names = ['id']\n",
    "sub.columns = ['rle_mask']\n",
    "sub.to_csv(\"lvs_\" + str(round(iou_best*1000)) + model_name+ '_submission.csv')\n",
    "pred_probs_file_name = \"./probs/\"+ \"lvs_\" + str(round(iou_best*1000)) + \"test_\" +  model_name + \".npy\" \n",
    "np.save(pred_probs_file_name,preds_test)\n",
    "print(model_name)\n",
    "print(preds_test.min())\n",
    "print(preds_test.max())\n",
    "print(preds_test.mean())"
   ]
  },
  {
   "cell_type": "markdown",
   "metadata": {},
   "source": [
    "# rovasz_loss fine tunning"
   ]
  },
  {
   "cell_type": "code",
   "execution_count": 33,
   "metadata": {},
   "outputs": [],
   "source": [
    "with open(best_model_config_path) as json_data:\n",
    "    json_model1 = json.load(json_data)\n",
    "model1 = model_from_json(json_model1,custom_objects={'my_iou_metric': my_iou_metric})\n",
    "#model1 = load_model(best_model_save_path,custom_objects={'my_iou_metric': my_iou_metric})\n",
    "model1.load_weights(best_model_save_path)\n",
    "# remove layter activation layer and use losvasz loss\n",
    "input_x = model1.layers[0].input\n",
    "fusion_input = model1.get_layer(\"fusion\").input\n",
    "classification = model1.get_layer(\"classification\").output\n",
    "hypercolumn = model1.get_layer(\"hypercolumn\").output\n",
    "model = Model(input_x, [classification,hypercolumn,fusion_input])\n",
    "learning_rate = 0.0001\n",
    "opt = Adam(lr = learning_rate)\n",
    "#opt = Adam(lr = learning_rate)\n",
    "\n",
    "losses = [binary_crossentropy,bce_dice_loss_non_empty,lovasz_loss]\n",
    "lossWeights = [0.05,0.1,1.0]\n",
    "y_tt = [bin_class_train,y_train,y_train]\n",
    "y_vv = [bin_class_valid,y_valid,y_valid]\n",
    "mertrics2 = {'final_conv':my_iou_metric_2}\n",
    "#opt = SGD(lr = 0.001, momentum=0.9, decay=0.0001)\n",
    "\n",
    "# lovasz_loss need input range (-∞，+∞), so cancel the last \"sigmoid\" activation  \n",
    "# Then the default threshod for pixel prediction is 0 instead of 0.5, as in my_iou_metric_2.\n",
    "model.compile(optimizer=opt, loss=losses ,loss_weights=lossWeights, metrics=mertrics2)"
   ]
  },
  {
   "cell_type": "code",
   "execution_count": 34,
   "metadata": {},
   "outputs": [],
   "source": [
    "model_name = model_name +\"_fine_lovas\"\n",
    "best_model_save_path = './model/'+ model_name + '.h5'\n",
    "best_model_config_path = './model/'+ model_name + '.json'\n",
    "model_config = model.to_json()\n",
    "with open(best_model_config_path, 'w') as outfile:\n",
    "    json.dump(model_config, outfile)"
   ]
  },
  {
   "cell_type": "code",
   "execution_count": 35,
   "metadata": {},
   "outputs": [],
   "source": [
    "callbacks3 = [EarlyStopping(monitor='val_final_conv_my_iou_metric_2',\n",
    "                           patience=20,\n",
    "                           verbose=1,\n",
    "                           min_delta=0.00001,\n",
    "                           mode='max'),\n",
    "             ReduceLROnPlateau(monitor='val_final_conv_my_iou_metric_2',\n",
    "                               factor=0.5,\n",
    "                               patience=8,\n",
    "                               verbose=1,\n",
    "                               min_delta=0.00001,\n",
    "                               mode='max'),\n",
    "             ModelCheckpoint(monitor='val_final_conv_my_iou_metric_2',\n",
    "                             filepath= best_model_save_path,\n",
    "                             save_best_only=True,\n",
    "                             save_weights_only = True,\n",
    "                             mode='max') ,\n",
    "             TQDMNotebookCallback()\n",
    "             #TQDMCallback(),\n",
    "             #TensorBoard(log_dir='c:/users/daewoo/tb/', histogram_freq=0, write_graph=True, write_images=True)             \n",
    "             ]"
   ]
  },
  {
   "cell_type": "code",
   "execution_count": 36,
   "metadata": {},
   "outputs": [
    {
     "name": "stdout",
     "output_type": "stream",
     "text": [
      "Train on 6400 samples, validate on 800 samples\n"
     ]
    },
    {
     "data": {
      "application/vnd.jupyter.widget-view+json": {
       "model_id": "642a6a0dcade4fc883c166bd0814be88",
       "version_major": 2,
       "version_minor": 0
      },
      "text/plain": [
       "HBox(children=(IntProgress(value=0, description='Training', max=50), HTML(value='')))"
      ]
     },
     "metadata": {},
     "output_type": "display_data"
    },
    {
     "name": "stdout",
     "output_type": "stream",
     "text": [
      "Epoch 1/50\n"
     ]
    },
    {
     "data": {
      "application/vnd.jupyter.widget-view+json": {
       "model_id": "",
       "version_major": 2,
       "version_minor": 0
      },
      "text/plain": [
       "HBox(children=(IntProgress(value=0, description='Epoch 0', max=6400), HTML(value='')))"
      ]
     },
     "metadata": {},
     "output_type": "display_data"
    },
    {
     "name": "stdout",
     "output_type": "stream",
     "text": [
      " - 727s - loss: 0.6059 - classification_loss: 0.1240 - hypercolumn_loss: 0.1330 - final_conv_loss: 0.3489 - final_conv_my_iou_metric_2: 0.8497 - val_loss: 1.0760 - val_classification_loss: 0.3239 - val_hypercolumn_loss: 0.3160 - val_final_conv_loss: 0.4360 - val_final_conv_my_iou_metric_2: 0.7960\n",
      "Epoch 2/50\n"
     ]
    },
    {
     "data": {
      "application/vnd.jupyter.widget-view+json": {
       "model_id": "",
       "version_major": 2,
       "version_minor": 0
      },
      "text/plain": [
       "HBox(children=(IntProgress(value=0, description='Epoch 1', max=6400), HTML(value='')))"
      ]
     },
     "metadata": {},
     "output_type": "display_data"
    },
    {
     "name": "stdout",
     "output_type": "stream",
     "text": [
      " - 672s - loss: 0.4469 - classification_loss: 0.0773 - hypercolumn_loss: 0.1041 - final_conv_loss: 0.2654 - final_conv_my_iou_metric_2: 0.8676 - val_loss: 1.1659 - val_classification_loss: 0.4145 - val_hypercolumn_loss: 0.3257 - val_final_conv_loss: 0.4257 - val_final_conv_my_iou_metric_2: 0.7921\n",
      "Epoch 3/50\n"
     ]
    },
    {
     "data": {
      "application/vnd.jupyter.widget-view+json": {
       "model_id": "",
       "version_major": 2,
       "version_minor": 0
      },
      "text/plain": [
       "HBox(children=(IntProgress(value=0, description='Epoch 2', max=6400), HTML(value='')))"
      ]
     },
     "metadata": {},
     "output_type": "display_data"
    },
    {
     "name": "stdout",
     "output_type": "stream",
     "text": [
      " - 673s - loss: 0.4973 - classification_loss: 0.0960 - hypercolumn_loss: 0.1280 - final_conv_loss: 0.2734 - final_conv_my_iou_metric_2: 0.8623 - val_loss: 1.0515 - val_classification_loss: 0.2737 - val_hypercolumn_loss: 0.3664 - val_final_conv_loss: 0.4114 - val_final_conv_my_iou_metric_2: 0.7895\n",
      "Epoch 4/50\n"
     ]
    },
    {
     "data": {
      "application/vnd.jupyter.widget-view+json": {
       "model_id": "",
       "version_major": 2,
       "version_minor": 0
      },
      "text/plain": [
       "HBox(children=(IntProgress(value=0, description='Epoch 3', max=6400), HTML(value='')))"
      ]
     },
     "metadata": {},
     "output_type": "display_data"
    },
    {
     "name": "stdout",
     "output_type": "stream",
     "text": [
      " - 677s - loss: 0.3904 - classification_loss: 0.0649 - hypercolumn_loss: 0.0965 - final_conv_loss: 0.2290 - final_conv_my_iou_metric_2: 0.8756 - val_loss: 1.0261 - val_classification_loss: 0.3178 - val_hypercolumn_loss: 0.3218 - val_final_conv_loss: 0.3866 - val_final_conv_my_iou_metric_2: 0.8069\n",
      "Epoch 5/50\n"
     ]
    },
    {
     "data": {
      "application/vnd.jupyter.widget-view+json": {
       "model_id": "",
       "version_major": 2,
       "version_minor": 0
      },
      "text/plain": [
       "HBox(children=(IntProgress(value=0, description='Epoch 4', max=6400), HTML(value='')))"
      ]
     },
     "metadata": {},
     "output_type": "display_data"
    },
    {
     "name": "stdout",
     "output_type": "stream",
     "text": [
      " - 674s - loss: 0.4700 - classification_loss: 0.0823 - hypercolumn_loss: 0.1268 - final_conv_loss: 0.2608 - final_conv_my_iou_metric_2: 0.8644 - val_loss: 1.0607 - val_classification_loss: 0.3037 - val_hypercolumn_loss: 0.3314 - val_final_conv_loss: 0.4256 - val_final_conv_my_iou_metric_2: 0.7839\n",
      "Epoch 6/50\n"
     ]
    },
    {
     "data": {
      "application/vnd.jupyter.widget-view+json": {
       "model_id": "33183783f8794124addb9f8bfbbc19fd",
       "version_major": 2,
       "version_minor": 0
      },
      "text/plain": [
       "HBox(children=(IntProgress(value=0, description='Epoch 5', max=6400), HTML(value='')))"
      ]
     },
     "metadata": {},
     "output_type": "display_data"
    },
    {
     "ename": "KeyboardInterrupt",
     "evalue": "",
     "output_type": "error",
     "traceback": [
      "\u001b[1;31m---------------------------------------------------------------------------\u001b[0m",
      "\u001b[1;31mKeyboardInterrupt\u001b[0m                         Traceback (most recent call last)",
      "\u001b[1;32m<ipython-input-36-b4e44f005f7d>\u001b[0m in \u001b[0;36m<module>\u001b[1;34m()\u001b[0m\n\u001b[0;32m      5\u001b[0m                     \u001b[0mbatch_size\u001b[0m\u001b[1;33m=\u001b[0m\u001b[0mBATCH_SIZE\u001b[0m\u001b[1;33m,\u001b[0m\u001b[1;33m\u001b[0m\u001b[0m\n\u001b[0;32m      6\u001b[0m                     \u001b[0mcallbacks\u001b[0m\u001b[1;33m=\u001b[0m\u001b[0mcallbacks3\u001b[0m\u001b[1;33m,\u001b[0m\u001b[1;33m\u001b[0m\u001b[0m\n\u001b[1;32m----> 7\u001b[1;33m                     verbose=2)\n\u001b[0m",
      "\u001b[1;32mC:\\Anaconda3\\envs\\py36\\lib\\site-packages\\keras\\engine\\training.py\u001b[0m in \u001b[0;36mfit\u001b[1;34m(self, x, y, batch_size, epochs, verbose, callbacks, validation_split, validation_data, shuffle, class_weight, sample_weight, initial_epoch, steps_per_epoch, validation_steps, **kwargs)\u001b[0m\n\u001b[0;32m   1035\u001b[0m                                         \u001b[0minitial_epoch\u001b[0m\u001b[1;33m=\u001b[0m\u001b[0minitial_epoch\u001b[0m\u001b[1;33m,\u001b[0m\u001b[1;33m\u001b[0m\u001b[0m\n\u001b[0;32m   1036\u001b[0m                                         \u001b[0msteps_per_epoch\u001b[0m\u001b[1;33m=\u001b[0m\u001b[0msteps_per_epoch\u001b[0m\u001b[1;33m,\u001b[0m\u001b[1;33m\u001b[0m\u001b[0m\n\u001b[1;32m-> 1037\u001b[1;33m                                         validation_steps=validation_steps)\n\u001b[0m\u001b[0;32m   1038\u001b[0m \u001b[1;33m\u001b[0m\u001b[0m\n\u001b[0;32m   1039\u001b[0m     def evaluate(self, x=None, y=None,\n",
      "\u001b[1;32mC:\\Anaconda3\\envs\\py36\\lib\\site-packages\\keras\\engine\\training_arrays.py\u001b[0m in \u001b[0;36mfit_loop\u001b[1;34m(model, f, ins, out_labels, batch_size, epochs, verbose, callbacks, val_f, val_ins, shuffle, callback_metrics, initial_epoch, steps_per_epoch, validation_steps)\u001b[0m\n\u001b[0;32m    197\u001b[0m                     \u001b[0mins_batch\u001b[0m\u001b[1;33m[\u001b[0m\u001b[0mi\u001b[0m\u001b[1;33m]\u001b[0m \u001b[1;33m=\u001b[0m \u001b[0mins_batch\u001b[0m\u001b[1;33m[\u001b[0m\u001b[0mi\u001b[0m\u001b[1;33m]\u001b[0m\u001b[1;33m.\u001b[0m\u001b[0mtoarray\u001b[0m\u001b[1;33m(\u001b[0m\u001b[1;33m)\u001b[0m\u001b[1;33m\u001b[0m\u001b[0m\n\u001b[0;32m    198\u001b[0m \u001b[1;33m\u001b[0m\u001b[0m\n\u001b[1;32m--> 199\u001b[1;33m                 \u001b[0mouts\u001b[0m \u001b[1;33m=\u001b[0m \u001b[0mf\u001b[0m\u001b[1;33m(\u001b[0m\u001b[0mins_batch\u001b[0m\u001b[1;33m)\u001b[0m\u001b[1;33m\u001b[0m\u001b[0m\n\u001b[0m\u001b[0;32m    200\u001b[0m                 \u001b[0mouts\u001b[0m \u001b[1;33m=\u001b[0m \u001b[0mto_list\u001b[0m\u001b[1;33m(\u001b[0m\u001b[0mouts\u001b[0m\u001b[1;33m)\u001b[0m\u001b[1;33m\u001b[0m\u001b[0m\n\u001b[0;32m    201\u001b[0m                 \u001b[1;32mfor\u001b[0m \u001b[0ml\u001b[0m\u001b[1;33m,\u001b[0m \u001b[0mo\u001b[0m \u001b[1;32min\u001b[0m \u001b[0mzip\u001b[0m\u001b[1;33m(\u001b[0m\u001b[0mout_labels\u001b[0m\u001b[1;33m,\u001b[0m \u001b[0mouts\u001b[0m\u001b[1;33m)\u001b[0m\u001b[1;33m:\u001b[0m\u001b[1;33m\u001b[0m\u001b[0m\n",
      "\u001b[1;32mC:\\Anaconda3\\envs\\py36\\lib\\site-packages\\keras\\backend\\tensorflow_backend.py\u001b[0m in \u001b[0;36m__call__\u001b[1;34m(self, inputs)\u001b[0m\n\u001b[0;32m   2664\u001b[0m                 \u001b[1;32mreturn\u001b[0m \u001b[0mself\u001b[0m\u001b[1;33m.\u001b[0m\u001b[0m_legacy_call\u001b[0m\u001b[1;33m(\u001b[0m\u001b[0minputs\u001b[0m\u001b[1;33m)\u001b[0m\u001b[1;33m\u001b[0m\u001b[0m\n\u001b[0;32m   2665\u001b[0m \u001b[1;33m\u001b[0m\u001b[0m\n\u001b[1;32m-> 2666\u001b[1;33m             \u001b[1;32mreturn\u001b[0m \u001b[0mself\u001b[0m\u001b[1;33m.\u001b[0m\u001b[0m_call\u001b[0m\u001b[1;33m(\u001b[0m\u001b[0minputs\u001b[0m\u001b[1;33m)\u001b[0m\u001b[1;33m\u001b[0m\u001b[0m\n\u001b[0m\u001b[0;32m   2667\u001b[0m         \u001b[1;32melse\u001b[0m\u001b[1;33m:\u001b[0m\u001b[1;33m\u001b[0m\u001b[0m\n\u001b[0;32m   2668\u001b[0m             \u001b[1;32mif\u001b[0m \u001b[0mpy_any\u001b[0m\u001b[1;33m(\u001b[0m\u001b[0mis_tensor\u001b[0m\u001b[1;33m(\u001b[0m\u001b[0mx\u001b[0m\u001b[1;33m)\u001b[0m \u001b[1;32mfor\u001b[0m \u001b[0mx\u001b[0m \u001b[1;32min\u001b[0m \u001b[0minputs\u001b[0m\u001b[1;33m)\u001b[0m\u001b[1;33m:\u001b[0m\u001b[1;33m\u001b[0m\u001b[0m\n",
      "\u001b[1;32mC:\\Anaconda3\\envs\\py36\\lib\\site-packages\\keras\\backend\\tensorflow_backend.py\u001b[0m in \u001b[0;36m_call\u001b[1;34m(self, inputs)\u001b[0m\n\u001b[0;32m   2634\u001b[0m                                 \u001b[0msymbol_vals\u001b[0m\u001b[1;33m,\u001b[0m\u001b[1;33m\u001b[0m\u001b[0m\n\u001b[0;32m   2635\u001b[0m                                 session)\n\u001b[1;32m-> 2636\u001b[1;33m         \u001b[0mfetched\u001b[0m \u001b[1;33m=\u001b[0m \u001b[0mself\u001b[0m\u001b[1;33m.\u001b[0m\u001b[0m_callable_fn\u001b[0m\u001b[1;33m(\u001b[0m\u001b[1;33m*\u001b[0m\u001b[0marray_vals\u001b[0m\u001b[1;33m)\u001b[0m\u001b[1;33m\u001b[0m\u001b[0m\n\u001b[0m\u001b[0;32m   2637\u001b[0m         \u001b[1;32mreturn\u001b[0m \u001b[0mfetched\u001b[0m\u001b[1;33m[\u001b[0m\u001b[1;33m:\u001b[0m\u001b[0mlen\u001b[0m\u001b[1;33m(\u001b[0m\u001b[0mself\u001b[0m\u001b[1;33m.\u001b[0m\u001b[0moutputs\u001b[0m\u001b[1;33m)\u001b[0m\u001b[1;33m]\u001b[0m\u001b[1;33m\u001b[0m\u001b[0m\n\u001b[0;32m   2638\u001b[0m \u001b[1;33m\u001b[0m\u001b[0m\n",
      "\u001b[1;32mC:\\Anaconda3\\envs\\py36\\lib\\site-packages\\tensorflow\\python\\client\\session.py\u001b[0m in \u001b[0;36m__call__\u001b[1;34m(self, *args, **kwargs)\u001b[0m\n\u001b[0;32m   1380\u001b[0m           ret = tf_session.TF_SessionRunCallable(\n\u001b[0;32m   1381\u001b[0m               \u001b[0mself\u001b[0m\u001b[1;33m.\u001b[0m\u001b[0m_session\u001b[0m\u001b[1;33m.\u001b[0m\u001b[0m_session\u001b[0m\u001b[1;33m,\u001b[0m \u001b[0mself\u001b[0m\u001b[1;33m.\u001b[0m\u001b[0m_handle\u001b[0m\u001b[1;33m,\u001b[0m \u001b[0margs\u001b[0m\u001b[1;33m,\u001b[0m \u001b[0mstatus\u001b[0m\u001b[1;33m,\u001b[0m\u001b[1;33m\u001b[0m\u001b[0m\n\u001b[1;32m-> 1382\u001b[1;33m               run_metadata_ptr)\n\u001b[0m\u001b[0;32m   1383\u001b[0m         \u001b[1;32mif\u001b[0m \u001b[0mrun_metadata\u001b[0m\u001b[1;33m:\u001b[0m\u001b[1;33m\u001b[0m\u001b[0m\n\u001b[0;32m   1384\u001b[0m           \u001b[0mproto_data\u001b[0m \u001b[1;33m=\u001b[0m \u001b[0mtf_session\u001b[0m\u001b[1;33m.\u001b[0m\u001b[0mTF_GetBuffer\u001b[0m\u001b[1;33m(\u001b[0m\u001b[0mrun_metadata_ptr\u001b[0m\u001b[1;33m)\u001b[0m\u001b[1;33m\u001b[0m\u001b[0m\n",
      "\u001b[1;31mKeyboardInterrupt\u001b[0m: "
     ]
    }
   ],
   "source": [
    "set_trainable(model)\n",
    "history3 = model.fit(x_train, y_tt,\n",
    "                    validation_data=[x_valid, y_vv], \n",
    "                    epochs=50,\n",
    "                    batch_size=BATCH_SIZE,\n",
    "                    callbacks=callbacks3, \n",
    "                    verbose=2)"
   ]
  },
  {
   "cell_type": "markdown",
   "metadata": {
    "_uuid": "f1773642758da7b4480e0e48c045bd01ea3684ae",
    "scrolled": true
   },
   "source": [
    "epochs = 200\n",
    "batch_size = BATCH_SIZE\n",
    "\n",
    "history = model.fit(x_train, y_train,\n",
    "                    validation_data=[x_valid, y_valid], \n",
    "                    epochs=epochs,\n",
    "                    verbose=2,\n",
    "                    batch_size=batch_size,\n",
    "                    callbacks=callbacks,\n",
    "                   shuffle=True)"
   ]
  },
  {
   "cell_type": "code",
   "execution_count": null,
   "metadata": {
    "_uuid": "42e9ef3c4e0a2bb2539e5e51740ba6bfc092d37c"
   },
   "outputs": [],
   "source": [
    "fig, (ax_loss, ax_acc) = plt.subplots(1, 2, figsize=(15,5))\n",
    "ax_loss.plot(history3.epoch, history3.history[\"loss\"], label=\"Train loss\")\n",
    "ax_loss.plot(history3.epoch, history3.history[\"val_loss\"], label=\"Validation loss\")\n",
    "ax_acc.plot(history3.epoch, history3.history[\"final_conv_my_iou_metric_2\"], label=\"Train accuracy\")\n",
    "ax_acc.plot(history3.epoch, history3.history[\"val_final_conv_my_iou_metric_2\"], label=\"Validation accuracy\")"
   ]
  },
  {
   "cell_type": "code",
   "execution_count": null,
   "metadata": {
    "_uuid": "c824f6bca47f051500966c433ce7fb5a9528f6d7"
   },
   "outputs": [],
   "source": [
    "#model = load_model(\"./tgs_model.h5\")\n",
    "model.load_weights(best_model_save_path)"
   ]
  },
  {
   "cell_type": "markdown",
   "metadata": {
    "_uuid": "0f168318eadb324daa8c020f0e3e0a24d82a464f"
   },
   "source": [
    "# Predict the validation set to do a sanity check\n",
    "Again plot some sample images including the predictions."
   ]
  },
  {
   "cell_type": "markdown",
   "metadata": {},
   "source": [
    "x_valid_resize_patch = np.array([downpatchsize(x) for x in x_valid])\n",
    "print(x_valid_resize_patch.shape)"
   ]
  },
  {
   "cell_type": "markdown",
   "metadata": {
    "_uuid": "16cbfe2fee11a8b13b96ce78161ce19b5e5a0c46"
   },
   "source": [
    "preds_valid = model.predict(x_valid_resize_patch)\n",
    "preds_valid = np.array([uporgsize(x) for x in preds_valid])\n",
    "y_valid_ori = np.array([train_df.loc[idx].masks for idx in ids_valid])"
   ]
  },
  {
   "cell_type": "markdown",
   "metadata": {},
   "source": [
    "preds_valid.shape\n",
    "y_valid_ori.shape"
   ]
  },
  {
   "cell_type": "markdown",
   "metadata": {
    "_uuid": "fd973023204ebf921fe1f23748856e6a6f692aa4",
    "collapsed": true
   },
   "source": [
    "# Scoring\n",
    "Score the model and do a threshold optimization by the best IoU."
   ]
  },
  {
   "cell_type": "code",
   "execution_count": null,
   "metadata": {
    "scrolled": true
   },
   "outputs": [],
   "source": [
    "len(x_test_add_z_image)"
   ]
  },
  {
   "cell_type": "code",
   "execution_count": null,
   "metadata": {},
   "outputs": [],
   "source": [
    "preds_valid2 = np.array([make_orgsize_padd_mirror(predict_result(model,np.array([image]),img_size_target).squeeze()) for i, image in enumerate(tqdm_notebook(x_valid))])\n",
    "\n",
    "#preds_valid = predict_result(model,x_valid,img_size_target)\n",
    "#preds_valid2 = np.array([make_orgsize_padd_mirror(x) for x in preds_valid])\n",
    "y_valid2 = np.array([make_orgsize_padd_mirror(x) for x in y_valid])"
   ]
  },
  {
   "cell_type": "markdown",
   "metadata": {},
   "source": [
    "## Scoring for last model\n",
    "thresholds = np.linspace(0.1, 0.7, 41)\n",
    "ious = np.array([iou_metric_batch(y_valid2, np.int32(preds_valid2 > threshold)) for threshold in tqdm_notebook(thresholds)])"
   ]
  },
  {
   "cell_type": "code",
   "execution_count": null,
   "metadata": {},
   "outputs": [],
   "source": [
    "## Scoring for last model, choose threshold by validation data \n",
    "thresholds_ori = np.linspace(0.3, 0.7, 40)\n",
    "# Reverse sigmoid function: Use code below because the  sigmoid activation was removed\n",
    "thresholds = np.log(thresholds_ori/(1-thresholds_ori)) \n",
    "\n",
    "# ious = np.array([get_iou_vector(y_valid, preds_valid > threshold) for threshold in tqdm_notebook(thresholds)])\n",
    "# print(ious) #iou_metric_batch(y_valid2, np.int32(preds_valid2 > threshold))\n",
    "ious = np.array([iou_metric_batch(y_valid2, np.int32(preds_valid2 > threshold)) for threshold in tqdm_notebook(thresholds)])\n",
    "print(ious)"
   ]
  },
  {
   "cell_type": "code",
   "execution_count": null,
   "metadata": {},
   "outputs": [],
   "source": [
    "threshold_best_index = np.argmax(ious) \n",
    "iou_best = ious[threshold_best_index]\n",
    "threshold_best = thresholds[threshold_best_index]\n",
    "\n",
    "plt.plot(thresholds, ious)\n",
    "plt.plot(threshold_best, iou_best, \"xr\", label=\"Best threshold\")\n",
    "plt.xlabel(\"Threshold\")\n",
    "plt.ylabel(\"IoU\")\n",
    "plt.title(\"Threshold vs IoU ({}, {})\".format(threshold_best, iou_best))\n",
    "plt.legend()"
   ]
  },
  {
   "cell_type": "markdown",
   "metadata": {},
   "source": [
    "# Submission\n",
    "Load, predict and submit the test image predictions."
   ]
  },
  {
   "cell_type": "markdown",
   "metadata": {},
   "source": [
    "def normalize_lovasz_probs(prob):\n",
    "    pos_max = 0\n",
    "    neg_min = 0\n",
    "    for y in range(prob.shape[0]):\n",
    "        for x in range(prob.shape[1]):\n",
    "            if prob[y,x] > pos_max :\n",
    "                pos_max = prob[y,x]\n",
    "            if prob[y,x] < neg_min :\n",
    "                neg_min = prob[y,x]\n",
    "                \n",
    "    for y in range(prob.shape[0]):\n",
    "        for x in range(prob.shape[1]):\n",
    "            if prob[y,x] > 0 and pos_max != 0:\n",
    "                prob[y,x] = prob[y,x]/pos_max\n",
    "            if prob[y,x] < 0 and neg_min != 0:\n",
    "                prob[y,x] = prob[y,x]/abs(neg_min)                      "
   ]
  },
  {
   "cell_type": "code",
   "execution_count": null,
   "metadata": {},
   "outputs": [],
   "source": [
    "preds_test = np.array([make_orgsize_padd_mirror(predict_result(model,np.array([image]),img_size_target).squeeze()) for i, image in enumerate(tqdm_notebook(x_test_add_z_image))])\n",
    "#preds_test.squeeze()\n",
    "print(preds_test.shape)\n",
    "preds_test =preds_test -threshold_best\n",
    "pred_dict = {idx: RLenc(np.round((preds_test[i]) > 0)) for i, idx in enumerate(tqdm_notebook(test_df.index.values))}\n",
    "sub = pd.DataFrame.from_dict(pred_dict,orient='index')\n",
    "sub.index.names = ['id']\n",
    "sub.columns = ['rle_mask']\n",
    "sub.to_csv(\"lvs_\" + str(round(iou_best*1000)) + model_name+ '_submission.csv')\n",
    "pred_probs_file_name = \"./probs/\"+ \"lvs_\" + str(round(iou_best*1000)) + \"test_lovas_\" +  model_name + \".npy\" \n",
    "np.save(pred_probs_file_name,preds_test)\n",
    "print(model_name)\n",
    "print(preds_test.min())\n",
    "print(preds_test.max())\n",
    "print(preds_test.mean())"
   ]
  },
  {
   "cell_type": "code",
   "execution_count": null,
   "metadata": {},
   "outputs": [],
   "source": [
    "model_name"
   ]
  },
  {
   "cell_type": "code",
   "execution_count": null,
   "metadata": {},
   "outputs": [],
   "source": [
    "model.layers[-1]"
   ]
  },
  {
   "cell_type": "code",
   "execution_count": null,
   "metadata": {},
   "outputs": [],
   "source": []
  },
  {
   "cell_type": "code",
   "execution_count": null,
   "metadata": {},
   "outputs": [],
   "source": []
  }
 ],
 "metadata": {
  "kernelspec": {
   "display_name": "py36",
   "language": "python",
   "name": "py36"
  },
  "language_info": {
   "codemirror_mode": {
    "name": "ipython",
    "version": 3
   },
   "file_extension": ".py",
   "mimetype": "text/x-python",
   "name": "python",
   "nbconvert_exporter": "python",
   "pygments_lexer": "ipython3",
   "version": "3.6.6"
  }
 },
 "nbformat": 4,
 "nbformat_minor": 1
}
